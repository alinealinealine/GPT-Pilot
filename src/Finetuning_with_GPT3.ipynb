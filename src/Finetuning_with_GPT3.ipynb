{
  "nbformat": 4,
  "nbformat_minor": 0,
  "metadata": {
    "colab": {
      "provenance": [],
      "include_colab_link": true
    },
    "kernelspec": {
      "name": "python3",
      "display_name": "Python 3"
    },
    "language_info": {
      "name": "python"
    }
  },
  "cells": [
    {
      "cell_type": "markdown",
      "metadata": {
        "id": "view-in-github",
        "colab_type": "text"
      },
      "source": [
        "<a href=\"https://colab.research.google.com/github/alinealinealine/GPT-Pilot/blob/main/src/Finetuning_with_GPT3.ipynb\" target=\"_parent\"><img src=\"https://colab.research.google.com/assets/colab-badge.svg\" alt=\"Open In Colab\"/></a>"
      ]
    },
    {
      "cell_type": "markdown",
      "source": [
        "# Fine-Tune GPT-3 for AIMM narrative ex-ante\n",
        "\n",
        "OpenAI's GPT-3 is a natural language model trained on large set of training data. It can be used for various tasks, including to generate data. \n",
        "\n",
        "However, the model is generalist in nature and thus, not fit for specialised tasks in its original or vaniall version. However, will a bit of finetuning it can be used for more specialised tasks such as generating AIMM text. \n",
        "\n",
        "The fine-tuning happens via OpenAI's API to fine tune GPT-3. "
      ],
      "metadata": {
        "id": "IKvXNTD4z6hW"
      }
    },
    {
      "cell_type": "markdown",
      "source": [
        "## Installing dependencies and libraries"
      ],
      "metadata": {
        "id": "Ok-vp7KIzqtR"
      }
    },
    {
      "cell_type": "code",
      "source": [
        "!pip install --upgrade pip"
      ],
      "metadata": {
        "colab": {
          "base_uri": "https://localhost:8080/"
        },
        "id": "FABh1rfFM4Lj",
        "outputId": "7c42f681-d1f2-4849-fdd8-b5c91b0e0458"
      },
      "execution_count": 1,
      "outputs": [
        {
          "output_type": "stream",
          "name": "stdout",
          "text": [
            "Looking in indexes: https://pypi.org/simple, https://us-python.pkg.dev/colab-wheels/public/simple/\n",
            "Requirement already satisfied: pip in /usr/local/lib/python3.9/dist-packages (22.0.4)\n",
            "Collecting pip\n",
            "  Downloading pip-23.0.1-py3-none-any.whl (2.1 MB)\n",
            "\u001b[2K     \u001b[90m━━━━━━━━━━━━━━━━━━━━━━━━━━━━━━━━━━━━━━━━\u001b[0m \u001b[32m2.1/2.1 MB\u001b[0m \u001b[31m17.1 MB/s\u001b[0m eta \u001b[36m0:00:00\u001b[0m\n",
            "\u001b[?25hInstalling collected packages: pip\n",
            "  Attempting uninstall: pip\n",
            "    Found existing installation: pip 22.0.4\n",
            "    Uninstalling pip-22.0.4:\n",
            "      Successfully uninstalled pip-22.0.4\n",
            "Successfully installed pip-23.0.1\n"
          ]
        }
      ]
    },
    {
      "cell_type": "code",
      "execution_count": 2,
      "metadata": {
        "colab": {
          "base_uri": "https://localhost:8080/"
        },
        "id": "_sm4C8Csy9Uo",
        "outputId": "3f64e95a-dd20-463f-adf6-183e11676148"
      },
      "outputs": [
        {
          "output_type": "stream",
          "name": "stdout",
          "text": [
            "\u001b[?25l     \u001b[90m━━━━━━━━━━━━━━━━━━━━━━━━━━━━━━━━━━━━━━━━\u001b[0m \u001b[32m0.0/57.3 kB\u001b[0m \u001b[31m?\u001b[0m eta \u001b[36m-:--:--\u001b[0m\r\u001b[2K     \u001b[91m━━━━━━━━━━━━━━━━━━━━━━━━━━━━━━━━━━━\u001b[0m\u001b[91m╸\u001b[0m\u001b[90m━━━━\u001b[0m \u001b[32m51.2/57.3 kB\u001b[0m \u001b[31m2.7 MB/s\u001b[0m eta \u001b[36m0:00:01\u001b[0m\r\u001b[2K     \u001b[90m━━━━━━━━━━━━━━━━━━━━━━━━━━━━━━━━━━━━━━━━\u001b[0m \u001b[32m57.3/57.3 kB\u001b[0m \u001b[31m1.1 MB/s\u001b[0m eta \u001b[36m0:00:00\u001b[0m\n",
            "\u001b[?25h  Installing build dependencies ... \u001b[?25l\u001b[?25hdone\n",
            "  Getting requirements to build wheel ... \u001b[?25l\u001b[?25hdone\n",
            "  Installing backend dependencies ... \u001b[?25l\u001b[?25hdone\n",
            "  Preparing metadata (pyproject.toml) ... \u001b[?25l\u001b[?25hdone\n",
            "\u001b[2K     \u001b[90m━━━━━━━━━━━━━━━━━━━━━━━━━━━━━━━━━━━━━━━━\u001b[0m \u001b[32m2.0/2.0 MB\u001b[0m \u001b[31m23.4 MB/s\u001b[0m eta \u001b[36m0:00:00\u001b[0m\n",
            "\u001b[2K     \u001b[90m━━━━━━━━━━━━━━━━━━━━━━━━━━━━━━━━━━━━━━━━\u001b[0m \u001b[32m1.0/1.0 MB\u001b[0m \u001b[31m51.9 MB/s\u001b[0m eta \u001b[36m0:00:00\u001b[0m\n",
            "\u001b[?25h  Preparing metadata (setup.py) ... \u001b[?25l\u001b[?25hdone\n",
            "\u001b[2K     \u001b[90m━━━━━━━━━━━━━━━━━━━━━━━━━━━━━━━━━━━━━━\u001b[0m \u001b[32m184.3/184.3 kB\u001b[0m \u001b[31m17.3 MB/s\u001b[0m eta \u001b[36m0:00:00\u001b[0m\n",
            "\u001b[2K     \u001b[90m━━━━━━━━━━━━━━━━━━━━━━━━━━━━━━━━━━━━━━\u001b[0m \u001b[32m184.3/184.3 kB\u001b[0m \u001b[31m18.2 MB/s\u001b[0m eta \u001b[36m0:00:00\u001b[0m\n",
            "\u001b[2K     \u001b[90m━━━━━━━━━━━━━━━━━━━━━━━━━━━━━━━━━━━━━━━━\u001b[0m \u001b[32m62.7/62.7 kB\u001b[0m \u001b[31m5.9 MB/s\u001b[0m eta \u001b[36m0:00:00\u001b[0m\n",
            "\u001b[2K     \u001b[90m━━━━━━━━━━━━━━━━━━━━━━━━━━━━━━━━━━━━━━\u001b[0m \u001b[32m158.8/158.8 kB\u001b[0m \u001b[31m13.6 MB/s\u001b[0m eta \u001b[36m0:00:00\u001b[0m\n",
            "\u001b[2K     \u001b[90m━━━━━━━━━━━━━━━━━━━━━━━━━━━━━━━━━━━━━━\u001b[0m \u001b[32m264.6/264.6 kB\u001b[0m \u001b[31m19.4 MB/s\u001b[0m eta \u001b[36m0:00:00\u001b[0m\n",
            "\u001b[2K     \u001b[90m━━━━━━━━━━━━━━━━━━━━━━━━━━━━━━━━━━━━━━\u001b[0m \u001b[32m199.2/199.2 kB\u001b[0m \u001b[31m14.3 MB/s\u001b[0m eta \u001b[36m0:00:00\u001b[0m\n",
            "\u001b[2K     \u001b[90m━━━━━━━━━━━━━━━━━━━━━━━━━━━━━━━━━━━━━━\u001b[0m \u001b[32m114.2/114.2 kB\u001b[0m \u001b[31m11.5 MB/s\u001b[0m eta \u001b[36m0:00:00\u001b[0m\n",
            "\u001b[?25h  Building wheel for openai (pyproject.toml) ... \u001b[?25l\u001b[?25hdone\n",
            "  Building wheel for pathtools (setup.py) ... \u001b[?25l\u001b[?25hdone\n",
            "\u001b[33mWARNING: Running pip as the 'root' user can result in broken permissions and conflicting behaviour with the system package manager. It is recommended to use a virtual environment instead: https://pip.pypa.io/warnings/venv\u001b[0m\u001b[33m\n",
            "\u001b[0m"
          ]
        }
      ],
      "source": [
        "!pip install -Uq openai wandb"
      ]
    },
    {
      "cell_type": "code",
      "source": [
        "import openai\n",
        "import wandb\n",
        "from pathlib import Path\n",
        "import pandas as pd\n",
        "import numpy as np\n",
        "import json\n",
        "from tqdm import tqdm\n",
        "from sklearn.model_selection import train_test_split"
      ],
      "metadata": {
        "id": "x48qUFw30-NU"
      },
      "execution_count": 3,
      "outputs": []
    },
    {
      "cell_type": "code",
      "source": [
        "#Entering API Credentials\n",
        "openai.api_key_path = \"./api.txt\""
      ],
      "metadata": {
        "id": "b87W6_B11Wvv"
      },
      "execution_count": 4,
      "outputs": []
    },
    {
      "cell_type": "markdown",
      "source": [
        "## Dataset Prepration\n",
        "\n",
        "The dataset was processed in R by scrapping relevant documents and cleaning it into the JSON format required to finetune the mdoel. The dataset are split based on sector and portion of AIMM narrative it is expected to generate. \n",
        "\n",
        "1. Sector:\n",
        "  1. FIG\n",
        "  2. MAS\n",
        "  3. CDF\n",
        "  4. INR\n",
        "2. Section of AIMM narrative\n",
        "  1. Project narrative\n",
        "  2. Market narrative \n",
        "  3. Indicators\n",
        "\n",
        "In addition different variation of prompts are also explored - creating different models. \n",
        "\n",
        "## Model naming convention\n",
        "\n",
        "In order to keep track of the models they are to be named using the following convention: \"SSS-IN-GEN-XXXX\"\n",
        "* SSS: Refers to Sector of the model's focus: FIG, MAS,CDF, INR or ALL for sector agnostic model\n",
        "* IN: Refers to model input, can be BP for Board Papers and GE for Generic documents\n",
        "* GEN: Refers to which section the model is trying to generate. Can be one of the following:\n",
        "  * PRO: Project narrative\n",
        "  * MAR: Market narrative\n",
        "  * IND: Indicators\n",
        "* XXXX: Refers to the number of the model - as various models might be created to accomodate various prompts. This can also be alpha numeric.\n",
        "\n",
        "### Models trained so far\n",
        "1. FIG-BP-PRO-0001: Uses AIMM summary as prompt and project narrative as completiton. Only focuses on FIG projects for training (~300 samples).\n",
        "2. FIG-BP-MAR-0001: Uses AIMM summary as prompt and market narrative as completiton. Only focuses on FIG projects for training (~300 samples).\n",
        "3. ALL-BP-PRO-0001: Uses project description as prompt and project narrative as completiton. Only focuses on ALL sectors for training (~700 samples).\n",
        "4. ALL-BP-MAR-0001: Uses project description as prompt and market narrative as completiton. Only focuses on ALL sectors for training (~700 samples).\n"
      ],
      "metadata": {
        "id": "CFHJWRAXoOcU"
      }
    },
    {
      "cell_type": "code",
      "source": [
        "project_name = 'ALL-BP-PRO'\n",
        "model_name = project_name+'-0001'"
      ],
      "metadata": {
        "id": "8wBYzA_hCm8p"
      },
      "execution_count": 5,
      "outputs": []
    },
    {
      "cell_type": "markdown",
      "source": [
        "# Fine Tuning \n",
        "\n",
        "Fine tuning involves the following steps:\n",
        "1. Preparing the dataset: Datset is here split into training and validation sets. Before the split - the prompts are also shared with OpenAI to see if they are aligned with the requirements for finetuning.\n",
        "2. FineTuning: This is where the split datasets are shared with OpenAI for finetuning of the GPT model. The final model is saved and can be accessed both here and on OpenAI playground.  \n",
        "\n",
        "## Preping the dataset"
      ],
      "metadata": {
        "id": "li0JRCSo6ISg"
      }
    },
    {
      "cell_type": "code",
      "source": [
        "# create a job for splitting dataset\n",
        "run = wandb.init(project=project_name, job_type='split dataset')"
      ],
      "metadata": {
        "colab": {
          "base_uri": "https://localhost:8080/",
          "height": 139
        },
        "id": "KiHs1hwP7OqG",
        "outputId": "c0eac317-97fc-467d-8b89-a8f7fe03d30e"
      },
      "execution_count": 6,
      "outputs": [
        {
          "output_type": "display_data",
          "data": {
            "text/plain": [
              "<IPython.core.display.Javascript object>"
            ],
            "application/javascript": [
              "\n",
              "        window._wandbApiKey = new Promise((resolve, reject) => {\n",
              "            function loadScript(url) {\n",
              "            return new Promise(function(resolve, reject) {\n",
              "                let newScript = document.createElement(\"script\");\n",
              "                newScript.onerror = reject;\n",
              "                newScript.onload = resolve;\n",
              "                document.body.appendChild(newScript);\n",
              "                newScript.src = url;\n",
              "            });\n",
              "            }\n",
              "            loadScript(\"https://cdn.jsdelivr.net/npm/postmate/build/postmate.min.js\").then(() => {\n",
              "            const iframe = document.createElement('iframe')\n",
              "            iframe.style.cssText = \"width:0;height:0;border:none\"\n",
              "            document.body.appendChild(iframe)\n",
              "            const handshake = new Postmate({\n",
              "                container: iframe,\n",
              "                url: 'https://wandb.ai/authorize'\n",
              "            });\n",
              "            const timeout = setTimeout(() => reject(\"Couldn't auto authenticate\"), 5000)\n",
              "            handshake.then(function(child) {\n",
              "                child.on('authorize', data => {\n",
              "                    clearTimeout(timeout)\n",
              "                    resolve(data)\n",
              "                });\n",
              "            });\n",
              "            })\n",
              "        });\n",
              "    "
            ]
          },
          "metadata": {}
        },
        {
          "output_type": "stream",
          "name": "stderr",
          "text": [
            "\u001b[34m\u001b[1mwandb\u001b[0m: Appending key for api.wandb.ai to your netrc file: /root/.netrc\n"
          ]
        },
        {
          "output_type": "display_data",
          "data": {
            "text/plain": [
              "<IPython.core.display.HTML object>"
            ],
            "text/html": [
              "Tracking run with wandb version 0.13.11"
            ]
          },
          "metadata": {}
        },
        {
          "output_type": "display_data",
          "data": {
            "text/plain": [
              "<IPython.core.display.HTML object>"
            ],
            "text/html": [
              "Run data is saved locally in <code>/content/wandb/run-20230309_150452-8m10sqlz</code>"
            ]
          },
          "metadata": {}
        },
        {
          "output_type": "display_data",
          "data": {
            "text/plain": [
              "<IPython.core.display.HTML object>"
            ],
            "text/html": [
              "Syncing run <strong><a href='https://wandb.ai/cdi/ALL-BP-PRO/runs/8m10sqlz' target=\"_blank\">pretty-music-1</a></strong> to <a href='https://wandb.ai/cdi/ALL-BP-PRO' target=\"_blank\">Weights & Biases</a> (<a href='https://wandb.me/run' target=\"_blank\">docs</a>)<br/>"
            ]
          },
          "metadata": {}
        },
        {
          "output_type": "display_data",
          "data": {
            "text/plain": [
              "<IPython.core.display.HTML object>"
            ],
            "text/html": [
              " View project at <a href='https://wandb.ai/cdi/ALL-BP-PRO' target=\"_blank\">https://wandb.ai/cdi/ALL-BP-PRO</a>"
            ]
          },
          "metadata": {}
        },
        {
          "output_type": "display_data",
          "data": {
            "text/plain": [
              "<IPython.core.display.HTML object>"
            ],
            "text/html": [
              " View run at <a href='https://wandb.ai/cdi/ALL-BP-PRO/runs/8m10sqlz' target=\"_blank\">https://wandb.ai/cdi/ALL-BP-PRO/runs/8m10sqlz</a>"
            ]
          },
          "metadata": {}
        }
      ]
    },
    {
      "cell_type": "code",
      "source": [
        "# download full dataset\n",
        "dataset_path = \"./\"+model_name+\".json\""
      ],
      "metadata": {
        "id": "ZxedbhgI7Pg7"
      },
      "execution_count": 7,
      "outputs": []
    },
    {
      "cell_type": "code",
      "source": [
        "!head $dataset_path"
      ],
      "metadata": {
        "colab": {
          "base_uri": "https://localhost:8080/"
        },
        "id": "J_nHuJzL8HL7",
        "outputId": "6803ac1a-1070-457e-e1aa-b44ba40b55bd"
      },
      "execution_count": 11,
      "outputs": [
        {
          "output_type": "stream",
          "name": "stdout",
          "text": [
            "{\"prompt\":\"The proposed project consists of an equity investment of up to USD30 million AfricInvest IV LLC ('AF IV' or the 'Fund'), a generalist, closed-end private equity fund domiciled in Mauritius with a target size of USD500 million. Fund will invest in mid-market growth capital transactions in Africa.\\n\\n###\\n\\n\",\"completion\":\" Assessment of Project Outcomes Summary: The Project outcome rating is Very Strong with a Low likelihood of achievement. The likelihood of achievement is based on: (i) the uncertain development track record of AF III (vintage 2014), which took time to identify investable opportunities (approx. 45 percent of investment made in 2018); (ii) the risks associated with the evolution of the fund’s investment strategy to transition into the higher mid-cap segment, which could cause further issues with deal flow and investee growth, especially in North Africa; and (iii) economic/political turbulence which can affect domestic demand and growth within the region. Project outcomes include: Stakeholders (Fund’s portfolio companies) – Improved access to capital for mid-cap companies across Africa, a significant share of which are expected to be based in IDA countries (excl. Nigeria and Kenya): Access to private equity for companies across Africa is constrained overall, with PE investment volumes standing at an average US$1.3 billion annually over the last 5 years. Africa on average represents four and seven percent of total annual emerging market PE volumes and number of deals, respectively, over the period 2014-18 (see table XX). Furthermore, the average PE penetration rate (2014-18) for the region, measured as a proportion of GDP, is 0.063 percent, significantly lower than the emerging market average of 0.11 percent. PE market activity in Sub-Saharan Africa represents on average 80 percent of the region’s total annual PE investment volumes in the last 5 years, while North Africa received a much smaller share (approx. 20 percent). The largest share of PE investments is focused on a few large economies such as South Africa, Nigeria, Morocco, Kenya and Egypt. AfricInvest IV, while maintaining a Pan-African investment strategy, is expected to mainly invest in regional opportunities spanning multiple countries or regions in Africa, including outside of these largest PE markets. As evidenced by the track record, previous AfricInvest funds managed to diversify their investments across the whole region, including countries in Southern and North Africa where private equity is nearly absent, for example in Tunisia, Algeria and Botswana. On average 79 percent of investments in each of the previous three funds were in IDA countries (approx. 50 percent IDA excl. Nigeria and Kenya). Moreover, approx. 60 percent of investees in AF IV’s pipeline are in IDA countries (approx. 50 percent IDA excl. Nigeria and Kenya). IFC will measure results by tracking the percentage of investees based in IDA countries (excl. Nigeria and Kenya). Stakeholder (Fund’s portfolio companies) – Increased Investee Growth. The Fund manager’s team and local footprint through nine offices across Africa has enabled AfricInvest to develop an understanding of market dynamics, establish client networks and gain priority access to the deal flow across Africa. AF IV will seek to create value by acquiring market leading mid-cap African companies with the capacity to grow regionally or across the continent. In previous funds, the FM helped improve the operations and efficiency of investees by strengthening corporate governance, growing product lines, expanding the customer base and integrating the business across value-chains. For example, in Elephant group (the fourth largest, and the only indigenous, major rice marketer in Nigeria and fourth largest fertilizer distributor in Nigeria), AfricInvest assisted the company in establishing treasury and internal audit functions, conducted in-house training sessions to develop a detailed ESG approach, diversified the product portfolio to include export products and assisted with fast-tracking the company’s backward integration initiatives in the rice value chain as well as for other products. AfricInvest has had an increasing focus on the regional expansion of investees with each successive fund: 8, 20 and 72 percent of investees across Fund I, II and II respectively were assisted by the FM in expanding operations across the region. A notable example of the application of this strategy is Salvador Caetano Auto Africa (SCA), which the Fund manager assisted in its transformation from a player with operations in two Lusophone countries, with the majority of the business being in Angola, to a Pan African Auto distribution Group and spare parts business with a regional footprint across the continent, present today in 32 countries in West Africa, East Africa, and Central Africa. Despite the challenging nature of the markets invested in by AfricInvest, on average approx. 65 percent of investees across the previous three funds experienced revenue growth at least 5 percent higher than nominal GDP growth. For fund IV, IFC expects AfricInvest to perform in line with or above the industry average, while recognizing the risks of identifying and operating businesses in challenging environments and the change in strategy of Fund IV, with a shift of focus towards larger deals and the higher mid-cap segment. To measure progress against this outcome, IFC will track the percentage of investee companies with growth in revenue greater than five percent of nominal GDP growth and the Median Investee IRR. Please refer to the section on Results Measurement below.\\n[END]\"}\n",
            "{\"prompt\":\"IFC proposes an equity investment of up to US$20 million into SPE AIF I L.P (the Fund), alongside a US$20 million co-investment envelope. The Fund is targeting US$200 million of commitments to pursue growth capital investments in small to mid-cap companies in North Africa.\\n\\n###\\n\\n\",\"completion\":\" Assessment of Project Outcomes Summary: The Project outcome rating is Very Strong with a Medium likelihood of achievement. The likelihood of achievement is at this stage based on: (i) the solid track record of the previous fund (Intaj II) in terms of development outcomes, and having completed one full exit and a partial exit; tempered by (ii) the risks from SPE AIF doubling the size of the previous fund, and that this will be the first fund operated independently; and (iii) macro-economic and political uncertainty, which can affect domestic demand and growth within the region and generate currency volatility. Project outcomes include: Stakeholders – Improved access to capital, for mid-cap companies across MENA, primarily investing in North Africa (Morocco, Tunisia, and Egypt). Access to private equity for investees in this region is constrained, as MENA is the least penetrated region in terms of PE investments compared to all other emerging markets, with PE investment volumes averaging US$487 million annually over the last 5 years. Since 2016 the prevailing macroeconomic challenges and ensuing uncertainty have meant that total annual emerging market PE volumes in MENA represented on average only 1.4 percent of total emerging market PE volumes, despite some activity taking place in the targeted countries. Morocco, Tunisia, and Egypt together made up to 60 percent of the average annual investment volumes in the region over the last five years, and have seen on average a few deals occur. Overall however, yearly activity remains limited in these countries, at around or below US$100 million. SPE Capital is headquartered in Tunis, Tunisia, its investment strategy is expected to focus on companies located in Tunisia, Morocco, and Egypt, where the Fund has local offices and staff. As evidenced by the track record of Intaj II, SPE Capital’s previous investees were already located in North Africa primarily (four investees) and two investees were located in Jordan. This time, the pipeline for SPE AIF indicates there will be no capital deployment in the Gulf countries, and besides the focus countries, perhaps opportunistic investments in Sub-Saharan Africa. Stakeholder – Increased Investee Growth: SPE Capital’s value creation strategy focuses on taking control of and bringing knowledge of local market dynamics to the investees. The target countries are different by the size, sectoral strengths, and level of sophistication of the sectors within those economies. SPE acquires majority (or significant minority) stakes in market-leading mid-cap companies with the capacity to grow locally or regionally. Value-add is ensured through a seasoned team with local footprint, based in three offices in the target countries and one in Cote d’Ivoire. The team has in-depth understanding of the local private sector, established client networks and identified solid deal flow. As a result, SPE Capital invested in and managed to grow companies, as evidenced by the track record of the previous fund (e.g. five out of six investees of Intaj II experienced revenue growth at least 5 percent higher than nominal GDP growth since the investment date, Orchidia was exited, and Sotipapier, partially exited). Growing companies is achieved i.a. by restructuring carve-outs from underperforming non-core businesses (e.g. Sotipapier), transforming organizations (incl. changing management), restructuring the finances, improving operations and efficiency, digital adoption, or formalizing the companies. The teams also work on growing product lines by expanding the customer base, and developing regional or international expansion (e.g. Luminus). Five out of six of the investee companies in the track record have experienced net job creation during the investment period, and based on the pipeline of companies and their sectors of operation, the future investees of this Fund could create a number of jobs, which would support formal employment in the targeted countries. The median investee IRR in USD, a measure of the value added by the fund manager, was 10.2 percent as of end 2019 for Intaj II (vintage 2010, started investing in 2012), a satisfactory outcome given the challenging market conditions in the early years of operation, and a strong performer compared to its peers in similar geographies and vintages. To measure progress against this outcome, IFC will track the percentage of investee companies with growth in revenue greater than five percent of nominal GDP growth, the Median investee IRR. Please refer to the section on Results Measurement below.\\n[END]\"}\n",
            "{\"prompt\":\"Mekong Enterprise Fund IV Limited Partnership ('the Fund'), a Cayman Islands exempted limited partnership, is a private equity ('PE') fund seeking $200 million in capital commitments to build a port\\u001afolio of equity investments in middle market, growth-oriented companies in Vietnam.\\n\\n###\\n\\n\",\"completion\":\" Assessment of Project Outcomes Summary: The project outcomes rating is Strong with a Medium likelihood of achievement. The likelihood assessment considers (i) the fund’s strong local presence and sector expertise; (ii) Mekong’s longevity and track record, and following the same strategy as Fund III; and (iii) the fund’s ability to manage macro-economic risks by focusing on high growth sectors and companies. Key project outcomes include: Stakeholders (Fund’s portfolio companies) – Increased access to growth-stage equity capital for Vietnamese mid-cap companies: PE investment volumes across South East Asia (SEA) averaged US$4.2 billion annually over the period 2014-18, representing on average around 15 percent of emerging Asia’s total investment volumes. PE investment activity within SEA is concentrated in a few markets, namely Singapore, Indonesia and Malaysia, which together represent approx. 88 percent of the region’s total investment volumes. In comparison, markets like Vietnam receive a relatively small share of private equity, with the country’s average PE investment volumes standing at US$331 million annually in the last 5 years. However, this data is skewed by the presence of an uncharacteristically large deal with a ticket size of over US$300 million in both 2016 and 2018. This indicates that PE investment activity in Vietnam is concentrated in the large-cap segment, which represented on average around 87 percent of Vietnam’s total annual PE investment volumes over the period 2014-18. In comparison, PE activity in the small-cap and mid-cap segments, where the Fund operates, is relatively limited: it amounted to US$107 million in 2018. Similarly, Vietnam’s PE penetration rate, a measure that considers volumes of capital as a ratio of GDP, averaged 0.15 percent over the last 5 years: excluding those large deals, it stood at 0.09 percent. MPEF IV is expected to address this gap, by providing access to growth-equity investments for Vietnamese mid-cap, consumer-driven companies. Stakeholders (Fund’s portfolio companies) – Increased Investee Growth through fund manager’s value creation and market expansion strategies: Mekong started operating in 2001, with technical assistance from IFC, and was a pioneer in Vietnam’s local PE industry, with a local team investing in local companies. Mekong’s value creation strategies focus on taking significant minority stakes with ticket sizes of US$10 to 25 million in Vietnamese mid-market companies, all of which are consumer driven, including in food and beverages, health, or consumer finance. The Fund Manager has experience in identifying the potential for company expansion and adds value such that the investees become strong candidates for industry consolidation and/or IPO. Fund II displayed two notable success stories with Mobile World and Golden Gate; however, Vietnam is a rapidly changing economy, therefore Mekong has adapted the strategy from the initial focus on manufacturing to focus on consumer-driven businesses, and they have learned lessons from past success and failures from one fund to the next. Overall, the Fund manager’s contribution to investee growth includes a positive record of portfolio companies in Fund II (Vintage 2006) and Fund III (Vintage 2015). Fund II (10 investees) has been fully exited, and for Fund III, five out of nine investees have so far experienced revenue growth well above nominal GDP growth, and the Investee Median IRR, a measure of growth of the investees supported by the Fund, stood at 38%. To this date, the Fund Manager has fully exited 25 companies. Mekong focuses on implementing corporate governance and management changes; and on driving digital adoption and digital transformation of their investees. Mekong has developed a proprietary framework called “Vision Driven Investing”, which adds operational value to companies and is structured around the core business fundamentals and financials, the culture and people, brings in external resources, and methods to scale, which are closely monitored and reported for each investee; the approach works like a “coaching tool-kit” for investees, and evolves as lessons learned are incorporated.. As a result, Mekong has successfully grown the companies and provides them with diverse exit opportunities, ranging from trade sales to domestic and foreign strategic investors, or sales via stock exchange listing and to investment funds, inter alia. For example, in the case of Mobile World (as part of Fund II, which they exited), Mekong helped grow the company from 7 to 2000 stores, from 1 to 3 brands with the support of external experts. In addition, Mekong has directly recruited 70 percent of the senior management of their investee companies of Fund III, which helps align business strategies with Mekong’s vision. Another critical focus of the Fund building on the VDI is to improve digital adoption and digital transformation of their investees by embedding IT staff into the companies, as well as to drive market expansion. From Fund III, for example, for Yola, a leading academic English training center in which Mekong invested in 2016, Mekong supported real-time enrolment by offering a blended (both online and offline) learning model, which helped increase the revenues from customers. Digital transformation of ordering (e-commerce platform) and including data analytics supported growth for BTJ – a jewelry store. So far, Fund III has been particularly successful at supporting its portfolio companies in expanding their branches and operations across Vietnam. For instance, F88 was founded in 2013, it is the pioneer chain of collateralized lending stores in Vietnam, it had 86 outlets in July 2019 and Mekong will expand its footprint to at least 300 branches by 2021. And as a result of their investment in e-commerce, Mekong’s plan is to expand BTJ’s branches from 13 to 100 by 2025. To measure progress against this outcome, IFC will track the percentage of investee companies with growth in revenue greater than five percent of nominal GDP growth, and the Median Investees IRR. Please refer to the section on Results Measurement below.\\n[END]\"}\n",
            "{\"prompt\":\"IFC proposes an equity investment of up to US$ 10 million into India Alternatives Private Equity Fund II (the Fund), a scheme of India Alternatives Private Equity Trust ('Trust'). A We-Fi commitment of up to US$ 0.5 million is also being considered. The Fund is targeting US$ 70 million of commitments to pursue growth capital investments in small to mid-cap companies in India.\\n\\n###\\n\\n\",\"completion\":\" Assessment of Project Outcomes Summary: The project outcomes rating is Strong with a Medium likelihood of achievement. The likelihood assessment considers (i) a second-time fund manager with a solid track record of revenue growth in Fund I for three out of four investees and one full exit in Fund I; (ii) a local team specialized in sourcing and executing PE transactions in India, and in reaching out to SMEs and small to mid-cap companies; and mitigated by (iii) the fact that this is the second Fund raised by this team, that the first Fund invested in a limited number of companies, and the negative economic cycle expected in the medium term, including due to Covid-19. Project outcomes include: Stakeholders (Fund’s portfolio companies) – Increased access to private equity capital to SMEs and small to mid-cap companies: The private equity volumes invested in India represent on average US$6.5 billion per year (from 2014 to 2018 annual average), the second-highest investment volumes amongst emerging market economies, with a third occurring in the lower mid-cap segment (US$ 10-49 million). Focusing on PE for growth strategies, the volumes were on average US$2.4 billion per year, and over 400 deals and around twelve growth PE funds were raised per year. While overall PE activity in India remains higher than in most other emerging markets, global fund managers seeking large deals (>US$300 million) dominate the market. Moreover, the number of quality Fund managers appears relatively limited in India in the smaller segment. In the smaller segment, 49 percent of small and medium-sized enterprises are fully or partially credit-constrained and 90 percent of SMEs have no access to institutional funding. In the small to mid-cap segment, India Alternatives is one of few local Fund Managers providing growth capital to small companies who do not have access to public markets and need to expand and scale. The track record of Fund I shows that 75 percent of investees were SMEs, and at this stage, the tentative pipeline foresees at least 65 percent of the investees of Fund II having less than 300 employees and less than US$15 million in revenue at the time of investment. The ex-ante development assessment recognizes there is uncertainty about the investees that will be backed by the Fund at this stage, albeit IFC will track the percentage of investees that are SMEs at the time of investment. EMPEA, Dec 2018. Private Equity data includes regional funds data and excludes private credit and infrastructure real assets funds. *The PE penetration rate is calculated as the volume of private equity investments over nominal GDP, five-year average. In addition, on a global scale, and especially so in South Asia (India), Latin America and in MENA, the PE industry lacks gender diversity. India, with only 7% of senior investment professionals in the PE industry being women, is lagging most behind, on par with the MENA region. India Alternatives is one of two PE funds with a woman founder (there are also 2 women fund managers in the Venture Capital segment). More broadly, the fund manager is developing a gender engagement and reporting framework with IFC’s We-Fi team, to support female entrepreneurship, by encouraging investees to hire and promote women in senior positions, engaging in outreach and coaching activities, which supports gender balanced management teams and builds a potential pipeline of diverse investee companies. Three out of five of India Alternatives’ top management team are women, and the Fund Manager is requesting/has also received Blended Finance Committee (BFC) approval for up to US$1 million of blended finance from the We-Fi facility, which adds credibility as to the Fund Manager’s intent to support diversity and promote gender balance. Support from We-Fi is expected to contribute to increasing in the number of women in senior and leadership positions in businesses in India. Stakeholders (Fund’s portfolio companies) – Increased Investee Growth, through the fund manager’s value creation strategies. The Fund manager expects to invest in 6 to 8 SMEs and small to mid-cap companies with investments of US$5 to 15 million in a variety of sectors. The average deal size in India is either relatively small or very large (mostly by global PE funds). Comparatively, India Alternatives’ strategy sits at the smaller end of investments. This generalist Fund will invest in companies specializing in (i) financial services or fintech, including banking, credit enablers, cyber security, market infrastructure and NBFCs; (ii) healthcare and wellness, including genomics, food extracts, mental health; and (iii) consumer products and services, including for women consumers, apparel and accessories, cosmetics. Evidence from the track record of Fund I, which is limited and consists of four companies, shows that India Alternatives has invested in a company that provides credit scoring information; in a company that provides educational services through platforms, where India Alternatives helped the company diversify its portfolio of courses, introduce new revenue streams, increase operating efficiencies and reduce costs; and in a provider of consumer products targeted to women, where the fund manager changed the brand positioning and guided the creation of online presence. This has resulted in doubling to tripling investees’ revenues, since the time of initial investment from India Alternatives’ first-time fund. As in the first fund, India Alternatives will support these companies through growth equity and operational advice, which will enable their investees to position themselves for an exit: India Alternatives’ track record in growing investees shows that three out of four of the investees for which data are available in the track record have grown robustly, and the median investee IRR, a broad measure of investee value addition, as of March 2019 was 9 percent. One investment has not delivered the expected results. While the Indian PE market still has high levels of un-exited investments, India Alternatives has been able to realize one full exit (Enamor), one partial exit (Ideacount), and a third exit is well under way. To measure progress against these outcomes, IFC will track the percentage of investee companies with growth in revenue greater than five percentage points above nominal GDP growth, and the Median Investee IRR (see section on Results Measurement).\\n[END]\"}\n",
            "{\"prompt\":\"The proposed investment is for up to US$25 million in Navis CLMV Co-Investment Fund, L.P. ('the Fund' or 'the CLMV Fund'), a US$150 million (target) buyout fund investing into Cambodia, Laos, Myanmar and Vietnam ('CLMV'). The Fund will be managed by Navis Capital Partners Limited or an affiliate thereof ('Navis') and will co-invest alongside Navis Asia Fund VIII, L.P. and its parallel funds ('Navis VIII') in investments in the CLMV markets.\\u001a\\n\\n###\\n\\n\",\"completion\":\" Assessment of Project Outcomes Summary: The project outcomes rating is Strong with a Medium likelihood of achievement. The likelihood assessment considers that (i) Navis is an established and reputable institution with a large investment team, strong back office support services and extensive experience over the last 2 decades in investing in relevant sectors and across market cycles; tempered by (ii) execution risk in the frontier markets, given the team’s limited track record on investing in businesses in the CLM markets and the heightened economic uncertainty due to the CoVid19 outbreak. Project outcomes include: Stakeholders (Fund’s portfolio companies) – Increased access to private equity capital for mid-cap companies, including the larger end of this segment, in the CLMV region, focusing on IDA countries where access to private capital is extremely limited: PE investment volumes across SE Asia averaged US$4.2 billion annually over the period 2014 to 2018, representing on average around 15 percent of emerging Asia’s total investment volumes. Singapore, Indonesia and Malaysia together represent approximately 88 percent of SE Asia’s total investment volumes. Within SE Asia, the CLMV countries have received a small share of PE, as PE investment volumes averaged US$373 million annually in the last 5 years: this means 9 percent of PE investments go to countries that represent around 12 percent of SE Asia’s GDP. In Myanmar, and more markedly in Cambodia and Laos, PE penetration is extremely limited or negligible, while in Vietnam historic activity levels are driven by a few large-cap deals, which skews its PE penetration rate upwards (see Table X). Navis CLMV will contribute to addressing this gap in access to capital, by providing access to growth-equity investments for mid-sized companies, including the larger end of this segment, with an explicit focus on the IDA countries in this region (Cambodia, Laos and Myanmar). The viability and sustainability of the business model will be supported by the fact that Navis VIII - a large fund, which Navis is raising parallel to the CLMV Fund - is expected to co-invest in the deals identified for this CLMV Fund. IFC expects at least 40 percent of investees in IDA countries (CLM), as per the fund manager’s envisaged capital allocation. EMPEA, March 2019. Private Equity data includes regional funds data and excludes private credit and infrastructure real assets funds. *The PE penetration rate is calculated as the volume of private equity investments over nominal GDP, five-year average. ** These figures may be underestimated by EMPEA data. Stakeholders (Fund’s portfolio companies) – Increased Investee Growth, through the fund manager’s value creation strategies. The Fund’s strategy is to take controlling stakes, with ticket sizes ranging between US$40 and US$100 million in mid-cap companies, including on the larger end of the mid-cap segment. As control shareholders, Navis oversees the businesses on a day-to-day basis and seeks to improve processes and systems; for instance, Navis facilitates learnings between the current portfolio companies in varying parts of the value chain and enables cross border expansion. Navis’s track record in growing investees from funds covering the broader Asia region shows Fund VII has grown more than half of its companies faster than five percentage points above GDP growth, and is currently showing a median IRR across investees, a broad measure of investee value addition, of 15 percent. Navis’s track record in the CLMV area is limited and mostly focused on Vietnam. With Fund VII’s investment in the Hanoi French Hospital (Vietnam), Navis has helped develop patient acquisition through implementing digital platforms; since initial investment, this investee has experienced growth 5 percentage points above nominal GDP of Vietnam. Navis expanded Nitipon’s activities into Vietnam (a Thai chain of aesthetic clinics), but the resulting operation has failed to generate growth thus far. The other investment from Fund VII, in Saitex (denim jeans manufacturer), was made in May 2018, such that it is too early to draw conclusions on revenue growth. The pipeline envisaged for the CLMV fund includes investments in education (English language training centers), healthcare (hospitals and clinics), food and beverages (local restaurants), tourism, and telecommunications (towers). IFC recognizes that the challenges in investing in frontier economies in CLM may impact investee growth. To measure progress against these outcomes, IFC will track the percentage of investee companies with growth in revenue greater than five percentage points above nominal GDP growth, and the Median Investee IRR (see section on Results Measurement).\\n[END]\"}\n",
            "{\"prompt\":\"Founded in 2017, SeeTree Systems Limited ('SeeTree', or 'Company') is an Israel based high-tech start-up that provides analytics services to growers of permanent crops. It is headquartered in Tel Aviv, Israel with customers currently across California (USA), Brazil and pilots in South Africa, Chile and Indonesia.The core product of SeeTree is developing precision agriculture solution at macro level grove and micro tree level data. Customers have the option of choosing from a basic package which gives them basic view of tree health, and layer on additional features, such as early disease detection and yield improvement recommendations. SeeTree uses all-terrain vehicles (ATVs), drone technology and on the ground teams to collect and ground-truth data.In addition to its headquarters in Israel, where are based the management and operational teams, Research and Development (R&D), and the 'Intelligence Desks' which are the teams responsible to conduct the analytical services provided by the company, SeeTree has a R&D Center in Ukraine performing engineering and software development, and two subsidiaries in the United States and Brazil running field operations including data-collection and customer management. Going forward, the company plans to open new markets and establish new subsidiaries at new locations such as Europe and Southeast Asia. IFC is considering an equity investment of up to US$8 million to be used for the Company's expansion plans\\n\\n###\\n\\n\",\"completion\":\" Assessment of Project Outcomes Summary: The Project Outcomes rating is Strong with Medium likelihood of achievement. The likelihood assessment is based on (i) relatively strong track record as the Company has successfully operated over the past 3 years serving leading agribusiness companies, and ii) strong potential demand for precision agriculture technology in Brazil as suggested by a strong growth in AgTech ecosystem, but mitigated by iii) potential execution risks as the Company is relying on a mix of nascent technologies, including AI, that may be sensitive to variations in environment and type of crops, and iv) potential disruptions from COVID-19 with a slowdown in customer acquisition. Maintaining healthy trees is critical for productivity growth in the permanent crop sector. One lost tree can require 5-7 years to replace, compared to a year for annual crops. New technologies like AI can help improve productivity through automated analysis of large-scale permanent crop farms to measure the health of each tree individually, allow growers to understand the productivity of their trees and other parameters like expected fruit size and correlated these factors to farming practice. Potential productivity improvement can result in higher income as the outcomes of the data analytics allows growers to prepare the right marketing strategy based on size and volume of products. Startups like SeeTree seek to address the productivity challenge in the permanent crop sector by using drone and satellite images to identify diseased and under-performing trees better than most professional agronomists. Through this Project, the Company plans to enhance this technology and expand into more variety of permanent crops in Brazil. The Project Outcomes include: Stakeholder effects – Improved productivity of permanent crop farms, potentially resulting into higher income for growers. Productivity of permanent crops in Brazil is high compared to other emerging markets: yields of permanent crops such as oranges, lemons and grapefruits, typically covered by the Company’s technology, are significantly above regional and income-group averages. In addition, Brazilian permanent crops producers focus on high value, export-oriented crops, and large-scale commercial farming is common with some level of mechanization. Furthermore, production practices are relatively efficient as the country ranks among the top-10 over 100 emerging markets in terms of the yields of popular fruits such as oranges, limes and lemons as well as grapefruits. The Project is expected to significantly increase productivity of permanent crops by enabling growers to achieve up to 90% of healthy trees by 2022. Such large improvement derives from the use of a particular type of AI that automates the inspection of each individual tree. As a result, the adoption of the technology is expected to significantly increase, with the area of farmland covered expected to increase at an annual rate of 86% over the next two years, thanks to the reliance on aerial images. These outcomes could result into higher income for growers, though this benefits cannot be accurately monitored as the Company does not control its clients’ financial performance. To measure progress against these outcomes, IFC will track i) total farmland covered by the Company’s technology, and ii) percentage of healthy trees in farms covered by the Company. IFC will also track for reporting purpose the number of clients served by the Company (see AIMM reporting table below).\\n[END]\"}\n",
            "{\"prompt\":\"SeeTree Systems Limited ('SeeTree', or 'Company') is an Israel based high-tech company that provides analytics services to growers of permanent crops. The Company was founded in 2017 and is headquartered in Tel Aviv, Israel with customers currently across California (USA), Brazil and South Africa, and pilots in Argentina and Indonesia. The proposed investment will support the Company's expansion plans.\\n\\n###\\n\\n\",\"completion\":\" Assessment of Project Outcomes Summary: The Project Outcomes rating is Strong with Medium likelihood of achievement. The likelihood assessment is based on (i) relatively strong track record as the Company has successfully operated over the past 3 years serving leading agribusiness companies, and ii) strong potential demand for precision agriculture technology in Brazil as suggested by a strong growth in AgTech ecosystem, but mitigated by iii) potential execution risks as the Company is relying on a mix of nascent technologies, including AI, that may be sensitive to variations in environment and type of crops, and iv) potential disruptions from COVID-19 with a slowdown in customer acquisition. Maintaining healthy trees is critical for productivity growth in the permanent crop sector. One lost tree can require 5-7 years to replace, compared to a year for annual crops. New technologies like AI can help improve productivity through automated analysis of large-scale permanent crop farms to measure the health of each tree individually, allow growers to understand the productivity of their trees and other parameters like expected fruit size and correlated these factors to farming practice. Potential productivity improvement can result in higher income as the outcomes of the data analytics allows growers to prepare the right marketing strategy based on size and volume of products. Startups like SeeTree seek to address the productivity challenge in the permanent crop sector by using drone and satellite images to identify diseased and under-performing trees better than most professional agronomists. Through this Project, the Company plans to enhance this technology and expand into more variety of permanent crops in Brazil. The Project Outcomes include: Stakeholder effects – Improved productivity of permanent crop farms, potentially resulting into higher income for growers. Productivity of permanent crops in Brazil is high compared to other emerging markets: yields of permanent crops such as oranges, lemons and grapefruits, typically covered by the Company’s technology, are significantly above regional and income-group averages. In addition, Brazilian permanent crops producers focus on high value, export-oriented crops, and large-scale commercial farming is common with some level of mechanization. Furthermore, production practices are relatively efficient as the country ranks among the top-10 over 100 emerging markets in terms of the yields of popular fruits such as oranges, limes and lemons as well as grapefruits. The Project is expected to significantly increase productivity of permanent crops by enabling growers to achieve up to 90% of healthy trees by 2022. Such large improvement derives from the use of a particular type of AI that automates the inspection of each individual tree. As a result, the adoption of the technology is expected to significantly increase, with the area of farmland covered expected to increase at an annual rate of 86% over the next two years, thanks to the reliance on aerial images. These outcomes could result into higher income for growers, though this benefits cannot be accurately monitored as the Company does not control its clients’ financial performance. To measure progress against these outcomes, IFC will track i) total farmland covered by the Company’s technology, and ii) percentage of healthy trees in farms covered by the Company. IFC will also track for reporting purpose the number of clients served by the Company (see AIMM reporting table below).\\n[END]\"}\n",
            "{\"prompt\":\"\\u001aBolt was launched in Estonia in 2013 and is a leading global mobility platform, operating in over 200 cities across more than 40 countries, with a focus on Africa and Central and Eastern Europe ('CEE'). The Company's three core offerings include: (i) Ridehailing: on-demand ride booking of cars, motorcycles, and tuktuks; (ii) E-mobility rentals: dockless electric scooter rentals and e-bikes; and (iii) Delivery: on-demand food, grocery, and business deliveries. The Company has more than 50 million customers and 1.5 million drivers globally. As of 2019, some of the platform's largest markets by number of rides include: South Africa, Nigeria, Poland, Kenya, and Azerbaijan.\\u001aIFC is considering a EUR 20 million investment in Bolt in the form of a convertible note. The proceeds of the financing are expected to help support the Company as it: (i) expands further into Tier 2 and 3 cities in Africa and CEE; (ii) grows its food delivery product, and (iii) introduces financial service products in Africa and CEE.\\n\\n###\\n\\n\",\"completion\":\" Assessment of Project Outcomes Summary: The Project Outcomes rating is Very Strong with Medium likelihood of achievement. The likelihood assessment is based on (i) relatively strong track record as the Company has been successful in expanding into over 200 cities over the past seven years, with a tested business model across several countries, and market leadership (number 1 or 2 in 65 percent of markets); and (ii) large potential demand for ride-hailing and micro-mobility—global ride-hailing miles are expected to expand at a 5-year CAGR of 15 percent vs. personal vehicles at 2 percent with Africa and ECA still underpenetrated; but mitigated by (iii) COVID’s impacts such as weaker demand due to social distancing and health risks arising from interactions between riders and drivers. Recognizing that the benefits of an equity investment across countries may evolve over time, the Project Outcomes include: Stakeholder effects (drivers) – Increased self-employment for drivers through micro-entrepreneurship, potentially resulting in higher income. The core target markets, i.e. Nigeria, South Africa and Ukraine, have high levels of unemployment or informality—unemployment rates or the share of value added from the informal sector are generally above regional and income-group averages (Table II). The drivers on Bolt’s platform are essentially micro-entrepreneurs. These micro-entrepreneurs typically come from the informal sector, with limited opportunities to improve their productivity and gain higher income via trainings and access to formal financial services. The Project is expected to increase self-employment of workers across the target markets through a digital mobility platform that will offer micro-entrepreneurship opportunities to 700,000 individuals by 2022, corresponding to an average annual growth rate of 42 percent, above the average growth rate achieved by similar digital platforms. Such expansion has the potential to result in higher income for drivers as the average number of trips completed by each driver annually is expected to increase from 400 per driver in 2019 to 410 in 2022, thanks to higher adoption of mobility platforms in its target markets and more competitive pricing by the Company compared to alternative online mobility platforms which will increase the number of users of the platform. Economic inclusion of drivers. The Company’s expansion plan includes a set of activities that have the potential to benefit drivers from low-income backgrounds. Of approximately 100 additional cities expected to be covered by the Company over the next two years, close to 80 percent are tier 2 and 3 cities, broadly smaller towns, beyond the two largest cities in a country, where micro-entrepreneurs generally earn less than in the largest cities. Examples include Ilorin and Bauchi in Nigeria; Worcester and Upington in South Africa; and Dnipro and Vinnytsia in Ukraine. The Company also plans to offer trainings (e.g. safety, financial literacy), financial services such as loans or vehicle leasing, as well as the development of a complementary business lines such as food, grocery, and business deliveries, thereby providing additional source of income for drivers. As a result, more than 20 percent of new drivers are expected to come from low-income backgrounds, especially from tier 2 and 3 cities. Female participation in mobility platforms as drivers. The urban mobility sector is heavily male-dominated and women’s low participation as drivers in ride-hailing is largely due to strong social norms against entry into a nontraditional sector. The Project is expected to increase women participation as the Company is setting up measures to onboard more female drivers on its platform. These include marketing and awareness raising campaigns about the opportunities for female drivers, as well as a potential engagement with the IFC on measures such as gender-segregated transport models. Such initiatives are expected to raise the share of both riders and drivers on the Company’s platform, potentially resulting in greater mobility for female riders and greater economic inclusion and improved livelihoods for female drivers. Stakeholder effects (riders) – Increased access to affordable urban mobility services for riders. Access to affordable urban mobility services remains broadly limited in SSA and ECA, compared to cities across other emerging markets. Lagos and Nairobi, two capital cities covered by the Company, rank respectively 36th and 38th over 38 emerging markets cities for the cost of a typical taxi ride. Cape Town and Johannesburg rank respectively 18th and 31st. These cities also rank low or close to average in terms of the availability of online mobility services. In Kyiv, public transport services are relatively affordable, but less safe being three times more fatality‐prone compared with peer cities. The Project is expected to increase access to affordable urban mobility services for riders across SSA and ECA as the Company will onboard nearly 3 times more riders on its platform by 2022. Such expansion has the potential to result in increased affordability of urban mobility services for riders as the average trip price on the Company’s platform is 20-30 percent cheaper compared to the price of traditional taxi services.\\n[END]\"}\n",
            "{\"prompt\":\"Bolt Technology OU ('Bolt' or the 'Company') is a global ride-hailing company, offering mobility, food, and delivery services through a digital platform. The Company was established in 2013 in Estonia and has since expanded its operations to more than 35 countries and 200 cities globally.\\u001a\\u001a\\u001a\\u001a\\u001a\\u001a\\u001a\\u001a\\u001a\\u001a\\u001a\\u001a\\u001a\\u001a\\u001a\\u001a\\u001a\\u001a\\u001a\\u001a\\u001a\\u001a\\u001a\\u001a\\u001a\\u001a\\u001a\\u001a\\u001a\\u001a\\u001a\\u001a\\u001a\\u001a\\u001a\\u001a\\u001a\\u001a\\u001a\\u001a\\u001a\\u001a\\u001a\\u001a\\u001a\\u001a\\u001a\\u001a\\u001a\\u001a\\n\\n###\\n\\n\",\"completion\":\" Assessment of Project Outcomes Summary: The Project Outcomes rating is Very Strong with Medium likelihood of achievement. The likelihood assessment is based on (i) relatively strong track record as the Company has been successful in expanding into over 200 cities over the past seven years, with a tested business model across several countries, and market leadership (number 1 or 2 in 65 percent of markets); and (ii) large potential demand for ride-hailing and micro-mobility—global ride-hailing miles are expected to expand at a 5-year CAGR of 15 percent vs. personal vehicles at 2 percent with Africa and ECA still underpenetrated; but mitigated by (iii) COVID’s impacts such as weaker demand due to social distancing and health risks arising from interactions between riders and drivers. Recognizing that the benefits of an equity investment across countries may evolve over time, the Project Outcomes include: Stakeholder effects (drivers) – Increased self-employment for drivers through micro-entrepreneurship, potentially resulting in higher income. The core target markets, i.e. Nigeria, South Africa and Ukraine, have high levels of unemployment or informality—unemployment rates or the share of value added from the informal sector are generally above regional and income-group averages (Table II). The drivers on Bolt’s platform are essentially micro-entrepreneurs. These micro-entrepreneurs typically come from the informal sector, with limited opportunities to improve their productivity and gain higher income via trainings and access to formal financial services. The Project is expected to increase self-employment of workers across the target markets through a digital mobility platform that will offer micro-entrepreneurship opportunities to 700,000 individuals by 2022, corresponding to an average annual growth rate of 42 percent, above the average growth rate achieved by similar digital platforms. Such expansion has the potential to result in higher income for drivers as the average number of trips completed by each driver annually is expected to increase from 400 per driver in 2019 to 410 in 2022, thanks to higher adoption of mobility platforms in its target markets and more competitive pricing by the Company compared to alternative online mobility platforms which will increase the number of users of the platform. Economic inclusion of drivers. The Company’s expansion plan includes a set of activities that have the potential to benefit drivers from low-income backgrounds. Of approximately 100 additional cities expected to be covered by the Company over the next two years, close to 80 percent are tier 2 and 3 cities, broadly smaller towns, beyond the two largest cities in a country, where micro-entrepreneurs generally earn less than in the largest cities. Examples include Ilorin and Bauchi in Nigeria; Worcester and Upington in South Africa; and Dnipro and Vinnytsia in Ukraine. The Company also plans to offer trainings (e.g. safety, financial literacy), financial services such as loans or vehicle leasing, as well as the development of a complementary business lines such as food, grocery, and business deliveries, thereby providing additional source of income for drivers. As a result, more than 20 percent of new drivers are expected to come from low-income backgrounds, especially from tier 2 and 3 cities. Female participation in mobility platforms as drivers. The urban mobility sector is heavily male-dominated and women’s low participation as drivers in ride-hailing is largely due to strong social norms against entry into a nontraditional sector. The Project is expected to increase women participation as the Company is setting up measures to onboard more female drivers on its platform. These include marketing and awareness raising campaigns about the opportunities for female drivers, as well as a potential engagement with the IFC on measures such as gender-segregated transport models. Such initiatives are expected to raise the share of both riders and drivers on the Company’s platform, potentially resulting in greater mobility for female riders and greater economic inclusion and improved livelihoods for female drivers. Stakeholder effects (riders) – Increased access to affordable urban mobility services for riders. Access to affordable urban mobility services remains broadly limited in SSA and ECA, compared to cities across other emerging markets. Lagos and Nairobi, two capital cities covered by the Company, rank respectively 36th and 38th over 38 emerging markets cities for the cost of a typical taxi ride. Cape Town and Johannesburg rank respectively 18th and 31st. These cities also rank low or close to average in terms of the availability of online mobility services. In Kyiv, public transport services are relatively affordable, but less safe being three times more fatality‐prone compared with peer cities. The Project is expected to increase access to affordable urban mobility services for riders across SSA and ECA as the Company will onboard nearly 3 times more riders on its platform by 2022. Such expansion has the potential to result in increased affordability of urban mobility services for riders as the average trip price on the Company’s platform is 20-30 percent cheaper compared to the price of traditional taxi services.\\n[END]\"}\n",
            "{\"prompt\":\"IFC is considering an investment of up to US$3 million in Microtraction Fund II (the Fund') through the Startup Catalyst Program. Microtraction Fund II is a $15 million seed stage fund focused on pre-seed and seed stage investments in tech and tech-enabled businesses in Sub Saharan Africa.The Fund will be supported by the Blended Finance Facility (BFF) of the IDA18 IFC-MIGA Private Sector Window (IDA PSW), created by the Word Bank Group to catalyze private sector investment in IDA countries, with a focus on fragile and conflict-affected states.\\n\\n###\\n\\n\",\"completion\":\" Project outcome potential: Very Strong - The Fund will invest in startups primarily in Nigeria but also opportunistically across other markets in SSA, where the gap in equity is large or very large. Key projects outcomes include increased access to early stage equity and increased ability for startups to scale operations and receive follow on funding. Microtraction closed its first $500k fund in 2017 and made a total of 16 investments, mainly in Nigeria. Fund I achieved a high level of success with 10 companies (70 percent of the fund) going on to raise $24m in follow-on funding at higher valuations from external investors. There are currently no write-offs or exits (note that the fund does have some winners and have been approached by investors to exit, but have chosen to hold on to realize further potential value). Fund I had 6 companies graduate from Y-Combinator and 1 company graduate from 500 Startups and the fund is often considered as a funnel to these globally-recognized accelerators. In addition, Fund II has in its guidelines an expectation (but not a firm target) to invest in at least 30 percent of its volume outside of Nigeria, while it is not certain that these will all be IDA/FCS countries it is likely to contribute to this indicator. In addition, they have a pool of venture scouts spread out across Africa as they seek to expand their reach beyond West Africa. Note that most of Fund I was in Nigeria. The Fund has also indicated that they would like at least 30 percent of their founders to be female, while this is not a firm commitment, it is expected that this Fund could contribute to the overall gender indicator for the Startup Catalyst program. Based on the track record and pipeline expectations, IFC expects that at least 25% of investees will raise follow-on funding at 3x the size of initial investment in aggregate. The Fund will likely invest in IDA/FCS countries and female founders, which will contribute to the overall Program level objectives. Project outcome likelihood: Medium – The project takes the Program likelihood assessment of Medium. The likelihood assessment considers the Fund Manager’s experience and its relatively positive track record, mitigated by macro risks in the Africa region.\\n[END]\"}\n"
          ]
        }
      ]
    },
    {
      "cell_type": "code",
      "source": [
        "!openai tools fine_tunes.prepare_data -f $dataset_path"
      ],
      "metadata": {
        "colab": {
          "base_uri": "https://localhost:8080/"
        },
        "id": "NcbedLhr8LNz",
        "outputId": "5ebb67f7-f2e1-4146-ed8f-13ffc0a96035"
      },
      "execution_count": 12,
      "outputs": [
        {
          "output_type": "stream",
          "name": "stdout",
          "text": [
            "Analyzing...\n",
            "\n",
            "- Your JSON file appears to be in a JSONL format. Your file will be converted to JSONL format\n",
            "- Your file contains 735 prompt-completion pairs\n",
            "- There are 56 examples that are very long. These are rows: [16, 102, 146, 154, 162, 163, 184, 186, 190, 194, 195, 200, 210, 211, 218, 228, 250, 251, 255, 266, 267, 278, 354, 381, 492, 508, 524, 529, 530, 538, 542, 548, 549, 550, 551, 558, 578, 582, 592, 593, 596, 608, 618, 619, 648, 650, 652, 660, 684, 685, 700, 701, 718, 719, 720, 730]\n",
            "For conditional generation, and for classification the examples shouldn't be longer than 2048 tokens.\n",
            "- All prompts end with suffix `\\n\\n###\\n\\n`\n",
            "- All completions end with suffix `\\n[END]`\n",
            "\n",
            "Based on the analysis we will perform the following actions:\n",
            "- [Necessary] Your format `JSON` will be converted to `JSONL`\n",
            "- [Recommended] Remove 56 long examples [Y/n]: Y\n",
            "\n",
            "\n",
            "Your data will be written to a new JSONL file. Proceed [Y/n]: Y\n",
            "\n",
            "Wrote modified file to `./ALL-BP-PRO-0001_prepared.jsonl`\n",
            "Feel free to take a look!\n",
            "\n",
            "Now use that file when fine-tuning:\n",
            "> openai api fine_tunes.create -t \"./ALL-BP-PRO-0001_prepared.jsonl\"\n",
            "\n",
            "After you’ve fine-tuned a model, remember that your prompt has to end with the indicator string `\\n\\n###\\n\\n` for the model to start generating completions, rather than continuing with the prompt. Make sure to include `stop=[\"\\n[END]\"]` so that the generated texts ends at the expected place.\n",
            "Once your model starts training, it'll approximately take 30.53 minutes to train a `curie` model, and less for `ada` and `babbage`. Queue will approximately take half an hour per job ahead of you.\n"
          ]
        }
      ]
    },
    {
      "cell_type": "code",
      "source": [
        "dataset_path = \"./\"+model_name+\"_prepared.jsonl\"\n",
        "# check number of samples\n",
        "!wc -l $dataset_path"
      ],
      "metadata": {
        "colab": {
          "base_uri": "https://localhost:8080/"
        },
        "id": "Ti7EhJ-r8R-D",
        "outputId": "f55e86db-2cee-43aa-c645-a3ad68667ea1"
      },
      "execution_count": 13,
      "outputs": [
        {
          "output_type": "stream",
          "name": "stdout",
          "text": [
            "679 ./ALL-BP-PRO-0001_prepared.jsonl\n"
          ]
        }
      ]
    },
    {
      "cell_type": "markdown",
      "source": [
        "Splitting it into training and testing set randomly with 25% going to testing set. \n",
        "* Training Set = 75% \n",
        "* Validation Set = 25% \n",
        "\n",
        "Also, logging the files into W&B for recordkeeping. "
      ],
      "metadata": {
        "id": "lb_lbts_pIDQ"
      }
    },
    {
      "cell_type": "code",
      "source": [
        "df = pd.read_json(dataset_path, orient='records', lines=True)\n",
        "df_train, df_test = train_test_split(df,test_size = 0.25,random_state = 42, shuffle = False)\n",
        "df_train.to_json(\"./\"+model_name+\"_train.jsonl\", orient='records', lines=True)\n",
        "df_test.to_json(\"./\"+model_name+\"_test.jsonl\", orient='records', lines=True)\n",
        "\n",
        "#Logging the files and tables into W&B \n",
        "table_train = wandb.Table(dataframe=df_train)\n",
        "table_valid = wandb.Table(dataframe=df_test)\n",
        "\n",
        "# Create artifacts\n",
        "artifact_train = wandb.Artifact(model_name+\"_train.jsonl\", type='training_files', metadata={'samples': df_train.shape[0]})\n",
        "artifact_train.add_file(model_name+\"_train.jsonl\")\n",
        "artifact_train.add(table_train, model_name+\"_train.jsonl\")\n",
        "\n",
        "artifact_valid = wandb.Artifact(model_name+\"_test.jsonl\", type='validation_files', metadata={'samples': df_test.shape[0]})\n",
        "artifact_valid.add_file(model_name+\"_test.jsonl\")\n",
        "artifact_valid.add(table_valid, model_name+\"_test.jsonl\")\n",
        "\n",
        "# Log files\n",
        "run.log_artifact(artifact_train)\n",
        "run.log_artifact(artifact_valid)"
      ],
      "metadata": {
        "id": "58mTu1PG8UfL",
        "colab": {
          "base_uri": "https://localhost:8080/"
        },
        "outputId": "78eb0433-334e-4dac-ce6a-43b2dcecab19"
      },
      "execution_count": 14,
      "outputs": [
        {
          "output_type": "execute_result",
          "data": {
            "text/plain": [
              "<wandb.sdk.wandb_artifacts.Artifact at 0x7f37a4b94af0>"
            ]
          },
          "metadata": {},
          "execution_count": 14
        }
      ]
    },
    {
      "cell_type": "markdown",
      "source": [
        "Closing our dataprep run"
      ],
      "metadata": {
        "id": "wL8pKbh0qqXB"
      }
    },
    {
      "cell_type": "code",
      "source": [
        "# keep entity for reference of artifact later \n",
        "entity = wandb.run.entity\n",
        "wandb.finish()"
      ],
      "metadata": {
        "colab": {
          "base_uri": "https://localhost:8080/",
          "height": 86
        },
        "id": "vkXaYc40qsKf",
        "outputId": "a4963228-9753-4f5a-be98-c25ae075d545"
      },
      "execution_count": 15,
      "outputs": [
        {
          "output_type": "display_data",
          "data": {
            "text/plain": [
              "<IPython.core.display.HTML object>"
            ],
            "text/html": [
              "Waiting for W&B process to finish... <strong style=\"color:green\">(success).</strong>"
            ]
          },
          "metadata": {}
        },
        {
          "output_type": "display_data",
          "data": {
            "text/plain": [
              "<IPython.core.display.HTML object>"
            ],
            "text/html": [
              " View run <strong style=\"color:#cdcd00\">pretty-music-1</strong> at: <a href='https://wandb.ai/cdi/ALL-BP-PRO/runs/8m10sqlz' target=\"_blank\">https://wandb.ai/cdi/ALL-BP-PRO/runs/8m10sqlz</a><br/>Synced 5 W&B file(s), 0 media file(s), 4 artifact file(s) and 0 other file(s)"
            ]
          },
          "metadata": {}
        },
        {
          "output_type": "display_data",
          "data": {
            "text/plain": [
              "<IPython.core.display.HTML object>"
            ],
            "text/html": [
              "Find logs at: <code>./wandb/run-20230309_150452-8m10sqlz/logs</code>"
            ]
          },
          "metadata": {}
        }
      ]
    },
    {
      "cell_type": "markdown",
      "source": [
        "## Fine Tuning the model\n"
      ],
      "metadata": {
        "id": "20f5YU5erAgU"
      }
    },
    {
      "cell_type": "code",
      "source": [
        "train_file = \"./\"+model_name+\"_train.jsonl\"\n",
        "valid_file = \"./\"+model_name+\"_test.jsonl\""
      ],
      "metadata": {
        "id": "A51VozQnsD5G"
      },
      "execution_count": 16,
      "outputs": []
    },
    {
      "cell_type": "markdown",
      "source": [
        "Defining Hyper parameters: \n",
        "\n",
        "Using the default hyper parameters by OpenAI, replacing model with Divinci 003."
      ],
      "metadata": {
        "id": "AytRIGhisVq8"
      }
    },
    {
      "cell_type": "code",
      "source": [
        "#Defining hyper parameters (using the default ones)\n",
        "model = 'davinci'  # using the best model : davinci\n",
        "n_epochs = 4\n",
        "batch_size = 4\n",
        "learning_rate_multiplier = 0.1\n",
        "prompt_loss_weight = 0.1"
      ],
      "metadata": {
        "id": "9zaCtwX_r2IQ"
      },
      "execution_count": null,
      "outputs": []
    },
    {
      "cell_type": "code",
      "source": [
        "import os\n",
        "os.environ[\"OPENAI_API_KEY\"] = \"API-Key\""
      ],
      "metadata": {
        "id": "E2yw5YFUxW1x"
      },
      "execution_count": null,
      "outputs": []
    },
    {
      "cell_type": "code",
      "source": [
        "!openai api fine_tunes.create \\\n",
        "    -t $train_file \\\n",
        "    -v $valid_file \\\n",
        "    -m $model \\\n",
        "    --n_epochs $n_epochs \\\n",
        "    --batch_size $batch_size \\\n",
        "    --learning_rate_multiplier $learning_rate_multiplier \\\n",
        "    --prompt_loss_weight $prompt_loss_weight \\\n",
        "    --suffix $model_name"
      ],
      "metadata": {
        "colab": {
          "base_uri": "https://localhost:8080/"
        },
        "id": "h5etp9msr8q4",
        "outputId": "28930963-2ff9-40b1-8f00-7f61560e27c3"
      },
      "execution_count": null,
      "outputs": [
        {
          "output_type": "stream",
          "name": "stdout",
          "text": [
            "\rUpload progress:   0% 0.00/1.23M [00:00<?, ?it/s]\rUpload progress: 100% 1.23M/1.23M [00:00<00:00, 1.19Git/s]\n",
            "Uploaded file from ./FIG-BP-MAR-0001_train.jsonl: file-obxdzBRLTkhPV76L4sZfsop2\n",
            "Upload progress: 100% 483k/483k [00:00<00:00, 622Mit/s]\n",
            "Uploaded file from ./FIG-BP-MAR-0001_test.jsonl: file-S7GiRGimKHn625wcmDWjeuSy\n",
            "Created fine-tune: ft-anN7qjd46Y8vth8qfA3RWI3h\n",
            "Streaming events until fine-tuning is complete...\n",
            "\n",
            "(Ctrl-C will interrupt the stream, but not cancel the fine-tune)\n",
            "[2023-03-08 22:07:12] Created fine-tune: ft-anN7qjd46Y8vth8qfA3RWI3h\n",
            "\n",
            "Stream interrupted (client disconnected).\n",
            "To resume the stream, run:\n",
            "\n",
            "  openai api fine_tunes.follow -i ft-anN7qjd46Y8vth8qfA3RWI3h\n",
            "\n"
          ]
        }
      ]
    },
    {
      "cell_type": "code",
      "source": [
        "!openai api fine_tunes.follow -i ft-anN7qjd46Y8vth8qfA3RWI3h"
      ],
      "metadata": {
        "colab": {
          "base_uri": "https://localhost:8080/"
        },
        "id": "OMfui19k0vkt",
        "outputId": "23d61900-4fa3-4b32-faf8-cf5055a9a72d"
      },
      "execution_count": null,
      "outputs": [
        {
          "output_type": "stream",
          "name": "stdout",
          "text": [
            "[2023-03-08 22:07:12] Created fine-tune: ft-anN7qjd46Y8vth8qfA3RWI3h\n",
            "[2023-03-08 22:10:39] Fine-tune costs $27.89\n",
            "[2023-03-08 22:10:39] Fine-tune enqueued\n",
            "[2023-03-08 22:33:59] Fine-tune is in the queue. Queue number: 31\n",
            "[2023-03-08 22:35:05] Fine-tune is in the queue. Queue number: 30\n",
            "[2023-03-08 22:36:01] Fine-tune is in the queue. Queue number: 29\n",
            "[2023-03-08 22:36:07] Fine-tune is in the queue. Queue number: 28\n",
            "[2023-03-08 22:37:30] Fine-tune is in the queue. Queue number: 27\n",
            "[2023-03-08 22:39:46] Fine-tune is in the queue. Queue number: 26\n",
            "[2023-03-08 22:43:34] Fine-tune is in the queue. Queue number: 25\n",
            "[2023-03-08 22:46:09] Fine-tune is in the queue. Queue number: 24\n",
            "[2023-03-08 22:46:43] Fine-tune is in the queue. Queue number: 23\n",
            "[2023-03-08 22:46:45] Fine-tune is in the queue. Queue number: 22\n",
            "[2023-03-08 22:47:27] Fine-tune is in the queue. Queue number: 21\n",
            "[2023-03-08 22:49:01] Fine-tune is in the queue. Queue number: 20\n",
            "[2023-03-08 22:50:55] Fine-tune is in the queue. Queue number: 19\n",
            "[2023-03-08 22:51:07] Fine-tune is in the queue. Queue number: 18\n",
            "[2023-03-08 22:51:09] Fine-tune is in the queue. Queue number: 17\n",
            "[2023-03-08 22:53:54] Fine-tune is in the queue. Queue number: 16\n",
            "[2023-03-08 22:54:08] Fine-tune is in the queue. Queue number: 15\n",
            "[2023-03-08 22:54:44] Fine-tune is in the queue. Queue number: 14\n",
            "[2023-03-08 22:57:43] Fine-tune is in the queue. Queue number: 13\n",
            "[2023-03-08 22:58:22] Fine-tune is in the queue. Queue number: 12\n",
            "[2023-03-08 23:02:33] Fine-tune is in the queue. Queue number: 11\n",
            "[2023-03-08 23:04:39] Fine-tune is in the queue. Queue number: 10\n",
            "[2023-03-08 23:04:52] Fine-tune is in the queue. Queue number: 9\n",
            "[2023-03-08 23:05:54] Fine-tune is in the queue. Queue number: 8\n",
            "[2023-03-08 23:07:56] Fine-tune is in the queue. Queue number: 7\n",
            "[2023-03-08 23:08:52] Fine-tune is in the queue. Queue number: 6\n",
            "[2023-03-08 23:09:33] Fine-tune is in the queue. Queue number: 5\n",
            "[2023-03-08 23:09:45] Fine-tune is in the queue. Queue number: 4\n",
            "[2023-03-08 23:10:13] Fine-tune is in the queue. Queue number: 3\n",
            "[2023-03-08 23:11:36] Fine-tune is in the queue. Queue number: 2\n",
            "[2023-03-08 23:13:24] Fine-tune is in the queue. Queue number: 1\n",
            "[2023-03-08 23:13:42] Fine-tune is in the queue. Queue number: 0\n",
            "[2023-03-08 23:14:05] Fine-tune started\n",
            "[2023-03-08 23:18:31] Completed epoch 1/4\n",
            "[2023-03-08 23:21:12] Completed epoch 2/4\n",
            "[2023-03-08 23:23:52] Completed epoch 3/4\n",
            "[2023-03-08 23:26:32] Completed epoch 4/4\n",
            "[2023-03-08 23:27:20] Uploaded model: davinci:ft-international-finance-corporation:fig-bp-mar-0001-2023-03-08-23-27-19\n",
            "[2023-03-08 23:27:21] Uploaded result file: file-OTfEsJRoM7ACFVW3mnZwpJcJ\n",
            "[2023-03-08 23:27:21] Fine-tune succeeded\n",
            "\n",
            "Job complete! Status: succeeded 🎉\n",
            "Try out your fine-tuned model:\n",
            "\n",
            "openai api completions.create -m davinci:ft-international-finance-corporation:fig-bp-mar-0001-2023-03-08-23-27-19 -p <YOUR_PROMPT>\n"
          ]
        }
      ]
    },
    {
      "cell_type": "markdown",
      "source": [
        "### Syncing FineTune Jobs to W&B\n",
        " \n",
        " Logging Fine Tune with W&B to use later\n",
        " "
      ],
      "metadata": {
        "id": "ZkzTIoNgsjxv"
      }
    },
    {
      "cell_type": "code",
      "source": [
        "!openai wandb sync\n",
        "wandb.finish()"
      ],
      "metadata": {
        "colab": {
          "base_uri": "https://localhost:8080/"
        },
        "id": "KuZjW0Jqsro1",
        "outputId": "4fcfed86-248d-4fb3-f181-3fae4ac3019a"
      },
      "execution_count": null,
      "outputs": [
        {
          "output_type": "stream",
          "name": "stdout",
          "text": [
            "\u001b[34m\u001b[1mwandb\u001b[0m: Currently logged in as: \u001b[33mgjain5\u001b[0m (\u001b[33mcdi\u001b[0m). Use \u001b[1m`wandb login --relogin`\u001b[0m to force relogin\n",
            "\u001b[34m\u001b[1mwandb\u001b[0m: Tracking run with wandb version 0.13.11\n",
            "\u001b[34m\u001b[1mwandb\u001b[0m: Run data is saved locally in \u001b[35m\u001b[1m/content/wandb/run-20230308_232738-ft-anN7qjd46Y8vth8qfA3RWI3h\u001b[0m\n",
            "\u001b[34m\u001b[1mwandb\u001b[0m: Run \u001b[1m`wandb offline`\u001b[0m to turn off syncing.\n",
            "\u001b[34m\u001b[1mwandb\u001b[0m: Syncing run \u001b[33mft-anN7qjd46Y8vth8qfA3RWI3h\u001b[0m\n",
            "\u001b[34m\u001b[1mwandb\u001b[0m: ⭐️ View project at \u001b[34m\u001b[4mhttps://wandb.ai/cdi/GPT-3\u001b[0m\n",
            "\u001b[34m\u001b[1mwandb\u001b[0m: 🚀 View run at \u001b[34m\u001b[4mhttps://wandb.ai/cdi/GPT-3/runs/ft-anN7qjd46Y8vth8qfA3RWI3h\u001b[0m\n",
            "\u001b[34m\u001b[1mwandb\u001b[0m: Waiting for W&B process to finish... \u001b[32m(success).\u001b[0m\n",
            "\u001b[34m\u001b[1mwandb\u001b[0m: \n",
            "\u001b[34m\u001b[1mwandb\u001b[0m: Run history:\n",
            "\u001b[34m\u001b[1mwandb\u001b[0m:             elapsed_examples ▁▁▁▁▂▂▂▂▂▃▃▃▃▃▃▄▄▄▄▄▅▅▅▅▅▅▆▆▆▆▆▇▇▇▇▇▇███\n",
            "\u001b[34m\u001b[1mwandb\u001b[0m:               elapsed_tokens ▁▁▁▁▂▂▂▂▂▃▃▃▃▃▃▄▄▄▄▄▅▅▅▅▅▅▆▆▆▆▆▇▇▇▇▇▇███\n",
            "\u001b[34m\u001b[1mwandb\u001b[0m:                training_loss ▆█▅▆▆▅▂▇▆▄█▄▄▆▃▄▆▂▅▅▃▄▅▂▅▃▅▂▂▅▄▅▅▅▄▄▁▃▃▃\n",
            "\u001b[34m\u001b[1mwandb\u001b[0m:   training_sequence_accuracy ▁▁▁▁▁▁▁▁▁▁▁▁▁▁▁▁▁▁▁▁▁▁▁▁▁▁▁▁▁▁▁▁▁▁▁▁▁▁▁▁\n",
            "\u001b[34m\u001b[1mwandb\u001b[0m:      training_token_accuracy ▁▂▃▂▃▄▅▄▅▄▃▆▆▃▄▆▄▆▅▆▆▆▇▇█▄▅▅▅▇▄▆▇▅▇▇▅▄▄▇\n",
            "\u001b[34m\u001b[1mwandb\u001b[0m:              validation_loss ▆▄▆▅▄█▅▄▃▁▅▅▂▂▄▆▃▆▅▄▅▆▅▃▁▅▃▂▃▅\n",
            "\u001b[34m\u001b[1mwandb\u001b[0m: validation_sequence_accuracy ▁▁▁▁▁▁▁▁▁▁▁▁▁▁▁▁▁▁▁▁▁▁▁▁▁▁▁▁▁▁\n",
            "\u001b[34m\u001b[1mwandb\u001b[0m:    validation_token_accuracy ▁▁▄▃▄▄▅▄█▃▃▃▅▄▄▅▂▄▅▂▄▄▄▄▄▄▅▅▅▄\n",
            "\u001b[34m\u001b[1mwandb\u001b[0m: \n",
            "\u001b[34m\u001b[1mwandb\u001b[0m: Run summary:\n",
            "\u001b[34m\u001b[1mwandb\u001b[0m:             elapsed_examples 936.0\n",
            "\u001b[34m\u001b[1mwandb\u001b[0m:               elapsed_tokens 1274824.0\n",
            "\u001b[34m\u001b[1mwandb\u001b[0m:             fine_tuned_model davinci:ft-internati...\n",
            "\u001b[34m\u001b[1mwandb\u001b[0m:                       status succeeded\n",
            "\u001b[34m\u001b[1mwandb\u001b[0m:                training_loss 1.18079\n",
            "\u001b[34m\u001b[1mwandb\u001b[0m:   training_sequence_accuracy 0.0\n",
            "\u001b[34m\u001b[1mwandb\u001b[0m:      training_token_accuracy 0.55925\n",
            "\u001b[34m\u001b[1mwandb\u001b[0m:              validation_loss 1.64037\n",
            "\u001b[34m\u001b[1mwandb\u001b[0m: validation_sequence_accuracy 0.0\n",
            "\u001b[34m\u001b[1mwandb\u001b[0m:    validation_token_accuracy 0.51825\n",
            "\u001b[34m\u001b[1mwandb\u001b[0m: \n",
            "\u001b[34m\u001b[1mwandb\u001b[0m: 🚀 View run \u001b[33mft-anN7qjd46Y8vth8qfA3RWI3h\u001b[0m at: \u001b[34m\u001b[4mhttps://wandb.ai/cdi/GPT-3/runs/ft-anN7qjd46Y8vth8qfA3RWI3h\u001b[0m\n",
            "\u001b[34m\u001b[1mwandb\u001b[0m: Synced 4 W&B file(s), 0 media file(s), 5 artifact file(s) and 0 other file(s)\n",
            "\u001b[34m\u001b[1mwandb\u001b[0m: Find logs at: \u001b[35m\u001b[1m./wandb/run-20230308_232738-ft-anN7qjd46Y8vth8qfA3RWI3h/logs\u001b[0m\n",
            "🎉 wandb sync completed successfully\n"
          ]
        }
      ]
    }
  ]
}