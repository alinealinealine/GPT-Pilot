{
  "nbformat": 4,
  "nbformat_minor": 0,
  "metadata": {
    "colab": {
      "provenance": [],
      "include_colab_link": true
    },
    "kernelspec": {
      "name": "python3",
      "display_name": "Python 3"
    },
    "language_info": {
      "name": "python"
    },
    "widgets": {
      "application/vnd.jupyter.widget-state+json": {
        "6914b230a6f44121be57e839e6aae8bd": {
          "model_module": "@jupyter-widgets/controls",
          "model_name": "VBoxModel",
          "model_module_version": "1.5.0",
          "state": {
            "_dom_classes": [],
            "_model_module": "@jupyter-widgets/controls",
            "_model_module_version": "1.5.0",
            "_model_name": "VBoxModel",
            "_view_count": null,
            "_view_module": "@jupyter-widgets/controls",
            "_view_module_version": "1.5.0",
            "_view_name": "VBoxView",
            "box_style": "",
            "children": [
              "IPY_MODEL_f42ab365b7b04e5488126f9ee04a889b",
              "IPY_MODEL_e1dd2a22d89045fdb1c4c6e67f8267ce"
            ],
            "layout": "IPY_MODEL_eb69c96942334c9cb3b82c48b47c4d46"
          }
        },
        "f42ab365b7b04e5488126f9ee04a889b": {
          "model_module": "@jupyter-widgets/controls",
          "model_name": "LabelModel",
          "model_module_version": "1.5.0",
          "state": {
            "_dom_classes": [],
            "_model_module": "@jupyter-widgets/controls",
            "_model_module_version": "1.5.0",
            "_model_name": "LabelModel",
            "_view_count": null,
            "_view_module": "@jupyter-widgets/controls",
            "_view_module_version": "1.5.0",
            "_view_name": "LabelView",
            "description": "",
            "description_tooltip": null,
            "layout": "IPY_MODEL_55418a7a16624ab7b4cd645369a4591c",
            "placeholder": "​",
            "style": "IPY_MODEL_22b9c00980a94e93bbe796bad7b04d7a",
            "value": "3.356 MB of 3.517 MB uploaded (0.000 MB deduped)\r"
          }
        },
        "e1dd2a22d89045fdb1c4c6e67f8267ce": {
          "model_module": "@jupyter-widgets/controls",
          "model_name": "FloatProgressModel",
          "model_module_version": "1.5.0",
          "state": {
            "_dom_classes": [],
            "_model_module": "@jupyter-widgets/controls",
            "_model_module_version": "1.5.0",
            "_model_name": "FloatProgressModel",
            "_view_count": null,
            "_view_module": "@jupyter-widgets/controls",
            "_view_module_version": "1.5.0",
            "_view_name": "ProgressView",
            "bar_style": "",
            "description": "",
            "description_tooltip": null,
            "layout": "IPY_MODEL_df773a6ebef24a4c8744789e7de0a1ad",
            "max": 1,
            "min": 0,
            "orientation": "horizontal",
            "style": "IPY_MODEL_4f417586b15549b8ba34f7e5ded0af68",
            "value": 0.9541772237021354
          }
        },
        "eb69c96942334c9cb3b82c48b47c4d46": {
          "model_module": "@jupyter-widgets/base",
          "model_name": "LayoutModel",
          "model_module_version": "1.2.0",
          "state": {
            "_model_module": "@jupyter-widgets/base",
            "_model_module_version": "1.2.0",
            "_model_name": "LayoutModel",
            "_view_count": null,
            "_view_module": "@jupyter-widgets/base",
            "_view_module_version": "1.2.0",
            "_view_name": "LayoutView",
            "align_content": null,
            "align_items": null,
            "align_self": null,
            "border": null,
            "bottom": null,
            "display": null,
            "flex": null,
            "flex_flow": null,
            "grid_area": null,
            "grid_auto_columns": null,
            "grid_auto_flow": null,
            "grid_auto_rows": null,
            "grid_column": null,
            "grid_gap": null,
            "grid_row": null,
            "grid_template_areas": null,
            "grid_template_columns": null,
            "grid_template_rows": null,
            "height": null,
            "justify_content": null,
            "justify_items": null,
            "left": null,
            "margin": null,
            "max_height": null,
            "max_width": null,
            "min_height": null,
            "min_width": null,
            "object_fit": null,
            "object_position": null,
            "order": null,
            "overflow": null,
            "overflow_x": null,
            "overflow_y": null,
            "padding": null,
            "right": null,
            "top": null,
            "visibility": null,
            "width": null
          }
        },
        "55418a7a16624ab7b4cd645369a4591c": {
          "model_module": "@jupyter-widgets/base",
          "model_name": "LayoutModel",
          "model_module_version": "1.2.0",
          "state": {
            "_model_module": "@jupyter-widgets/base",
            "_model_module_version": "1.2.0",
            "_model_name": "LayoutModel",
            "_view_count": null,
            "_view_module": "@jupyter-widgets/base",
            "_view_module_version": "1.2.0",
            "_view_name": "LayoutView",
            "align_content": null,
            "align_items": null,
            "align_self": null,
            "border": null,
            "bottom": null,
            "display": null,
            "flex": null,
            "flex_flow": null,
            "grid_area": null,
            "grid_auto_columns": null,
            "grid_auto_flow": null,
            "grid_auto_rows": null,
            "grid_column": null,
            "grid_gap": null,
            "grid_row": null,
            "grid_template_areas": null,
            "grid_template_columns": null,
            "grid_template_rows": null,
            "height": null,
            "justify_content": null,
            "justify_items": null,
            "left": null,
            "margin": null,
            "max_height": null,
            "max_width": null,
            "min_height": null,
            "min_width": null,
            "object_fit": null,
            "object_position": null,
            "order": null,
            "overflow": null,
            "overflow_x": null,
            "overflow_y": null,
            "padding": null,
            "right": null,
            "top": null,
            "visibility": null,
            "width": null
          }
        },
        "22b9c00980a94e93bbe796bad7b04d7a": {
          "model_module": "@jupyter-widgets/controls",
          "model_name": "DescriptionStyleModel",
          "model_module_version": "1.5.0",
          "state": {
            "_model_module": "@jupyter-widgets/controls",
            "_model_module_version": "1.5.0",
            "_model_name": "DescriptionStyleModel",
            "_view_count": null,
            "_view_module": "@jupyter-widgets/base",
            "_view_module_version": "1.2.0",
            "_view_name": "StyleView",
            "description_width": ""
          }
        },
        "df773a6ebef24a4c8744789e7de0a1ad": {
          "model_module": "@jupyter-widgets/base",
          "model_name": "LayoutModel",
          "model_module_version": "1.2.0",
          "state": {
            "_model_module": "@jupyter-widgets/base",
            "_model_module_version": "1.2.0",
            "_model_name": "LayoutModel",
            "_view_count": null,
            "_view_module": "@jupyter-widgets/base",
            "_view_module_version": "1.2.0",
            "_view_name": "LayoutView",
            "align_content": null,
            "align_items": null,
            "align_self": null,
            "border": null,
            "bottom": null,
            "display": null,
            "flex": null,
            "flex_flow": null,
            "grid_area": null,
            "grid_auto_columns": null,
            "grid_auto_flow": null,
            "grid_auto_rows": null,
            "grid_column": null,
            "grid_gap": null,
            "grid_row": null,
            "grid_template_areas": null,
            "grid_template_columns": null,
            "grid_template_rows": null,
            "height": null,
            "justify_content": null,
            "justify_items": null,
            "left": null,
            "margin": null,
            "max_height": null,
            "max_width": null,
            "min_height": null,
            "min_width": null,
            "object_fit": null,
            "object_position": null,
            "order": null,
            "overflow": null,
            "overflow_x": null,
            "overflow_y": null,
            "padding": null,
            "right": null,
            "top": null,
            "visibility": null,
            "width": null
          }
        },
        "4f417586b15549b8ba34f7e5ded0af68": {
          "model_module": "@jupyter-widgets/controls",
          "model_name": "ProgressStyleModel",
          "model_module_version": "1.5.0",
          "state": {
            "_model_module": "@jupyter-widgets/controls",
            "_model_module_version": "1.5.0",
            "_model_name": "ProgressStyleModel",
            "_view_count": null,
            "_view_module": "@jupyter-widgets/base",
            "_view_module_version": "1.2.0",
            "_view_name": "StyleView",
            "bar_color": null,
            "description_width": ""
          }
        }
      }
    }
  },
  "cells": [
    {
      "cell_type": "markdown",
      "metadata": {
        "id": "view-in-github",
        "colab_type": "text"
      },
      "source": [
        "<a href=\"https://colab.research.google.com/github/alinealinealine/GPT-Pilot/blob/main/src/Finetuning_with_GPT3.ipynb\" target=\"_parent\"><img src=\"https://colab.research.google.com/assets/colab-badge.svg\" alt=\"Open In Colab\"/></a>"
      ]
    },
    {
      "cell_type": "markdown",
      "source": [
        "# Fine-Tune GPT-3 for AIMM narrative ex-ante\n",
        "\n",
        "OpenAI's GPT-3 is a natural language model trained on large set of training data. It can be used for various tasks, including to generate data. \n",
        "\n",
        "However, the model is generalist in nature and thus, not fit for specialised tasks in its original or vaniall version. However, will a bit of finetuning it can be used for more specialised tasks such as generating AIMM text. \n",
        "\n",
        "The fine-tuning happens via OpenAI's API to fine tune GPT-3. "
      ],
      "metadata": {
        "id": "IKvXNTD4z6hW"
      }
    },
    {
      "cell_type": "markdown",
      "source": [
        "## Installing dependencies and libraries"
      ],
      "metadata": {
        "id": "Ok-vp7KIzqtR"
      }
    },
    {
      "cell_type": "code",
      "execution_count": null,
      "metadata": {
        "colab": {
          "base_uri": "https://localhost:8080/"
        },
        "id": "_sm4C8Csy9Uo",
        "outputId": "6f103cb7-8b19-44b2-8a46-896b12016810"
      },
      "outputs": [
        {
          "output_type": "stream",
          "name": "stdout",
          "text": [
            "\u001b[2K     \u001b[90m━━━━━━━━━━━━━━━━━━━━━━━━━━━━━━━━━━━━━━━━\u001b[0m \u001b[32m70.1/70.1 KB\u001b[0m \u001b[31m4.4 MB/s\u001b[0m eta \u001b[36m0:00:00\u001b[0m\n",
            "\u001b[2K     \u001b[90m━━━━━━━━━━━━━━━━━━━━━━━━━━━━━━━━━━━━━━━━\u001b[0m \u001b[32m2.0/2.0 MB\u001b[0m \u001b[31m16.6 MB/s\u001b[0m eta \u001b[36m0:00:00\u001b[0m\n",
            "\u001b[2K     \u001b[90m━━━━━━━━━━━━━━━━━━━━━━━━━━━━━━━━━━━━━━\u001b[0m \u001b[32m184.3/184.3 KB\u001b[0m \u001b[31m12.7 MB/s\u001b[0m eta \u001b[36m0:00:00\u001b[0m\n",
            "\u001b[2K     \u001b[90m━━━━━━━━━━━━━━━━━━━━━━━━━━━━━━━━━━━━━━\u001b[0m \u001b[32m184.3/184.3 KB\u001b[0m \u001b[31m11.8 MB/s\u001b[0m eta \u001b[36m0:00:00\u001b[0m\n",
            "\u001b[?25h  Preparing metadata (setup.py) ... \u001b[?25l\u001b[?25hdone\n",
            "\u001b[2K     \u001b[90m━━━━━━━━━━━━━━━━━━━━━━━━━━━━━━━━━━━━━━━━\u001b[0m \u001b[32m62.7/62.7 KB\u001b[0m \u001b[31m3.7 MB/s\u001b[0m eta \u001b[36m0:00:00\u001b[0m\n",
            "\u001b[?25h  Building wheel for pathtools (setup.py) ... \u001b[?25l\u001b[?25hdone\n"
          ]
        }
      ],
      "source": [
        "!pip install -Uq openai wandb"
      ]
    },
    {
      "cell_type": "code",
      "source": [
        "import openai\n",
        "import wandb\n",
        "from pathlib import Path\n",
        "import pandas as pd\n",
        "import numpy as np\n",
        "import json\n",
        "from tqdm import tqdm\n",
        "from sklearn.model_selection import train_test_split"
      ],
      "metadata": {
        "id": "x48qUFw30-NU"
      },
      "execution_count": null,
      "outputs": []
    },
    {
      "cell_type": "code",
      "source": [
        "#Entering API Credentials\n",
        "openai.api_key_path = \"./api.txt\""
      ],
      "metadata": {
        "id": "b87W6_B11Wvv"
      },
      "execution_count": null,
      "outputs": []
    },
    {
      "cell_type": "markdown",
      "source": [
        "## Dataset Prepration\n",
        "\n",
        "The dataset was processed in R by scrapping relevant documents and cleaning it into the JSON format required to finetune the mdoel. The dataset are split based on sector and portion of AIMM narrative it is expected to generate. \n",
        "\n",
        "1. Sector:\n",
        "  1. FIG\n",
        "  2. MAS\n",
        "  3. CDF\n",
        "  4. INR\n",
        "2. Section of AIMM narrative\n",
        "  1. Project narrative\n",
        "  2. Market narrative \n",
        "  3. Indicators\n",
        "\n",
        "In addition different variation of prompts are also explored - creating different models. \n",
        "\n",
        "## Model naming convention\n",
        "\n",
        "In order to keep track of the models they are to be named using the following convention: \"SSS-IN-GEN-XXXX\"\n",
        "* SSS: Refers to Sector of the model's focus\n",
        "* IN: Refers to model input, can be BP for Board Papers and GE for Generic documents\n",
        "* GEN: Refers to which section the model is trying to generate. Can be one of the following:\n",
        "  * PRO: Project narrative\n",
        "  * MAR: Market narrative\n",
        "  * IND: Indicators\n",
        "* XXXX: Refers to the number of the model - as various models might be created to accomodate various prompts. This can also be alpha numeric.\n",
        "\n",
        "\n"
      ],
      "metadata": {
        "id": "CFHJWRAXoOcU"
      }
    },
    {
      "cell_type": "code",
      "source": [
        "project_name = 'FIG-BP-PRO'\n",
        "model_name = 'FIG-BP-PRO-0001'"
      ],
      "metadata": {
        "id": "8wBYzA_hCm8p"
      },
      "execution_count": null,
      "outputs": []
    },
    {
      "cell_type": "markdown",
      "source": [
        "# Fine Tuning \n",
        "\n",
        "Fine tuning involves the following steps:\n",
        "1. Preparing the dataset: Datset is here split into training and validation sets. Before the split - the prompts are also shared with OpenAI to see if they are aligned with the requirements for finetuning.\n",
        "2. FineTuning: This is where the split datasets are shared with OpenAI for finetuning of the GPT model. The final model is saved and can be accessed both here and on OpenAI playground.  \n",
        "\n",
        "## Preping the dataset"
      ],
      "metadata": {
        "id": "li0JRCSo6ISg"
      }
    },
    {
      "cell_type": "code",
      "source": [
        "# create a job for splitting dataset\n",
        "run = wandb.init(project=project_name, job_type='split dataset')"
      ],
      "metadata": {
        "colab": {
          "base_uri": "https://localhost:8080/",
          "height": 228
        },
        "id": "KiHs1hwP7OqG",
        "outputId": "d9704435-e1f5-401a-adac-5fbe9faa5338"
      },
      "execution_count": null,
      "outputs": [
        {
          "output_type": "stream",
          "name": "stderr",
          "text": [
            "ERROR:wandb.jupyter:Failed to detect the name of this notebook, you can set it manually with the WANDB_NOTEBOOK_NAME environment variable to enable code saving.\n"
          ]
        },
        {
          "output_type": "display_data",
          "data": {
            "text/plain": [
              "<IPython.core.display.Javascript object>"
            ],
            "application/javascript": [
              "\n",
              "        window._wandbApiKey = new Promise((resolve, reject) => {\n",
              "            function loadScript(url) {\n",
              "            return new Promise(function(resolve, reject) {\n",
              "                let newScript = document.createElement(\"script\");\n",
              "                newScript.onerror = reject;\n",
              "                newScript.onload = resolve;\n",
              "                document.body.appendChild(newScript);\n",
              "                newScript.src = url;\n",
              "            });\n",
              "            }\n",
              "            loadScript(\"https://cdn.jsdelivr.net/npm/postmate/build/postmate.min.js\").then(() => {\n",
              "            const iframe = document.createElement('iframe')\n",
              "            iframe.style.cssText = \"width:0;height:0;border:none\"\n",
              "            document.body.appendChild(iframe)\n",
              "            const handshake = new Postmate({\n",
              "                container: iframe,\n",
              "                url: 'https://wandb.ai/authorize'\n",
              "            });\n",
              "            const timeout = setTimeout(() => reject(\"Couldn't auto authenticate\"), 5000)\n",
              "            handshake.then(function(child) {\n",
              "                child.on('authorize', data => {\n",
              "                    clearTimeout(timeout)\n",
              "                    resolve(data)\n",
              "                });\n",
              "            });\n",
              "            })\n",
              "        });\n",
              "    "
            ]
          },
          "metadata": {}
        },
        {
          "output_type": "stream",
          "name": "stderr",
          "text": [
            "\u001b[34m\u001b[1mwandb\u001b[0m: Logging into wandb.ai. (Learn how to deploy a W&B server locally: https://wandb.me/wandb-server)\n",
            "\u001b[34m\u001b[1mwandb\u001b[0m: You can find your API key in your browser here: https://wandb.ai/authorize\n",
            "wandb: Paste an API key from your profile and hit enter, or press ctrl+c to quit:"
          ]
        },
        {
          "name": "stdout",
          "output_type": "stream",
          "text": [
            " ··········\n"
          ]
        },
        {
          "output_type": "stream",
          "name": "stderr",
          "text": [
            "\u001b[34m\u001b[1mwandb\u001b[0m: Appending key for api.wandb.ai to your netrc file: /root/.netrc\n"
          ]
        },
        {
          "output_type": "display_data",
          "data": {
            "text/plain": [
              "<IPython.core.display.HTML object>"
            ],
            "text/html": [
              "Tracking run with wandb version 0.13.10"
            ]
          },
          "metadata": {}
        },
        {
          "output_type": "display_data",
          "data": {
            "text/plain": [
              "<IPython.core.display.HTML object>"
            ],
            "text/html": [
              "Run data is saved locally in <code>/content/wandb/run-20230307_185452-u7u6jvu9</code>"
            ]
          },
          "metadata": {}
        },
        {
          "output_type": "display_data",
          "data": {
            "text/plain": [
              "<IPython.core.display.HTML object>"
            ],
            "text/html": [
              "Syncing run <strong><a href='https://wandb.ai/cdi/FIG-BP-PRO/runs/u7u6jvu9' target=\"_blank\">rare-snowflake-1</a></strong> to <a href='https://wandb.ai/cdi/FIG-BP-PRO' target=\"_blank\">Weights & Biases</a> (<a href='https://wandb.me/run' target=\"_blank\">docs</a>)<br/>"
            ]
          },
          "metadata": {}
        },
        {
          "output_type": "display_data",
          "data": {
            "text/plain": [
              "<IPython.core.display.HTML object>"
            ],
            "text/html": [
              " View project at <a href='https://wandb.ai/cdi/FIG-BP-PRO' target=\"_blank\">https://wandb.ai/cdi/FIG-BP-PRO</a>"
            ]
          },
          "metadata": {}
        },
        {
          "output_type": "display_data",
          "data": {
            "text/plain": [
              "<IPython.core.display.HTML object>"
            ],
            "text/html": [
              " View run at <a href='https://wandb.ai/cdi/FIG-BP-PRO/runs/u7u6jvu9' target=\"_blank\">https://wandb.ai/cdi/FIG-BP-PRO/runs/u7u6jvu9</a>"
            ]
          },
          "metadata": {}
        }
      ]
    },
    {
      "cell_type": "code",
      "source": [
        "# download full dataset\n",
        "dataset_path = \"./\"+model_name+\".json\""
      ],
      "metadata": {
        "id": "ZxedbhgI7Pg7"
      },
      "execution_count": null,
      "outputs": []
    },
    {
      "cell_type": "code",
      "source": [
        "!head $dataset_path"
      ],
      "metadata": {
        "colab": {
          "base_uri": "https://localhost:8080/"
        },
        "id": "J_nHuJzL8HL7",
        "outputId": "01f99fff-cb2f-4f74-87f0-4c98507c3b00"
      },
      "execution_count": null,
      "outputs": [
        {
          "output_type": "stream",
          "name": "stdout",
          "text": [
            "{\"prompt\":\"DEVELOPMENT IMPACT Summary The Project has an AIMM rating of [Satisfactory] based on an AIMM score of [35]. On an unadjusted basis (without a likelihood factor), the full potential AIMM score could reach [46]. The most significant expected project-level outcome is increased access to finance for VSE/SMEs and WSMEs. Beyond the Project, IFC anticipates that it has the potential to promote greater market competitiveness by demonstrating the commercial viability of lending to underserved VSE/SME segments.\\n\\n###\\n\\n\",\"completion\":\" Assessment of Project Outcomes The project outcomes rating is [Strong] with a [Medium] likelihood of achievement. The likelihood assessment is based on the following: (i) the Bank management’s strategic commitment to growing its SME business contribution from 27% to 43% by 2021; (ii) integrated advisory services support that will help the Bank improve the use of the RSF, and thereby help expand its portfolio; (iii) the sound quality of the SME portfolio with low NPLs (2 percent after carving out legacy loans that have been fully provisioned, and as compared to overall banking industry NPL of 12 percent); (iv) the fact that the Project builds on government priorities and World Bank initiatives to improve financial infrastructure in Kenya and remove demand-side barriers to SME finance – for example, Kenya’s regulatory environment around credit infrastructure and collateralized lending has seen improvements, including the introduction of a law on secured transactions aimed at expanding access to finance for SMEs; and (v) the lifting of the interest rate cap in November, 2019 which is expected to lead to an increase in MSME financing in the country. The likelihood assessment is tempered by: (i) BOAK’s limited presence in the VSE/SME/WSME business; and (ii) the uncertainties linked to the impact of the COVID-19 pandemic and a potential related slowdown in national and global growth (please also see Country Context section). Stakeholder effects – Increase in accessibility of finance for SMEs/VSEs and WSMEs: The Micro, Small, and Medium Enterprise (MSME) Finance Gap Report estimates that the financing gap for Kenya’s SMEs is US$18.2 billion, equivalent to 29 percent of GDP. It also estimates that 30 percent of Kenyan SMEs are partly or fully credit constrained, while 21 percent self-identify financing to be a major or severe constraint for further growth. Only 38 percent of SMEs in Kenya have access to a loan, and the current volume of SME finance is equivalent to 6 percent of GDP. Women face greater challenges to access finance. As per the MSME Finance Gap Report, the share of fully credit constrained female owned MSMEs is 23 percent compared to 11 percent for male owned MSMEs; and a greater proportion of loans required collateral for women owned/managed firms’ (90 percent) compared to that for male owned firms (79 percent). Discussions with BOAK during the Bank’s appraisal revealed that one of the major barriers to SME lending relates to the lack of assets available to SMEs to pledge as collateral and the lack of flexibility offered by banks through traditional collateral-based lending. Existing business models of commercial banks are not adapted to effectively serve the SME segment because banks practice high collateral lending and tend to focus on corporate clients with an established and profitable business, and therefore lower risk profile. In Kenya, the value of collateral needed for a loan as a percentage of the loan amount is 252 percent, compared to 206 percent in Sub-Saharan Africa. BOAK was a leading SME bank about 7 years ago but changed its strategy to focus on retail banking in line with the overall BOA group strategy. Its SME loan book has been shrinking progressively at an annual average rate of 12% over the last 3 years due to both external market forces such as interest capping and internal forces that saw the bank change its strategic focus to Retail. However, the Bank recently rolled out its three-year Strategic Plan 2019/21 focusing on transforming the Bank’s balance sheet by deconcentrating the corporate portfolio and growing SME business contribution from 27% to 43% by 2021. The strategic plan includes several components including shifting its focus from larger SMEs to VSEs; adopting a customer development plan and growth matrix; mining SMEs from the value chains of existing large corporates; adopting a risk based pricing model; developing SME needs-based solutions/product propositions; branch reorganization and SME relationship management; adopting a digital service model; and providing non-financial services such as business registration, audit, and tax advisory. IFC anticipates that the Project will allow the Bank to increase its VSE/SME and WSME portfolio risk profile, thereby increasing access to finance for SMEs, which is considered the second biggest obstacle for firms in Kenya. While the RSF does not eliminate the need for collateral, it will help BOAK consider applications from customers that are perceived as having a higher credit risk due to factors such as lack of collateral or lack of credit history, and price those loans according to their risk profile as opposed to not even considering this customer segment. To that end, IFC’s financing and advisory work will enable the Bank to increase its outstanding VSE/SME portfolio by 61 percent from US$ 85.9 million to US$ 138.4 million over the life of the Project. As a result, the VSE/SME share of BOAK’s overall loan portfolio is expected to increase from 56 percent to 60 percent between 2019 and 2024. Currently, only $5 million of BOAK’s SME loan portfolio is to WSMEs. Through this project, this is expected to grow to $7.2 million by 2024. To measure progress against these outcomes, IFC will track the number and the volume of the Bank’s outstanding loans to VSEs/SMEs, WSMEs and the VSE/SME share of BOAK’s overall loan portfolio (see Results Measurement below).\\n[END]\"}\n",
            "{\"prompt\":\"Development Impact Summary The Project has an Anticipated Impact Measurement and Monitoring (AIMM) rating of Good, based on an AIMM score of 61. The most significant, expected project-level outcome is increased access to finance for microentrepreneurs from Colombia’s underserved segments including rural, low-income, and agribusinesses. Beyond the project outcomes, IFC anticipates the Project has the potential to promote greater inclusiveness via demonstration and replication channels.\\n\\n###\\n\\n\",\"completion\":\" Assessment of Project Outcomes The Project outcome rating is Very Strong with High likelihood of achievement. The likelihood assessment is based on (i) moderate but stable economic growth; (ii) track record of Contactar as a leading player in the rural credit in Colombia, (iii) demonstrated operational capacity and leadership position of Contactar in the Colombian financial sector; and (iii) ecological changes affecting productivity due to climate change in the agricultural sector, increasing demand for its non-financial services for farmers. The anticipated Project outcome is composed of the following: Stakeholders – increased access to finance for microentrepreneurs from underserved segments including rural areas: The Project will foster access to finance for microentrepreneurs from rural areas, with a strong focus on agri-lending, contributing to financial inclusion in the Country. The estimated finance gap for microfinance in Colombia is US$56.2 billion, as only an estimated 40.5 percent of the population finances their economic activities through financial services. In addition to the overall formal sector microfinance gap, access to finance in rural areas in the country is thought to be further exacerbated; A study found that 55.2 percent and 74.9 percent of the population residing in rural and disperse rural areas, respectively, did not have access to credit either in the form of formal nor informal financial opportunities. Moreover, a publication from the Colombian Central Bank found that less than 40 percent of microfinance clients live in rural areas, where while microfinance institutions those are typically the only financing options in those areas, indicating a largeer financing gap. With over 82 percent of loan portfolio located in rural areas, the Company, through its credit products with the average loan size at US$798, effectively serves this segment whilst aiding to reduce the financing gap. Moreover, IFC advisory services are providing Contactar with technical assistance to develop a digital strategy with the goal to improve operational efficiency. Reducing the operational costs is key to sustainably continue to expand its coverage in the underserved areas. Moreover, over 50 percent of Contactar’s portfolio is with the agriculture sector. The same study identified that only 29 percent of microfinance clients work in agricultural activities, while 50 percent of the individuals whose loan applications have been rejected worked in agricultural-related activities. Given the importance of agriculture in rural areas, as it provides 62.3 percent of employment, it is crucial to improve access to finance for such activities in rural regions. Finally, the project will also contribute to expanding financial inclusion for the poor and vulnerable populations. Currently in Colombia, 85 percent of microcredit applications are concentrated within the low, low-to-middle and middle-income stratum. To measure progress against this outcome, IFC will track the growth of Contactar’s outstanding microloan portfolio for rural areas (please, refer to the Development Impact Indicators below). Stakeholders – increased access to microinsurance for microfinance clients from underserved areas including rural areas: The project will promote the access to microinsurance services in Colombia, contributing to financial inclusion in the Country. There is a significant insurance gap in the Country as only an estimated 42.4 percent of the population currently owns an insurance policy. As there is a low level of financial inclusion in the rural regions where Contactar is present, the majority of the population is observed to be left unattended by the insurance sector. Contactar leverages its existing relationship with borrowers to cross sell its insurance products, beyond the required life insurance. Contactar has been successful in providing additional insurance packages to the borrowers’ family members and their employees. To measure progress against this outcome, IFC will track the growth of the number of voluntary life insurance policies issued (please, refer to the Development Impact Indicators below). Stakeholders – increased access to financial education and technical trainings to microfinance clients from underserved segments including rural areas: Contactar is one of the leading MFIs in the sector, with a strong social mission to tackle financial inclusion through its lending to the microfinance segment. It employs a business model to specifically tackle and overcome the challenges in serving these underserved segments, through the distribution of its branches and development of financial education and agricultural technical guidance. As one of its main services, the Company offers financial education trainings for the communities in which it is present, to establish good financial behavior. Similarly, it offers technical trainings for its borrowers in the agriculture industry that is focused on the adaptation of harvesting methods to tackle changes owing to climate change. Through these trainings, Contactar aims to improve financial literacy of its clients to improve asset quality, while investing in its clients’ business growth through technical trainings in a sustainable manner. IFC expects the project to help Contactar expand its technical assistance to its borrowers, which contributes to sustainably growing its microenterprise loan portfolio, mostly targeting underserved segments. To measure progress against this outcome, IFC will track the total number of persons reached by financial education and technical trainings provided by Contactar (refer to the Development Impact Indicators below).\\n[END]\"}\n",
            "{\"prompt\":\"DEVELOPMENT IMPACT Summary The Project has an AIMM rating of Satisfactory, based on an AIMM score of 37. On an unadjusted basis (i.e. without likelihood factor), the full potential AIMM score could reach 46. The most significant expected Project-level outcome is increased access to MSME finance in the Fund’s 14 ECA target countries. Beyond the Project-level outcome, IFC anticipates that the investment will foster greater market competitiveness by demonstrating the viability of growing the share of local currency financing and fostering product innovation among MSME lenders in the region.\\n\\n###\\n\\n\",\"completion\":\" Assessment of Project Outcomes The Project outcomes rating is Moderate with High likelihood of achievement. The likelihood assessment is based on (i) the Fund’s successful track record that surpassed the initial expectations in terms of size, number and volume of sub-loans generated to-date; (ii) the Fund’s successful business model and established footprint in 14 countries; and (iii) the NPL level has been under 1 percent of the outstanding portfolio so far. The Project outcomes are composed of the following: Stakeholders Effects – Access to MSE finance: The most significant, expected Stakeholders’ effect is increased access to micro and small enterprises finance in ECA. MSMEs are the backbone of most economies worldwide and play a key role in developing economies as an engine of economic growth. They are an important driver of economic development and job creation in ECA. Yet, access to finance remains a key barrier to their growth. Research shows that 27 percent of formal MSMEs in ECA have unmet financing needs. The MSME finance gap in the region is estimated to be around US$740 billion, which is 1.5 times the current level of MSME funding. Among EFSE’s portfolio countries, the weighted average SME finance gap is about 14 percent% of GDP. The higher cost of lending (small transactions size, high capital/provisioning costs), low-risk appetite (poor credit information, deficient solvency regimes), undeveloped financial markets with the limited product offering, and pricing constraints and distortions (interest rate caps/subsidies) constitute major supply-side factors constraining MSMEs’ access to finance. In most ECA countries, financial systems are bank-centriccentric, and the banking sector has limited access to long-term finance, an important obstacle to MSME lending growth. The proposed project aims to address the MSME financing gap in ECA. EFSE provides financing to financial institutions for on-lending to micro and small businesses through banks and microfinance institutions. EFSE is currently working with 67 financial institutions in 14 countries, including commercial banks (44 percent of total portfolio), small and medium commercial banks (22 percent), three microfinance banks and institutions (15 percent), and non-bank financial institutions (19 percent). The Fund also reaches clients that IFC may not be able to reach directly due to small transaction sizes, in particular through microfinance institutions and small business focused banks. EFSE’s portfolio consist of many small loans to FIs sized between US$0.5 million and US$7 million, which constitutes 53 percent of all Fund’s onlendingon lending to participating FIs. Since inception, EFSE has disbursed more than 983,000 sub-loans through PFIs totaling EUR7.3 billion, reaching about 133,000 sub-borrowers while the average sub-loan has remained small at EUR6,634. The sub-loan portfolio was $830 million as of the end of 2019of 2019, and the Fund forecasts that the Fund’s micro and small loan portfolios will increase from US$266 million and US$564 million in 2019 to US$294 million and US$623 million in 2024, respectively. The Fund primarily benefits micro and small enterprises of which 19 percent are in rural areas, with 57 percent% of the loans provided in local currency. To measure progress against this outcome, IFC will track the Fund’s micro and small loan portfolio growth (see Results Measurement below).\\n[END]\"}\n",
            "{\"prompt\":\"DEVELOPMENT IMPACT Summary The Project has an Anticipated Impact Measurement and Monitoring (AIMM) rating of Satisfactory, based on an AIMM score of 40. On an unadjusted basis (i.e., without likelihood factor), the full potential AIMM score could reach 46. Beyond the project-level effect, IFC anticipates that the project has the potential to promote greater competitiveness in the market through demonstration and replication channels.\\n\\n###\\n\\n\",\"completion\":\" Assessment of Project Outcomes The Project outcome rating is Strong with a High likelihood of achievement. The likelihood assessment is based on (i) strong economic fundamentals underpinning a positive, albeit subdued, growth outlook, (ii) historical growth of the SME lending industry and strong potential for further growth, (iii) Exitus Capital’s rapid growth, its experience, track record, and well-defined growth strategy for SME-lending, (iv) sound profitability and strong capitalization with lower NPLs than other unregulated SOFOMs lending to enterprises, (v) strong support from Kandeo which is working to improve Exitus Capital’s corporate governance and credit processes; and (vi) the WBG’s broader approach to improve asset-based lending in Mexico to accelerate SME credit growth. The project-level effects are composed of the following: Stakeholders effects– Increased access to finance for SMEs: Despite a gradual increase in access to finance, the Mexican SMEs continue to be financially constrained. IFC anticipates the Project will increase access to SME finance through several product lines including factoring, leasing, working capital and long-term loans. IFC SME Finance Forum estimates that the formal SME finance gap in Mexico amounts to US$163.6 billion which represents approximately 14.3 percent of GDP. About 31 percent of SMEs consider lack of access to finance as a major or severe obstacle to their growth. Local banks mostly serve known clients with credit based on strong balance sheets and penalize MSMEs with significant margins – over 60 percent of MSMEs reject bank loans due to high costs. Consequently, the central bank reports that lending to SMEs by regulated financial institutions has fallen from 13.6 percent of private credit to 11.8 percent in 2017. Therefore, SOFOMs such as Exitus Capital play a critical role in addressing the financing needs of underserved SMEs. By integrating multiple SME financing products beyond short-term working capital loans to offer secured longer term loans, factoring, as well as leasing products for acquisition of new assets, Exitus Capital is creatively improving access to finance for smaller and younger SMEs. Furthermore, it also provides further SME-support through consulting services in areas of financial planning and strategy. IFC anticipates that the Project will increase access to finance for SMEs in Mexico by helping Exitus Capital grow its outstanding SME financing portfolio (including SME loans, factoring and leasing products) at an average annual growth rate (AAGR) of 20 percent per annum over the next five years. Through the Project, IFC will help the NBFI to grow the total number of its outstanding SME credit products (loans, factoring and leasing) from the current baseline of 10,728 to 20,338 in 2024. The total volume of outstanding SME credit products is expected to increase from US$138.5 million in December 2019 to US$320.9 million by 2024. IFC expects the Project to help Exitus Capital to grow its current outstanding SME finance portfolio by a factor of 2.5 times in local currency terms. To measure the progress against this outcome, IFC will track the number and volume of SME financing outstanding by product type (see Results Measurement Table 2 below). SMEs play a central role in the creation of employment in emerging markets. In the context of Mexico, SMEs are responsible for roughly 52 percent of GDP and approximately 71 percent of employment. By improving access to finance for SMEs, the project is expected to create more jobs in the economy. If the above portfolio growth projections materialize, the Project is expected to create between 7,000 and 11, 000 jobs over the next five years.\\n[END]\"}\n",
            "{\"prompt\":\"DEVELOPMENT IMPACT Summary The Project has an Anticipated Impact Measurement and Monitoring (“AIMM”) rating of Good based on an AIMM score of 53. The most significant expected project-level outcome is from increased access to longer-term finance for underserved SMEs and WSMEs and increased access to finance for climate-smart projects in Nigeria. Beyond the Project level outcome, IFC anticipates that the Project has the potential to promote greater market inclusiveness through demonstration of the commercial viability of lending to underserved WSMEs in Nigeria.\\n\\n###\\n\\n\",\"completion\":\" Assessment of Project Outcomes The Project Outcome rating is Very Strong with a Medium likelihood of achievement. The likelihood assessment takes into account: (i) the Bank has a NPL ratio of 3.5% as of September 2019, significantly lower than the industry average of 6.7%; (ii) the Bank’s good operational track record and strong commitment to systematically scaling up its lending to SME segment with technical support from IFC; (iii) the Bank’s growing outreach to underserved segments through digital channels such as mobile banking and existing loan book providing good base of green assets to identify a strong and immediate pipeline; (iv) conducive regulatory environment as the Central Bank’s minimum loan to deposit ratio policy gives higher preference to loans to SME customers. The likelihood is tempered by the fact the growth outlook for Nigeria is moderate and vulnerability of the economy to oil price shocks poses a risk to sustainable lending to SMEs that are not usually as resilient as large corporates. Moreover, FCMB’s balance sheet is not large enough to accommodate huge volumes of unexpected credit losses in the event of an economic downturn hence its overall appetite for creating risk assets will largely be in line with economic growth forecasts. The anticipated project outcomes are composed of the following: Stakeholder effects: Increased access to finance for SMEs including women-owned WSMEs: Nigeria’s SME finance gap is as large as 19 percent of GDP. Only 15 percent of Nigeria’s formal SMEs have access to loans or lines of credit; 50 percent of SMEs are fully or partially credit constrained; and about 34 percent cite financing as a major or severe obstacle for growth. Long-term financing for SMEs is very scarce. The finance gap for women-owned SMEs is even larger. According to the World Bank Global Findex 2017, the Gender Borrowing gap in Nigeria is 1.2%. Women face 89% lower levels of financial access and 39% lower ability to borrow for their businesses compared to their male counterparts. IFC anticipates that the Project will increase access to finance for SMEs by increasing the number of SME loans from 6,197 to 10,888 and volume of outstanding SME from US$293.3 million to US$532.3 million in five years, representing a 4 percentage point increase of SME share of FCMB’s total loan portfolio from 16% to 20%, and increase access to finance for WSMEs by increasing the number of WSME loans from 373 to 875 and volume of outstanding WSMEs from US$13.31 million to US$41.51 million, representing a 3.3 percentage point increase in FCMB’s WSME share of SME loan portfolio. To measure the progress against this outcome, IFC will track the number, amount and share of outstanding SME loans and WSME loans respectively (See Results Measurement). Stakeholder effects – increased access to climate finance: Nigeria’s INDC states that the country aims to reduce its GHG emissions by 45 percent by 2030, compared to business-as-usual levels. Of this, 20 percent is unconditional; the additional 25 percent is conditional on international support. To achieve these targets, Nigeria needs to mobilize US$142 billion. To this end, the government launched green bond guidelines and issued its first sovereign green bond of NGN10.69 billion in 2017 to fund solar energy projects and national afforestation programs. However, it will need to rely mostly on the private sector to fill in Nigeria’s climate financing gap. The challenge is to get the local banks to systematically provide long-term climate finance loans in Nigeria. Access to finance for climate-smart investment projects in Nigeria is scarce as climate change is an emerging area for Nigeria’s banking sector. In addition, many climate-smart investment projects require long-term funding, which most banks cannot accommodate due to the predominantly short-term nature of their funding. IFC addresses this challenge by providing FCMB with long-term financing that will be leveraged to grow its lending to climate-smart projects. The proposed investment will allow FCMB to leverage additional regulatory capital to increase climate finance activities of SMEs and corporates. IFC anticipates that the project will increase access to finance for climate-smart projects by increasing the volume of climate portfolio from US$73 million to US$145 million over the five years and increasing the share of climate portfolio in FCMB’s total loan portfolio from 4% to 5.3%. IFC also expects this investment to reduce GHG emissions by 67,333 tCo2/year by 2024. To measure progress against these outcomes, IFC will track the volume and share of FCMB’s climate portfolio (See Results Measurement).\\n[END]\"}\n",
            "{\"prompt\":\"DEVELOPMENT IMPACT Summary The Project has an Anticipated Impact Measurement and Monitoring (AIMM) rating of Good, based on an AIMM score of 53 . On an unadjusted basis (i.e., without likelihood factor), the full potential AIMM score could reach 71 .The most significant expected Project-level outcome is increased access to finance for MSEs as well as increased access to finance for WOEs. Beyond the project level outcomes, IFC anticipates that the investment would promote greater inclusiveness via demonstration and replication channels to increase access to finance to women and rural areas of El Salvador.\\n\\n###\\n\\n\",\"completion\":\" Assessment of Project Outcomes The Project outcomes rating is [ Very Strong ] with [ Medium ] likelihood of achievement. The likelihood assessment is supported by: (i) the strength and track record of the DPR structure with FDC, (ii) robust historical growth of remittance flows and strong potential for further growth, (iii) good asset quality, sound operational track record of FDC and strong brand recognition, and (iv) IFC’s experience and technical support in gender finance. The likelihood may be tempered by additional trade restrictions resulting from the coronavirus crisis which may curtail remittances further than the conservative estimates presented below. The Project outcomes are composed of the following: Stakeholder effects – Increased access to finance for Micro and Small Enterprisess: Based on Enterprise survey 2016, 30.2 percent of small firms in El Salvador consider access to finance as a major or severe obstacle and only 29.8 percent of small firms have a bank loan or line of credit. Additionally, IMF’s El Salvador FSAP Financial Inclusion Technical Note 2016 suggests that financial access and usage continues to be low in El Salvador and financial institutions face numerous challenges in catering to these segments. The gaps are disproportionately more for rural and low-income households. Access to a transaction account is particularly low among the rural and the poorest. Account penetration among the rural population stands at 27 percent, and at only 19 percent among the poorest 40 percent of households. The income gap has increased between 2011 and 2014 by 8 percentage points and this is corroborated with supply-side data from the BCR. Based on preliminary estimates, this gap seems to continue widening. The Project will increase economic opportunities for the underserved as it is expected to facilitate financing to MSEs, while fostering the flow of remittances into the Country. FDC has 55 MIs to which it provides funding and the FDC System serves over 1.15 million clients with a market share of 13.5 percent of the financial system’s gross loans as of October 2019, or US$2.1 billion gross loan portfolio. Many of the end-borrowers are outside the capital San Salvador and in rural or peri-urban areas which represent approximately 13 percent of the overall market. IFC anticipates that the Project will increase access to finance for MSEs in El Salvador by helping FDC and its MIs grow the outstanding loan portfolio at an average annual growth rate (AAGR) of 5 per annum over the next five years from a baseline of 54,928 loans totaling US$373 million as of December 2019. IFC expects the Project to increase this to 85,000 loans outstanding, worth US$579 million by 2024. To measure the progress against this outcome, IFC will track the number and volume of MSE loans outstanding (see Results Measurement Table 2 below). Stakeholder effects – Increased access and improved quality for WOEs: In El Salvador, 76 percent of women clients do not have a account, and the share of women without access to any account has increased from 68 percent in 2014 to 76 percent (2017 Global Findex data). IMF’s Technical Note 20166 suggests the Female, low-income and rural adults have disproportionately low levels of access to finance. Women are also more likely to be excluded: only 24 percent of women have an account resulting in a gender gap of 13 percent in account ownership which increased from 2014 when it was 10 percent. The gender gap based on percentage of enterprises who borrowed to start or operate a farm or business has also widened to 3.7 percent. The Project is also expected to increase access to finance for underserved WOEs. The Project is being considered for IFC’s BOW/We-fi program as at least 25 percent of the IFC Loan will finance WOEs (with average loan size between $5,000 - $100,000, i.e. Very Small and Small Enterprises). In El Salvador, 76 percent of women clients do not have a bank or mobile account, and the share of women without access has increased from 71 percent in 2014 to 76 percent in 2017 (Global Findex data). IFC anticipates that the Project will increase access to finance for WOEs in El Salvador by helping FDC and its MIs grow the outstanding loan portfolio at an average annual growth rate (AAGR) of 11 percent per annum over the next five years from a baseline of 3,787 loans totaling US$71 million as of December 2019. IFC expects the Project to increase this to 6,324 loans outstanding, worth US$121 million by 2024. Fedecredito is committed to leverage its network of 55 entities and the most extensive network in the country- including ATMs, correspondent agents and an established call-center - to provide financial and non-financial services to women-owned enterprises (WOE) .To measure the progress against this outcome, IFC will track the number and volume of WOE loans outstanding (see Results Measurement Table 2 below).\\n[END]\"}\n",
            "{\"prompt\":\"DEVELOPMENT IMPACT Summary The Project has an AIMM rating of Good based on an AIMM score of 53. On an unadjusted basis (without a likelihood factor), the full potential AIMM score could reach 70. The most significant expected project-level effect is increased access to climate finance in South Africa. Beyond the Project, IFC anticipates that through demonstration and capacity building, FRB’s planned development of a climate risk assessment framework in line with regulatory guidance, will contribute towards the increased resilience of the South African banking sector to climate-related risks.\\n\\n###\\n\\n\",\"completion\":\" Assessment of Project Outcomes The project outcome rating is Very Strong with a Medium likelihood of achievement. The likelihood assessment benefits from (i) IFC’s technical support and knowledge exchange, which will help diversify and grow the green portfolio; (ii) the financial strength of the client and its ability to dedicate necessary resources to green financing; as well as (iii) the growing demand and regulatory support for climate finance in South Africa. The likelihood assessment is tempered by the deteriorating medium-term growth forecast from macroeconomic vulnerabilities and further uncertainty regarding Covid 19-related effects. The project-level effects are composed of the following: Stakeholders – Increased availability of climate finance: South Africa’s energy consumption from the residential, business, and industrial sectors relies largely on electricity generated from fossil fuels, with 90 percent of South Africa’s electricity generated from coal. Additional emissions come from industrial processes, including steel and cement production. As a result, South Africa is one of the highest overall CO2 emitters (490 thousand kilotons, or 9 metric tons per capita per year) among emerging economies. The country’s energy transformation strategy to 2030, together with its Nationally Determined Contribution under the Paris Agreement, calls for a significant shift towards renewables, primarily wind and photovoltaic power. The need for increasing climate financing has become increasingly evident as South Africa experiences the visible impacts of climate change. For example, the recent prolonged drought—the worst in 34 years—severely affected agriculture, mining, and other production sectors. The country is expected to reach a water deficit of 2.7 billion cubic meters (713 billion gallons) by 2030. Addressing those shortages will require additional climate-smart investments, in the agricultural sector by improving water efficiency and increasing resilience, in the industrial sector through investments to recapture wastewater for reuse, and at the household level by reducing water use through green buildings. An IFC study estimates that the climate-smart investment need from these areas amounts to US$588 billion between 2016 to 2030, with a short-term investment need of US$158 billion by the end of 2020 for renewable energy, transport, green buildings, and waste management. The proposed Project will help increase access to climate finance and support FirstRand in strengthening its climate business and promoting renewable energy and energy efficiency projects. FirstRand intends to expand its climate portfolio focus from mitigation to climate resilience financing in climate smart infrastructure, agriculture and manufacturing. IFC estimates that 50 percent of the outstanding portfolio’s growth will likely be from renewable energy projects, and 50 percent from energy efficiency, water-related and climate smart agriculture projects. The Bank’s outstanding climate portfolio was nearly US$918 million in 2019, and IFC expects this to grow in average 13 percent a year between 2021 and 2025. As a share of the total loan book, the climate finance portfolio is expected to increase from 2 percent to 3 percent by 2025.. To measure progress against this outcome, IFC will track the volume of outstanding climate finance portfolio and the share of climate finance in the total loan portfolio (see Results Measurement section). IFC estimates IFC investment will result in greenhouse gas reduction of 326,128 tCo2e/year (or 1.6 million tCo2e over five years), while the expected growth of the climate finance portfolio of FRB will contribute to reducing an estimated 1.5 million tons of greenhouse-gas emissions per year, or 7.5 million tons over a five-year period. As a reporting indicator, IFC will track the greenhouse-gas emission reduction per year (see Results Measurement section)\\n[END]\"}\n",
            "{\"prompt\":\"DEVELOPMENT IMPACT Summary The project has an Anticipated Impact Measurement and Monitoring (AIMM) rating of Good, based on an AIMM score of 58. On an unadjusted basis (i.e. without likelihood factor), the full potential AIMM score could reach 70. The most significant, expected project-level outcome is increased access to SME finance, including WSMEs, in Jamaica. Beyond the project, IFC anticipates that the project has the potential to promote greater market competitiveness via demonstration and replication channels.\\n\\n###\\n\\n\",\"completion\":\" Assessment of Project Outcomes The project outcomes rating is Very Strong with High likelihood of achievement. The likelihood assessment is based on: (i) JMMB’s good track record with a high growth business model that achieved a 3-year portfolio CAGR of 39.8 percent since 2016; (ii) strong commitment and strategic focus on intensifying lending to both SMEs and WSMEs; iii) launch of an SME Resource Center that provides business accelerator-type of capacity building to its SME customers. The Bank specifically intends to have a dedicated WSME cohort through the program in 2020; iv) good asset quality with NPLs of 1.66 percent relative to 2.4 percent for the overall banking sector; (v) strong alignment with the government of Jamaica’s policy priority to improve financial inclusion; and (vi) positive economic growth outlook underpinned by a strong commitment to economic reforms. The project outcomes are composed of the following: Stakeholders – Increased access to finance for SMEs: IFC anticipates that the Project will improve access to finance for SMEs in Jamaica. The SME finance gap in Jamaica is estimated at US$2.6 billion representing approximately 18.9 percent of the country’s GDP. According to the WBG Enterprise Survey, about 54 percent of SMEs are credit-constrained, and 41 percent of SMEs perceive financing to be a major or severe constraint for growth. In August 2017, the JMMB received regulatory approval to transition from a merchant to a commercial bank. Its strategy has increased focus on SME finance and seeks to provide solutions to the unique needs of this segment. In 2018, the Bank successfully launched an SME Resource Center to support SMEs through their business lifecycles. In this connection, it made necessary adjustments to its credit framework and risk appetite to accommodate the needs of SMEs. The SME Resource Center currently has a pipeline of over 200 clients. The Bank will provide an integral offer to SMEs based on improved and automated credit workflows and a credit decision engine for the segment as well as a specialized sales force and distribution channel. Moving forward, the Bank will strategically position itself by implementing this SME-centric approach. The project is expected to provide more impetus to the SME portfolio growth in the Bank. IFC expects that the Project will support the Bank to grow its SME lending portfolio at an annual growth rate of 12 percent in U.S. dollars. It is anticipated that the Bank will grow the number of outstanding loans to 969 by 2024 reaching a portfolio of US$121.3 million. This will increase the share of its SME portfolio from the current level of 20 percent of the Bank’s total portfolio to 27 percent by 2024. To measure progress against this outcome, IFC will track the number and volume of outstanding SME loans (See the Results Measurement table below). Stakeholders – Increased access to finance for WMSEs: The Project is also expected to increase access to finance for underserved WSMEs. At least 25 percent of IFC’s loan will be dedicated to finance WSMEs. In Jamaica, about 16.6 percent of WSMEs are either fully or partly credit-constrained. According to the IFC SME Finance Forum the WSME finance gap in the country is roughly USD$288.7 million which represents approximately 2.1 percent of GDP. IFC expects the Project to help the JMMB to grow the number of its current outstanding gender loans from 23 to 152 loans at the end of 2024. The associated expected increase in the volume of outstanding gender loans is US$10.2 million during the same period. To measure progress against this outcome, IFC will track the number and volume of outstanding WSME loans (see Results Measurement Table 2 below). SMEs play an important role in the creation of employment in Jamaica. For example, SMEs account for roughly 43 percent of GDP and generate approximately 80 percent of employment in the country. The project is expected to contribute positively to job creation by improving access to finance for SMEs. If the above portfolio growth projections materialize, the Project is expected to create between 10 600 and 17 900 jobs over the next five years.\\n[END]\"}\n",
            "{\"prompt\":\"DEVELOPMENT IMPACT Summary The Project has an AIMM rating of [Good] based on an AIMM score of [53]. On an unadjusted basis (without a likelihood factor), the full potential AIMM score could reach [70]. The most significant expected project-level effect is increased access to climate finance in South Africa. Beyond the Project, IFC anticipates that through demonstration and capacity building, Nedbank’s planned development of a climate risk assessment framework and disclosure initiatives, will contribute towards the increased resilience of the South African banking sector to climate-related risks.\\n\\n###\\n\\n\",\"completion\":\" Assessment of Project Outcomes The project outcome rating is [Very Strong], with a [Medium] likelihood of achievement. The likelihood assessment benefits from (i) Nedbank’s strongly aligned strategy to the United Nations SDGs, its leading position in climate finance, and its management’s commitment to increasing climate finance; (ii) IFC’s technical support and knowledge exchange, which will help grow the green portfolio; (iii) the financial strength of the Bank and its ability to dedicate necessary resources to green financing; (iv) an NPL ratio of 3.25%, below the banking sector’s average of 3.9% as of December 2019; (v) a strong identified pipeline of green projects as well as the growing demand for climate finance in South Africa; and (vi) the growing demand and regulatory support from climate finance in South Africa. The likelihood assessment is tempered by the deteriorating medium-term growth forecast from macroeconomic vulnerabilities and further uncertainty regarding COVID-19 related effects. The project-level effects are composed of the following: Stakeholders - Increased availability of climate finance: South Africa’s energy consumption from the residential, business, and industrial sectors relies largely on electricity generated from fossil fuels, with 90 percent of South Africa’s electricity generated from coal. Additional emissions come from industrial processes, including steel and cement production. As a result, South Africa is one of the highest overall CO2 emitters (490 thousand kilotons, or 9 metric tons per capita per year) among emerging economies. The country’s energy transformation strategy to 2030, together with its Nationally Determined Contribution under the Paris Agreement, call for a significant shift towards renewables, primarily wind and photovoltaic power. The need for increasing green financing has become increasingly evident as South Africa experiences the visible impacts of climate change. For example, the recent prolonged drought—the worst in 34 years—severely affected agriculture, mining, and other production sectors. The country is expected to reach a water deficit of 2.7 billion cubic meters (713 billion gallons) by 2030. Addressing those shortages will require additional climate-smart investments, in the agricultural sector by improving water efficiency and increasing resilience, in the industrial sector through investments to recapture wastewater for reuse, and at the household level by reducing water use through green buildings. An IFC study estimates that the climate-smart investment need from these areas amounts to US$588 billion between 2016 to 2030, with a short-term investment need of US$158 billion by the end of 2020 for renewable energy, transport, green buildings, and waste management. Nedbank has been a frontrunner in climate finance, having been the first bank to issue a green bond in local currency in South Africa, and the leading bank in renewable financing with 35% of market share. The Nedbank Group has fully aligned its strategy to nine prioritized UN SDGs with each SDG led by a group executive. It was the first African Bank to sign up to the Equator Principles in 2005. In 2020, the Bank publicly disclosed a thermal coal policy and passed climate change related resolutions; and the Bank has a climate risk committee and a stated position on climate change. The Bank offers green financing in several areas and is on the path to disclose its climate related policies and financial exposure to climate related risks. With the launch of the carbon tax law in 2019, Nedbank has begun to work with its clients to explore how they could reduce their carbon footprint. The Bank provides non-financial and value added services (e.g. RFP development) for its clients to assist them on their climate journey. In the affordable housing and green buildings space, the Bank has partnered with IFC’s EDGE team to finance housing developments. Finally, the Nedbank Group commits to align its business trajectory with Paris Agreement goals and Nedbank has also set a target to cut 35% of its carbon footprint by 2025 (compared to the 2013 baseline). The proposed Project will help increase access to climate finance and support Nedbank in strengthening its climate business and promoting renewable energy and energy efficiency projects. IFC estimates that 70 percent of the outstanding portfolio’s growth will likely be from renewable energy projects and 30 percent from green building projects. Nedbank’s outstanding climate portfolio was nearly US$[3,045] million in 2019, and IFC expects this to grow on average [8] percent a year to US$[4,366] million in 2024. As a share of the total loan book, the climate finance portfolio is expected to increase from [7] percent to [8] percent by 2024. To measure progress against this outcome, IFC will track the volume of outstanding climate finance portfolio and the share of climate finance in the total loan portfolio (see Results Measurement section). IFC estimates the expected growth of the climate finance portfolio will contribute to reducing an estimated [58,517] tons of greenhouse-gas emissions per year, or [292,588] million tons over a five-year period. As a reporting indicator, IFC will track the greenhouse-gas emission reduction per year (see Results Measurement section).\\n[END]\"}\n",
            "{\"prompt\":\"DEVELOPMENT IMPACT Summary The Project has an Anticipated Impact Measurement and Monitoring (AIMM) rating of Satisfactory, based on an AIMM score of 40. On an unadjusted basis (i.e., without likelihood factor), the full potential AIMM score could reach 46. The most significant, expected project-level outcome is based on improved access to finance for SMEs operating in the underserved regions of Chile. Beyond the project outcomes, IFC anticipates that the Project has the potential to promote competitiveness via competitive pressure and replication and demonstration channels for the factoring markets.\\n\\n###\\n\\n\",\"completion\":\" Project Outcome: The Project outcome rating is Strong with High likelihood of achievement. The likelihood assessment is based on (i) moderate yet stable economic growth with sound fundamentals; (ii) the experience of a well-established player focusing on SMEs via the factoring market with a strong track record, demonstrated in metrics such as portfolio growth, asset quality and profitability; and (iii) capacity to innovate and deliver high growth in new business segments such as auto-loans and leasing, as well as tap into alternative and innovative financing sources.. The anticipated Project outcome is composed of the following: Stakeholders: increased access to finance for SMEs in Frontier Regions - The Project will increase access to finance for SME in the Frontier Regions of Chile, which are currently underserved by the traditional financial sector products. Chile currently has an estimated MSME finance gap of US$8.4 billion (28% of the total MSME loan volume, or 4% of GDP, most of which is attributed to SMEs) with approximately 11% of SMEs being either unserved or underserved in terms of financial products. There are approximately 200,000 SMEs in Chile which provide employment to 39% of the existing jobs. The SME finance gap is observed to be significantly higher in the Frontier Regions; Commercial loans and deposits to gross regional product stands at 25% and 28% respectively in frontier regions of Chile, while those indicators reached 64% and 84% in non-frontier regions. Moreover, poverty in regions such as La Araucanía and Bio Bio affects 17% and 13% of total population respectively, while it stands at only 5% in Santiago Metropolitan Region. In terms of regional domestic product per capita, the average for frontier regions was about two thirds of non-frontier regions. With at least 25 percent of IFC funding dedicated to supporting its SME portfolio in Frontier Regions, Nuevo Capital is expected to significantly increase its frontier region SME portfolio from about US$ 22.7 million in 2019 to US$ 48 million in 2023, implying a CAGR of 19%. This growth is expected to be reached by implementing a new business model for reverse factoring, which will reduce the turnaround time for their invoices to be paid. Under traditional bank Confirming business model, the minimum turnaround time for an invoice to be confirmed and financing available for the SME is 8 days. With the addition of the reverse factoring business , the average turnaround time is expected to be reduced to less than 3 days. This new business model will also allow the company to reach a larger number of SMEs in frontier regions, and significantly reduce the operational cost of confirming invoices. To measure progress against this outcome, IFC will track the increase in outstanding frontier-region loans to SMEs over the Project period (see AIMM Indicators below).\\n[END]\"}\n"
          ]
        }
      ]
    },
    {
      "cell_type": "code",
      "source": [
        "!openai tools fine_tunes.prepare_data -f $dataset_path"
      ],
      "metadata": {
        "colab": {
          "base_uri": "https://localhost:8080/"
        },
        "id": "NcbedLhr8LNz",
        "outputId": "608e0d56-5e20-45e8-dc4a-cf62d012efad"
      },
      "execution_count": null,
      "outputs": [
        {
          "output_type": "stream",
          "name": "stdout",
          "text": [
            "Analyzing...\n",
            "\n",
            "- Your JSON file appears to be in a JSONL format. Your file will be converted to JSONL format\n",
            "- Your file contains 326 prompt-completion pairs\n",
            "- There are 10 examples that are very long. These are rows: [25, 79, 127, 128, 133, 162, 193, 267, 272, 309]\n",
            "For conditional generation, and for classification the examples shouldn't be longer than 2048 tokens.\n",
            "- All prompts end with suffix `\\n\\n###\\n\\n`\n",
            "- All completions end with suffix `\\n[END]`\n",
            "\n",
            "Based on the analysis we will perform the following actions:\n",
            "- [Necessary] Your format `JSON` will be converted to `JSONL`\n",
            "- [Recommended] Remove 10 long examples [Y/n]: Y\n",
            "\n",
            "\n",
            "Your data will be written to a new JSONL file. Proceed [Y/n]: Y\n",
            "\n",
            "Wrote modified file to `./FIG-BP-PRO-0001_prepared.jsonl`\n",
            "Feel free to take a look!\n",
            "\n",
            "Now use that file when fine-tuning:\n",
            "> openai api fine_tunes.create -t \"./FIG-BP-PRO-0001_prepared.jsonl\"\n",
            "\n",
            "After you’ve fine-tuned a model, remember that your prompt has to end with the indicator string `\\n\\n###\\n\\n` for the model to start generating completions, rather than continuing with the prompt. Make sure to include `stop=[\"\\n[END]\"]` so that the generated texts ends at the expected place.\n",
            "Once your model starts training, it'll approximately take 15.96 minutes to train a `curie` model, and less for `ada` and `babbage`. Queue will approximately take half an hour per job ahead of you.\n"
          ]
        }
      ]
    },
    {
      "cell_type": "code",
      "source": [
        "dataset_path = \"./\"+model_name+\"_prepared.jsonl\"\n",
        "# check number of samples\n",
        "!wc -l $dataset_path"
      ],
      "metadata": {
        "colab": {
          "base_uri": "https://localhost:8080/"
        },
        "id": "Ti7EhJ-r8R-D",
        "outputId": "d3ed0d1a-5b9f-4167-fcba-98e43b9158b1"
      },
      "execution_count": null,
      "outputs": [
        {
          "output_type": "stream",
          "name": "stdout",
          "text": [
            "316 ./FIG-BP-PRO-0001_prepared.jsonl\n"
          ]
        }
      ]
    },
    {
      "cell_type": "markdown",
      "source": [
        "Splitting it into training and testing set randomly with 25% going to testing set. \n",
        "* Training Set = 75% \n",
        "* Validation Set = 25% \n",
        "\n",
        "Also, logging the files into W&B for recordkeeping. "
      ],
      "metadata": {
        "id": "lb_lbts_pIDQ"
      }
    },
    {
      "cell_type": "code",
      "source": [
        "df = pd.read_json(dataset_path, orient='records', lines=True)\n",
        "df_train, df_test = train_test_split(df,test_size = 0.25,random_state = 42, shuffle = False)\n",
        "df_train.to_json(\"./\"+model_name+\"_train.jsonl\", orient='records', lines=True)\n",
        "df_test.to_json(\"./\"+model_name+\"_test.jsonl\", orient='records', lines=True)\n",
        "\n",
        "#Logging the files and tables into W&B \n",
        "table_train = wandb.Table(dataframe=df_train)\n",
        "table_valid = wandb.Table(dataframe=df_test)\n",
        "\n",
        "# Create artifacts\n",
        "artifact_train = wandb.Artifact(model_name+\"_train.jsonl\", type='training_files', metadata={'samples': df_train.shape[0]})\n",
        "artifact_train.add_file(model_name+\"_train.jsonl\")\n",
        "artifact_train.add(table_train, model_name+\"_train.jsonl\")\n",
        "\n",
        "artifact_valid = wandb.Artifact(model_name+\"_test.jsonl\", type='validation_files', metadata={'samples': df_test.shape[0]})\n",
        "artifact_valid.add_file(model_name+\"_test.jsonl\")\n",
        "artifact_valid.add(table_valid, model_name+\"_test.jsonl\")\n",
        "\n",
        "# Log files\n",
        "run.log_artifact(artifact_train)\n",
        "run.log_artifact(artifact_valid)"
      ],
      "metadata": {
        "id": "58mTu1PG8UfL",
        "colab": {
          "base_uri": "https://localhost:8080/"
        },
        "outputId": "9d995e66-1e13-4be5-9c08-30b7e9809128"
      },
      "execution_count": null,
      "outputs": [
        {
          "output_type": "execute_result",
          "data": {
            "text/plain": [
              "<wandb.sdk.wandb_artifacts.Artifact at 0x7f6351f58b80>"
            ]
          },
          "metadata": {},
          "execution_count": 20
        }
      ]
    },
    {
      "cell_type": "markdown",
      "source": [
        "Closing our dataprep run"
      ],
      "metadata": {
        "id": "wL8pKbh0qqXB"
      }
    },
    {
      "cell_type": "code",
      "source": [
        "# keep entity for reference of artifact later \n",
        "entity = wandb.run.entity\n",
        "wandb.finish()"
      ],
      "metadata": {
        "colab": {
          "base_uri": "https://localhost:8080/",
          "height": 150,
          "referenced_widgets": [
            "6914b230a6f44121be57e839e6aae8bd",
            "f42ab365b7b04e5488126f9ee04a889b",
            "e1dd2a22d89045fdb1c4c6e67f8267ce",
            "eb69c96942334c9cb3b82c48b47c4d46",
            "55418a7a16624ab7b4cd645369a4591c",
            "22b9c00980a94e93bbe796bad7b04d7a",
            "df773a6ebef24a4c8744789e7de0a1ad",
            "4f417586b15549b8ba34f7e5ded0af68"
          ]
        },
        "id": "vkXaYc40qsKf",
        "outputId": "83e60249-2a66-4d36-c20f-2ca8883b5e91"
      },
      "execution_count": null,
      "outputs": [
        {
          "output_type": "display_data",
          "data": {
            "text/plain": [
              "<IPython.core.display.HTML object>"
            ],
            "text/html": [
              "Waiting for W&B process to finish... <strong style=\"color:green\">(success).</strong>"
            ]
          },
          "metadata": {}
        },
        {
          "output_type": "display_data",
          "data": {
            "text/plain": [
              "VBox(children=(Label(value='3.356 MB of 3.356 MB uploaded (0.000 MB deduped)\\r'), FloatProgress(value=1.0, max…"
            ],
            "application/vnd.jupyter.widget-view+json": {
              "version_major": 2,
              "version_minor": 0,
              "model_id": "6914b230a6f44121be57e839e6aae8bd"
            }
          },
          "metadata": {}
        },
        {
          "output_type": "display_data",
          "data": {
            "text/plain": [
              "<IPython.core.display.HTML object>"
            ],
            "text/html": [
              " View run <strong style=\"color:#cdcd00\">rare-snowflake-1</strong> at: <a href='https://wandb.ai/cdi/FIG-BP-PRO/runs/u7u6jvu9' target=\"_blank\">https://wandb.ai/cdi/FIG-BP-PRO/runs/u7u6jvu9</a><br/>Synced 5 W&B file(s), 0 media file(s), 4 artifact file(s) and 0 other file(s)"
            ]
          },
          "metadata": {}
        },
        {
          "output_type": "display_data",
          "data": {
            "text/plain": [
              "<IPython.core.display.HTML object>"
            ],
            "text/html": [
              "Find logs at: <code>./wandb/run-20230307_185452-u7u6jvu9/logs</code>"
            ]
          },
          "metadata": {}
        }
      ]
    },
    {
      "cell_type": "markdown",
      "source": [
        "## Fine Tuning the model\n"
      ],
      "metadata": {
        "id": "20f5YU5erAgU"
      }
    },
    {
      "cell_type": "code",
      "source": [
        "train_file = \"./\"+model_name+\"_train.jsonl\"\n",
        "valid_file = \"./\"+model_name+\"_test.jsonl\""
      ],
      "metadata": {
        "id": "A51VozQnsD5G"
      },
      "execution_count": null,
      "outputs": []
    },
    {
      "cell_type": "markdown",
      "source": [
        "Defining Hyper parameters: \n",
        "\n",
        "Using the default hyper parameters by OpenAI, replacing model with Divinci 003."
      ],
      "metadata": {
        "id": "AytRIGhisVq8"
      }
    },
    {
      "cell_type": "code",
      "source": [
        "#Defining hyper parameters (using the default ones)\n",
        "model = 'davinci'  # using the best model : davinci\n",
        "n_epochs = 4\n",
        "batch_size = 4\n",
        "learning_rate_multiplier = 0.1\n",
        "prompt_loss_weight = 0.1"
      ],
      "metadata": {
        "id": "9zaCtwX_r2IQ"
      },
      "execution_count": null,
      "outputs": []
    },
    {
      "cell_type": "code",
      "source": [
        "import os\n",
        "os.environ[\"OPENAI_API_KEY\"] = \"<API-Key>\""
      ],
      "metadata": {
        "id": "E2yw5YFUxW1x"
      },
      "execution_count": null,
      "outputs": []
    },
    {
      "cell_type": "code",
      "source": [
        "!openai api fine_tunes.create \\\n",
        "    -t $train_file \\\n",
        "    -v $valid_file \\\n",
        "    -m $model \\\n",
        "    --n_epochs $n_epochs \\\n",
        "    --batch_size $batch_size \\\n",
        "    --learning_rate_multiplier $learning_rate_multiplier \\\n",
        "    --prompt_loss_weight $prompt_loss_weight \\\n",
        "    --suffix $model_name"
      ],
      "metadata": {
        "colab": {
          "base_uri": "https://localhost:8080/"
        },
        "id": "h5etp9msr8q4",
        "outputId": "6e1921a2-45c4-4908-eb9c-0386cfca207c"
      },
      "execution_count": null,
      "outputs": [
        {
          "output_type": "stream",
          "name": "stdout",
          "text": [
            "\rUpload progress:   0% 0.00/1.28M [00:00<?, ?it/s]\rUpload progress: 100% 1.28M/1.28M [00:00<00:00, 1.29Git/s]\n",
            "Uploaded file from ./FIG-BP-PRO-0001_train.jsonl: file-0Y4ys5RxjsytU9TwoEt9TQ8d\n",
            "Upload progress: 100% 480k/480k [00:00<00:00, 512Mit/s]\n",
            "Uploaded file from ./FIG-BP-PRO-0001_test.jsonl: file-hCfsdVKbyXlRDoUbplGADQoV\n",
            "Created fine-tune: ft-Jim3RgfBVLSs8YTGfCwHxkFU\n",
            "Streaming events until fine-tuning is complete...\n",
            "\n",
            "(Ctrl-C will interrupt the stream, but not cancel the fine-tune)\n",
            "[2023-03-07 19:14:35] Created fine-tune: ft-Jim3RgfBVLSs8YTGfCwHxkFU\n",
            "\n",
            "Stream interrupted (client disconnected).\n",
            "To resume the stream, run:\n",
            "\n",
            "  openai api fine_tunes.follow -i ft-Jim3RgfBVLSs8YTGfCwHxkFU\n",
            "\n"
          ]
        }
      ]
    },
    {
      "cell_type": "code",
      "source": [
        "!openai api fine_tunes.follow -i ft-Jim3RgfBVLSs8YTGfCwHxkFU"
      ],
      "metadata": {
        "colab": {
          "base_uri": "https://localhost:8080/"
        },
        "id": "OMfui19k0vkt",
        "outputId": "e1575ea9-5876-4653-daeb-bfae2558a0a9"
      },
      "execution_count": null,
      "outputs": [
        {
          "output_type": "stream",
          "name": "stdout",
          "text": [
            "[2023-03-07 19:14:35] Created fine-tune: ft-Jim3RgfBVLSs8YTGfCwHxkFU\n",
            "[2023-03-07 19:20:47] Fine-tune costs $30.63\n",
            "[2023-03-07 19:20:48] Fine-tune enqueued. Queue number: 22\n",
            "[2023-03-07 19:23:36] Fine-tune is in the queue. Queue number: 21\n",
            "[2023-03-07 19:25:40] Fine-tune is in the queue. Queue number: 20\n",
            "[2023-03-07 19:27:03] Fine-tune is in the queue. Queue number: 19\n",
            "[2023-03-07 19:28:22] Fine-tune is in the queue. Queue number: 18\n",
            "[2023-03-07 19:28:38] Fine-tune is in the queue. Queue number: 17\n",
            "[2023-03-07 19:30:42] Fine-tune is in the queue. Queue number: 16\n",
            "[2023-03-07 19:31:30] Fine-tune is in the queue. Queue number: 15\n",
            "[2023-03-07 19:32:16] Fine-tune is in the queue. Queue number: 14\n",
            "[2023-03-07 19:32:17] Fine-tune is in the queue. Queue number: 13\n",
            "[2023-03-07 19:34:17] Fine-tune is in the queue. Queue number: 12\n",
            "[2023-03-07 19:34:43] Fine-tune is in the queue. Queue number: 11\n",
            "[2023-03-07 19:34:45] Fine-tune is in the queue. Queue number: 10\n",
            "[2023-03-07 19:35:22] Fine-tune is in the queue. Queue number: 9\n",
            "[2023-03-07 19:36:45] Fine-tune is in the queue. Queue number: 8\n",
            "[2023-03-07 19:39:00] Fine-tune is in the queue. Queue number: 7\n",
            "[2023-03-07 19:39:43] Fine-tune is in the queue. Queue number: 6\n",
            "[2023-03-07 19:41:04] Fine-tune is in the queue. Queue number: 5\n",
            "[2023-03-07 19:41:48] Fine-tune is in the queue. Queue number: 4\n",
            "[2023-03-07 19:42:51] Fine-tune is in the queue. Queue number: 3\n",
            "[2023-03-07 19:42:52] Fine-tune is in the queue. Queue number: 2\n",
            "[2023-03-07 19:43:11] Fine-tune is in the queue. Queue number: 1\n",
            "[2023-03-07 19:43:38] Fine-tune is in the queue. Queue number: 0\n",
            "[2023-03-07 19:44:09] Fine-tune started\n",
            "[2023-03-07 19:49:19] Completed epoch 1/4\n",
            "[2023-03-07 19:52:09] Completed epoch 2/4\n",
            "[2023-03-07 19:55:03] Completed epoch 3/4\n",
            "[2023-03-07 19:57:56] Completed epoch 4/4\n",
            "[2023-03-07 19:58:40] Uploaded model: davinci:ft-international-finance-corporation:fig-bp-pro-0001-2023-03-07-19-58-40\n",
            "[2023-03-07 19:58:41] Uploaded result file: file-OkPfRDVO8XWvtkdFrB4ONFQR\n",
            "[2023-03-07 19:58:41] Fine-tune succeeded\n",
            "\n",
            "Job complete! Status: succeeded 🎉\n",
            "Try out your fine-tuned model:\n",
            "\n",
            "openai api completions.create -m davinci:ft-international-finance-corporation:fig-bp-pro-0001-2023-03-07-19-58-40 -p <YOUR_PROMPT>\n"
          ]
        }
      ]
    },
    {
      "cell_type": "markdown",
      "source": [
        "### Syncing FineTune Jobs to W&B\n",
        " \n",
        " Logging Fine Tune with W&B to use later\n",
        " "
      ],
      "metadata": {
        "id": "ZkzTIoNgsjxv"
      }
    },
    {
      "cell_type": "code",
      "source": [
        "!openai wandb sync\n",
        "wandb.finish()"
      ],
      "metadata": {
        "colab": {
          "base_uri": "https://localhost:8080/"
        },
        "id": "KuZjW0Jqsro1",
        "outputId": "040b9fa0-20e6-46c1-bfc2-736ff4b5a871"
      },
      "execution_count": null,
      "outputs": [
        {
          "output_type": "stream",
          "name": "stdout",
          "text": [
            "\u001b[34m\u001b[1mwandb\u001b[0m: Currently logged in as: \u001b[33mgjain5\u001b[0m (\u001b[33mcdi\u001b[0m). Use \u001b[1m`wandb login --relogin`\u001b[0m to force relogin\n",
            "\u001b[34m\u001b[1mwandb\u001b[0m: Tracking run with wandb version 0.13.10\n",
            "\u001b[34m\u001b[1mwandb\u001b[0m: Run data is saved locally in \u001b[35m\u001b[1m/content/wandb/run-20230307_195850-ft-Jim3RgfBVLSs8YTGfCwHxkFU\u001b[0m\n",
            "\u001b[34m\u001b[1mwandb\u001b[0m: Run \u001b[1m`wandb offline`\u001b[0m to turn off syncing.\n",
            "\u001b[34m\u001b[1mwandb\u001b[0m: Syncing run \u001b[33mft-Jim3RgfBVLSs8YTGfCwHxkFU\u001b[0m\n",
            "\u001b[34m\u001b[1mwandb\u001b[0m: ⭐️ View project at \u001b[34m\u001b[4mhttps://wandb.ai/cdi/GPT-3\u001b[0m\n",
            "\u001b[34m\u001b[1mwandb\u001b[0m: 🚀 View run at \u001b[34m\u001b[4mhttps://wandb.ai/cdi/GPT-3/runs/ft-Jim3RgfBVLSs8YTGfCwHxkFU\u001b[0m\n",
            "\u001b[34m\u001b[1mwandb\u001b[0m: Waiting for W&B process to finish... \u001b[32m(success).\u001b[0m\n",
            "\u001b[34m\u001b[1mwandb\u001b[0m: \n",
            "\u001b[34m\u001b[1mwandb\u001b[0m: Run history:\n",
            "\u001b[34m\u001b[1mwandb\u001b[0m:             elapsed_examples ▁▁▁▂▂▂▂▂▂▃▃▃▃▃▄▄▄▄▄▄▅▅▅▅▅▅▆▆▆▆▆▇▇▇▇▇▇███\n",
            "\u001b[34m\u001b[1mwandb\u001b[0m:               elapsed_tokens ▁▁▁▂▂▂▂▂▂▃▃▃▃▃▃▄▄▄▄▄▅▅▅▅▅▅▆▆▆▆▆▇▇▇▇▇▇███\n",
            "\u001b[34m\u001b[1mwandb\u001b[0m:                training_loss ▅█▆▅▅▃█▇▅▃▄▂▇▄▄▃▆▆▂▅▄▃▄▂▄▂▅▁▄▂▄▂▂▁▂▄▅▃▄▃\n",
            "\u001b[34m\u001b[1mwandb\u001b[0m:   training_sequence_accuracy ▁▁▁▁▁▁▁▁▁▁▁▁▁▁▁▁▁▁▁▁▁▁▁▁▁▁▁▁▁▁▁▁▁▁▁▁▁▁▁▁\n",
            "\u001b[34m\u001b[1mwandb\u001b[0m:      training_token_accuracy ▁▃▂▄▄▄▄▃▅▄▃▆▃▆▄▆▄▅▅▄▅▆▅▇▅▆▆█▃▆▆▆▇▆▅▇▄▇█▇\n",
            "\u001b[34m\u001b[1mwandb\u001b[0m:              validation_loss █▅▅▆▅█▆▆▅▄▃▇▇▄▄▅▄▁▅▇▆▅▅▅▅▃▅▇▂▅\n",
            "\u001b[34m\u001b[1mwandb\u001b[0m: validation_sequence_accuracy ▁▁▁▁▁▁▁▁▁▁▁▁▁▁▁▁▁▁▁▁▁▁▁▁▁▁▁▁▁▁\n",
            "\u001b[34m\u001b[1mwandb\u001b[0m:    validation_token_accuracy ▁▂▂▅▃▅▅▆▄▆▇▅▅▄▅▄▇█▅▄▆▇▅▅▄▆▅▃█▅\n",
            "\u001b[34m\u001b[1mwandb\u001b[0m: \n",
            "\u001b[34m\u001b[1mwandb\u001b[0m: Run summary:\n",
            "\u001b[34m\u001b[1mwandb\u001b[0m:             elapsed_examples 948.0\n",
            "\u001b[34m\u001b[1mwandb\u001b[0m:               elapsed_tokens 1339284.0\n",
            "\u001b[34m\u001b[1mwandb\u001b[0m:             fine_tuned_model davinci:ft-internati...\n",
            "\u001b[34m\u001b[1mwandb\u001b[0m:                       status succeeded\n",
            "\u001b[34m\u001b[1mwandb\u001b[0m:                training_loss 1.18831\n",
            "\u001b[34m\u001b[1mwandb\u001b[0m:   training_sequence_accuracy 0.0\n",
            "\u001b[34m\u001b[1mwandb\u001b[0m:      training_token_accuracy 0.56152\n",
            "\u001b[34m\u001b[1mwandb\u001b[0m:              validation_loss 1.34764\n",
            "\u001b[34m\u001b[1mwandb\u001b[0m: validation_sequence_accuracy 0.0\n",
            "\u001b[34m\u001b[1mwandb\u001b[0m:    validation_token_accuracy 0.54613\n",
            "\u001b[34m\u001b[1mwandb\u001b[0m: \n",
            "\u001b[34m\u001b[1mwandb\u001b[0m: 🚀 View run \u001b[33mft-Jim3RgfBVLSs8YTGfCwHxkFU\u001b[0m at: \u001b[34m\u001b[4mhttps://wandb.ai/cdi/GPT-3/runs/ft-Jim3RgfBVLSs8YTGfCwHxkFU\u001b[0m\n",
            "\u001b[34m\u001b[1mwandb\u001b[0m: Synced 4 W&B file(s), 0 media file(s), 5 artifact file(s) and 0 other file(s)\n",
            "\u001b[34m\u001b[1mwandb\u001b[0m: Find logs at: \u001b[35m\u001b[1m./wandb/run-20230307_195850-ft-Jim3RgfBVLSs8YTGfCwHxkFU/logs\u001b[0m\n",
            "🎉 wandb sync completed successfully\n"
          ]
        }
      ]
    }
  ]
}