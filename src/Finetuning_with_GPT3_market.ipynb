{
  "cells": [
    {
      "cell_type": "markdown",
      "metadata": {
        "id": "view-in-github",
        "colab_type": "text"
      },
      "source": [
        "<a href=\"https://colab.research.google.com/github/alinealinealine/GPT-Pilot/blob/main/src/Finetuning_with_GPT3_market.ipynb\" target=\"_parent\"><img src=\"https://colab.research.google.com/assets/colab-badge.svg\" alt=\"Open In Colab\"/></a>"
      ]
    },
    {
      "cell_type": "markdown",
      "metadata": {
        "id": "IKvXNTD4z6hW"
      },
      "source": [
        "# Fine-Tune GPT-3 for AIMM narrative ex-ante\n",
        "\n",
        "OpenAI's GPT-3 is a natural language model trained on large set of training data. It can be used for various tasks, including to generate data. \n",
        "\n",
        "However, the model is generalist in nature and thus, not fit for specialised tasks in its original or vaniall version. However, will a bit of finetuning it can be used for more specialised tasks such as generating AIMM text. \n",
        "\n",
        "The fine-tuning happens via OpenAI's API to fine tune GPT-3. "
      ]
    },
    {
      "cell_type": "markdown",
      "metadata": {
        "id": "Ok-vp7KIzqtR"
      },
      "source": [
        "## Installing dependencies and libraries"
      ]
    },
    {
      "cell_type": "code",
      "execution_count": null,
      "metadata": {
        "colab": {
          "base_uri": "https://localhost:8080/"
        },
        "id": "_sm4C8Csy9Uo",
        "outputId": "9173fb81-73a6-436a-aa81-2d7a9991feee"
      },
      "outputs": [
        {
          "output_type": "stream",
          "name": "stdout",
          "text": [
            "Looking in indexes: https://pypi.org/simple, https://us-python.pkg.dev/colab-wheels/public/simple/\n",
            "Requirement already satisfied: pip in /usr/local/lib/python3.9/dist-packages (22.0.4)\n",
            "Collecting pip\n",
            "  Downloading pip-23.0.1-py3-none-any.whl (2.1 MB)\n",
            "\u001b[2K     \u001b[90m━━━━━━━━━━━━━━━━━━━━━━━━━━━━━━━━━━━━━━━━\u001b[0m \u001b[32m2.1/2.1 MB\u001b[0m \u001b[31m33.0 MB/s\u001b[0m eta \u001b[36m0:00:00\u001b[0m\n",
            "\u001b[?25hInstalling collected packages: pip\n",
            "  Attempting uninstall: pip\n",
            "    Found existing installation: pip 22.0.4\n",
            "    Uninstalling pip-22.0.4:\n",
            "      Successfully uninstalled pip-22.0.4\n",
            "Successfully installed pip-23.0.1\n",
            "  Installing build dependencies ... \u001b[?25l\u001b[?25hdone\n",
            "  Getting requirements to build wheel ... \u001b[?25l\u001b[?25hdone\n",
            "  Installing backend dependencies ... \u001b[?25l\u001b[?25hdone\n",
            "  Preparing metadata (pyproject.toml) ... \u001b[?25l\u001b[?25hdone\n",
            "\u001b[2K     \u001b[90m━━━━━━━━━━━━━━━━━━━━━━━━━━━━━━━━━━━━━━━━\u001b[0m \u001b[32m2.0/2.0 MB\u001b[0m \u001b[31m34.3 MB/s\u001b[0m eta \u001b[36m0:00:00\u001b[0m\n",
            "\u001b[2K     \u001b[90m━━━━━━━━━━━━━━━━━━━━━━━━━━━━━━━━━━━━━━━━\u001b[0m \u001b[32m1.0/1.0 MB\u001b[0m \u001b[31m64.6 MB/s\u001b[0m eta \u001b[36m0:00:00\u001b[0m\n",
            "\u001b[2K     \u001b[90m━━━━━━━━━━━━━━━━━━━━━━━━━━━━━━━━━━━━━━\u001b[0m \u001b[32m184.3/184.3 kB\u001b[0m \u001b[31m19.7 MB/s\u001b[0m eta \u001b[36m0:00:00\u001b[0m\n",
            "\u001b[?25h  Preparing metadata (setup.py) ... \u001b[?25l\u001b[?25hdone\n",
            "\u001b[2K     \u001b[90m━━━━━━━━━━━━━━━━━━━━━━━━━━━━━━━━━━━━━━\u001b[0m \u001b[32m184.3/184.3 kB\u001b[0m \u001b[31m20.0 MB/s\u001b[0m eta \u001b[36m0:00:00\u001b[0m\n",
            "\u001b[2K     \u001b[90m━━━━━━━━━━━━━━━━━━━━━━━━━━━━━━━━━━━━━━━━\u001b[0m \u001b[32m62.7/62.7 kB\u001b[0m \u001b[31m5.6 MB/s\u001b[0m eta \u001b[36m0:00:00\u001b[0m\n",
            "\u001b[2K     \u001b[90m━━━━━━━━━━━━━━━━━━━━━━━━━━━━━━━━━━━━━━\u001b[0m \u001b[32m114.2/114.2 kB\u001b[0m \u001b[31m12.9 MB/s\u001b[0m eta \u001b[36m0:00:00\u001b[0m\n",
            "\u001b[2K     \u001b[90m━━━━━━━━━━━━━━━━━━━━━━━━━━━━━━━━━━━━━━\u001b[0m \u001b[32m158.8/158.8 kB\u001b[0m \u001b[31m17.1 MB/s\u001b[0m eta \u001b[36m0:00:00\u001b[0m\n",
            "\u001b[2K     \u001b[90m━━━━━━━━━━━━━━━━━━━━━━━━━━━━━━━━━━━━━━\u001b[0m \u001b[32m264.6/264.6 kB\u001b[0m \u001b[31m23.1 MB/s\u001b[0m eta \u001b[36m0:00:00\u001b[0m\n",
            "\u001b[2K     \u001b[90m━━━━━━━━━━━━━━━━━━━━━━━━━━━━━━━━━━━━━━\u001b[0m \u001b[32m199.2/199.2 kB\u001b[0m \u001b[31m20.1 MB/s\u001b[0m eta \u001b[36m0:00:00\u001b[0m\n",
            "\u001b[?25h  Building wheel for openai (pyproject.toml) ... \u001b[?25l\u001b[?25hdone\n",
            "  Building wheel for pathtools (setup.py) ... \u001b[?25l\u001b[?25hdone\n",
            "\u001b[33mWARNING: Running pip as the 'root' user can result in broken permissions and conflicting behaviour with the system package manager. It is recommended to use a virtual environment instead: https://pip.pypa.io/warnings/venv\u001b[0m\u001b[33m\n",
            "\u001b[0m"
          ]
        }
      ],
      "source": [
        "!pip install --upgrade pip\n",
        "!pip install -Uq openai wandb"
      ]
    },
    {
      "cell_type": "code",
      "execution_count": null,
      "metadata": {
        "id": "x48qUFw30-NU"
      },
      "outputs": [],
      "source": [
        "import openai\n",
        "import wandb\n",
        "from pathlib import Path\n",
        "import pandas as pd\n",
        "import numpy as np\n",
        "import json\n",
        "from tqdm import tqdm\n",
        "from sklearn.model_selection import train_test_split"
      ]
    },
    {
      "cell_type": "code",
      "execution_count": null,
      "metadata": {
        "id": "b87W6_B11Wvv",
        "colab": {
          "base_uri": "https://localhost:8080/",
          "height": 35
        },
        "outputId": "57b5d9a7-f2b7-4cdc-d34c-1f204b72cf9d"
      },
      "outputs": [
        {
          "output_type": "execute_result",
          "data": {
            "text/plain": [
              "'./api.txt'"
            ],
            "application/vnd.google.colaboratory.intrinsic+json": {
              "type": "string"
            }
          },
          "metadata": {},
          "execution_count": 22
        }
      ],
      "source": [
        "#Entering API Credentials\n",
        "openai.api_key_path = \"./api.txt\"\n"
      ]
    },
    {
      "cell_type": "markdown",
      "metadata": {
        "id": "CFHJWRAXoOcU"
      },
      "source": [
        "## Dataset Prepration\n",
        "\n",
        "The dataset was processed in R by scrapping relevant documents and cleaning it into the JSON format required to finetune the mdoel. The dataset are split based on sector and portion of AIMM narrative it is expected to generate. \n",
        "\n",
        "1. Sector:\n",
        "  1. FIG\n",
        "  2. MAS\n",
        "  3. CDF\n",
        "  4. INR\n",
        "2. Section of AIMM narrative\n",
        "  1. Project narrative\n",
        "  2. Market narrative \n",
        "  3. Indicators\n",
        "\n",
        "In addition different variation of prompts are also explored - creating different models. \n",
        "\n",
        "## Model naming convention\n",
        "\n",
        "In order to keep track of the models they are to be named using the following convention: \"SSS-IN-GEN-XXXX\"\n",
        "* SSS: Refers to Sector of the model's focus\n",
        "* IN: Refers to model input, can be BP for Board Papers and GE for Generic documents\n",
        "* GEN: Refers to which section the model is trying to generate. Can be one of the following:\n",
        "  * PRO: Project narrative\n",
        "  * MAR: Market narrative\n",
        "  * IND: Indicators\n",
        "* XXXX: Refers to the number of the model - as various models might be created to accomodate various prompts. This can also be alpha numeric.\n",
        "\n",
        "\n"
      ]
    },
    {
      "cell_type": "code",
      "execution_count": null,
      "metadata": {
        "id": "8wBYzA_hCm8p"
      },
      "outputs": [],
      "source": [
        "project_name = 'FIG-BP-PRO'\n",
        "model_name = 'ALL-BP-MAR-0001'"
      ]
    },
    {
      "cell_type": "markdown",
      "metadata": {
        "id": "li0JRCSo6ISg"
      },
      "source": [
        "# Fine Tuning \n",
        "\n",
        "Fine tuning involves the following steps:\n",
        "1. Preparing the dataset: Datset is here split into training and validation sets. Before the split - the prompts are also shared with OpenAI to see if they are aligned with the requirements for finetuning.\n",
        "2. FineTuning: This is where the split datasets are shared with OpenAI for finetuning of the GPT model. The final model is saved and can be accessed both here and on OpenAI playground.  \n",
        "\n",
        "## Preping the dataset"
      ]
    },
    {
      "cell_type": "code",
      "execution_count": null,
      "metadata": {
        "colab": {
          "base_uri": "https://localhost:8080/",
          "height": 191
        },
        "id": "KiHs1hwP7OqG",
        "outputId": "f4109c25-4373-404c-dabe-4b7d6b1fe6f7"
      },
      "outputs": [
        {
          "output_type": "display_data",
          "data": {
            "text/plain": [
              "<IPython.core.display.Javascript object>"
            ],
            "application/javascript": [
              "\n",
              "        window._wandbApiKey = new Promise((resolve, reject) => {\n",
              "            function loadScript(url) {\n",
              "            return new Promise(function(resolve, reject) {\n",
              "                let newScript = document.createElement(\"script\");\n",
              "                newScript.onerror = reject;\n",
              "                newScript.onload = resolve;\n",
              "                document.body.appendChild(newScript);\n",
              "                newScript.src = url;\n",
              "            });\n",
              "            }\n",
              "            loadScript(\"https://cdn.jsdelivr.net/npm/postmate/build/postmate.min.js\").then(() => {\n",
              "            const iframe = document.createElement('iframe')\n",
              "            iframe.style.cssText = \"width:0;height:0;border:none\"\n",
              "            document.body.appendChild(iframe)\n",
              "            const handshake = new Postmate({\n",
              "                container: iframe,\n",
              "                url: 'https://wandb.ai/authorize'\n",
              "            });\n",
              "            const timeout = setTimeout(() => reject(\"Couldn't auto authenticate\"), 5000)\n",
              "            handshake.then(function(child) {\n",
              "                child.on('authorize', data => {\n",
              "                    clearTimeout(timeout)\n",
              "                    resolve(data)\n",
              "                });\n",
              "            });\n",
              "            })\n",
              "        });\n",
              "    "
            ]
          },
          "metadata": {}
        },
        {
          "output_type": "stream",
          "name": "stderr",
          "text": [
            "\u001b[34m\u001b[1mwandb\u001b[0m: Logging into wandb.ai. (Learn how to deploy a W&B server locally: https://wandb.me/wandb-server)\n",
            "\u001b[34m\u001b[1mwandb\u001b[0m: You can find your API key in your browser here: https://wandb.ai/authorize\n",
            "wandb: Paste an API key from your profile and hit enter, or press ctrl+c to quit:"
          ]
        },
        {
          "name": "stdout",
          "output_type": "stream",
          "text": [
            " ··········\n"
          ]
        },
        {
          "output_type": "stream",
          "name": "stderr",
          "text": [
            "\u001b[34m\u001b[1mwandb\u001b[0m: Appending key for api.wandb.ai to your netrc file: /root/.netrc\n"
          ]
        },
        {
          "output_type": "display_data",
          "data": {
            "text/plain": [
              "<IPython.core.display.HTML object>"
            ],
            "text/html": [
              "Tracking run with wandb version 0.13.11"
            ]
          },
          "metadata": {}
        },
        {
          "output_type": "display_data",
          "data": {
            "text/plain": [
              "<IPython.core.display.HTML object>"
            ],
            "text/html": [
              "Run data is saved locally in <code>/content/wandb/run-20230309_173711-oqdv1btr</code>"
            ]
          },
          "metadata": {}
        },
        {
          "output_type": "display_data",
          "data": {
            "text/plain": [
              "<IPython.core.display.HTML object>"
            ],
            "text/html": [
              "Syncing run <strong><a href='https://wandb.ai/cdi/FIG-BP-PRO/runs/oqdv1btr' target=\"_blank\">avid-grass-2</a></strong> to <a href='https://wandb.ai/cdi/FIG-BP-PRO' target=\"_blank\">Weights & Biases</a> (<a href='https://wandb.me/run' target=\"_blank\">docs</a>)<br/>"
            ]
          },
          "metadata": {}
        },
        {
          "output_type": "display_data",
          "data": {
            "text/plain": [
              "<IPython.core.display.HTML object>"
            ],
            "text/html": [
              " View project at <a href='https://wandb.ai/cdi/FIG-BP-PRO' target=\"_blank\">https://wandb.ai/cdi/FIG-BP-PRO</a>"
            ]
          },
          "metadata": {}
        },
        {
          "output_type": "display_data",
          "data": {
            "text/plain": [
              "<IPython.core.display.HTML object>"
            ],
            "text/html": [
              " View run at <a href='https://wandb.ai/cdi/FIG-BP-PRO/runs/oqdv1btr' target=\"_blank\">https://wandb.ai/cdi/FIG-BP-PRO/runs/oqdv1btr</a>"
            ]
          },
          "metadata": {}
        }
      ],
      "source": [
        "# create a job for splitting dataset\n",
        "run = wandb.init(project=project_name, job_type='split dataset')"
      ]
    },
    {
      "cell_type": "code",
      "execution_count": null,
      "metadata": {
        "id": "ZxedbhgI7Pg7"
      },
      "outputs": [],
      "source": [
        "# download full dataset\n",
        "dataset_path = \"./\"+model_name+\".json\""
      ]
    },
    {
      "cell_type": "code",
      "execution_count": null,
      "metadata": {
        "colab": {
          "base_uri": "https://localhost:8080/"
        },
        "id": "J_nHuJzL8HL7",
        "outputId": "e057ed65-96d6-46e9-a612-7e2595c03159"
      },
      "outputs": [
        {
          "output_type": "stream",
          "name": "stdout",
          "text": [
            "{\"prompt\":\"The proposed project consists of an equity investment of up to USD30 million AfricInvest IV LLC ('AF IV' or the 'Fund'), a generalist, closed-end private equity fund domiciled in Mauritius with a target size of USD500 million. Fund will invest in mid-market growth capital transactions in Africa. The Project is in IFC sector P-BA - Growth Equity Fund and in Africa Region.\\n\\n###\\n\\n\",\"completion\":\" Assessment of Contribution to Market Creation Summary: The Contribution to Market Creation rating is Moderate with a Medium likelihood of achievement. The likelihood assessment is based on: (i) the success of the project itself in generating sustained growth for its investees in relatively challenging markets and in delivering proof of concept to investors in this region; and tempered by (ii) the complex nature of African PE markets where the risk perception of private institutional investors has remained relatively high, despite the success of multiple interventions (incl. by other FMs e.g. Helios and DPI) in the past, and noting that Fund IV remains heavily reliant on DFI funding; and (iii) a relatively high country macroeconomic and political risk level for Africa, despite growth outlooks gradually becoming more positive. Competitiveness –Supporting the growth of the existing PE ecosystem and potentially increasing PE market activity within Africa, including in markets where exposure to PE activity is extremely limited. PE market activity within Africa is relatively limited with the region attracting on average approx. four percent of annual total emerging market PE investment volumes in the last five years, while in comparison the region represented on average seven percent of annual total emerging market GDP. Post 2014-15, the prevailing macroeconomic challenges in Africa resulted in a fall in interest from private institutional LPs, making DFI engagement crucial for the sustainability of the African PE market. At present, despite improvements in the region’s macroeconomic outlook and demonstrated success of fund managers such as Helios and ADP, investor risk perception for the region continues to remain relatively high with investor sentiment reflecting a scarcity of investable opportunities given the amount of dry powder in circulation and difficulties in achieving exits for mid to large-cap companies. This is further exacerbated outside of markets such as South Africa, Kenya, Nigeria, where the PE ecosystem often lacks the basic building blocks for essential functioning. Furthermore, significant exchange rate volatility is a key risk, negatively impacting fund returns in USD. As a result, regional funds continue to be the preferred investment vehicles for fund managers in Africa and presently there are around four other Pan-African institutional PE fund managers, namely Amethis, ECP, Investec, DPI and XX, operating in the PE market segment being targeted by AfricInvest (typical deal size of US$20-50 million). In this context, IFC’s continued support of AfricInvest is expected to send a positive signal and demonstrate the sustainability of PE markets in the region, especially considering the fund’s focus on markets with extremely limited exposure to private equity. Africinvest is one of the largest and longest serving PE fund managers in Africa, with the fund manager’s investment strategy evolving from the management of evergreen investment vehicles focused primarily on Tunisia to raising dedicated funds for the Maghreb and Sub-Saharan Africa regions’ over the last 25 years . As such, AF IV is expected to be an important addition to the African PE market. However, given the track record of past interventions in Africa (including previous AfricInvest funds) AfricInvest IV is expected to only moderately deepen the region’s PE markets. This is evidenced by AfricInvest’s continued high reliance on DFI support in successive funds, even in the presence of positive returns over time, which highlights the complexity of creating a privately supported private equity market in the region. In contrast, the failure of AfricInvest IV to raise a successive fund could potentially send a negative signal to the market which could further increase investor risk perception and negatively impact PE market activity in the region. IFC will measure market progress by tracking the number of new Pan-Africa focused PE funds raised.\\n[END]\"}\n",
            "{\"prompt\":\"IFC proposes an equity investment of up to US$20 million into SPE AIF I L.P (the Fund), alongside a US$20 million co-investment envelope. The Fund is targeting US$200 million of commitments to pursue growth capital investments in small to mid-cap companies in North Africa. The Project is in IFC sector P-BA - Growth Equity Fund and in Middle East Region.\\n\\n###\\n\\n\",\"completion\":\" Assessment of Contribution to Market Creation Summary: The Contribution to Market Creation rating is Moderate with a Low likelihood of achievement. The likelihood assessment is based on: (i) the uncertainty over whether the new LPs will actually support the present fund and participate in follow-on funds, and the success of the fund in achieving final close at the target size; (ii) the challenging nature of the PE market in MENA, specifically in North Africa, with continued high risk perception of investors, which results in an inherent difficulty to bolster the PE market and to retain LPs in these markets; and (iii) a relatively high country macroeconomic and political risk, despite growth outlooks gradually becoming more positive. Integration – Increased participation of private and institutional LPs in the PE market, broadening the investor base. In the aftermath of the Global Financial Crisis and the Arab Spring, which almost wiped out the entire PE asset class in the region, investor confidence in this asset class has been muted, with many commercial investors allocating capital to other emerging markets. Most of the fundraising activity heavily relies on contributions from bilateral and multilateral DFIs, even for established and performing fund managers. In this context, SPE Capital raising its first independent fund, mostly with DFIs (like other Fund managers) but also with the support of some LPs who have had no exposure to North Africa before (Sango Capital), and possibly others (Abudaoud Group, AfricaGrow, Abu Dhabi Fund for Development), is expected to send an important signal. Should several of these possible new LPs commit and remain in the market by participating in follow-on funds focused on North Africa, this intervention could encourage other private institutional investors, domestic or regional LPs, who have the capabilities to deploy in North Africa. Given the track record of interventions in North Africa and the PE market remaining underdeveloped, markedly so in Egypt, the strength of this signal through demonstration and replication effects will only be gaged ex post and depends on the success of this fund. To measure progress IFC will track the number of new LPs investing in North Africa, and current LPs staying on for follow-on funds in the region, including with another fund raised by this Fund Manager. Competitiveness - Increased competitiveness in the PE market in North Africa: In addition, this intervention will support increased competitiveness in the PE market in North Africa, where PE activity is extremely limited in relation to its economy, by demonstrating the viability and sustainability of the PE business model and a fund manager with local operations and staff. Some regional fund managers have raised North-Africa focused funds in the past (e.g. AfricInvest, Mediterrania Capital), and the locally-based fund managers with on-the-ground presence, such as SPE Capital, are instrumental in building a viable PE market there. IFC’s support, alongside other DFIs, is expected to send a positive signal towards increasing the competitiveness of the PE market in North Africa. The success of SPE Capital will contribute to the strengthening of the market by locally-based fund managers and reduce risk perceptions. This is could lead to a reduction of DFIs share of capital in subsequent funds raised (including follow-up funds SPE Capital may raise), and ultimately to increased market activity. To measure progress IFC will track the number of new North-Africa-focused fund managers or follow-on funds with decreased DFI LP share.\\n[END]\"}\n",
            "{\"prompt\":\"Mekong Enterprise Fund IV Limited Partnership ('the Fund'), a Cayman Islands exempted limited partnership, is a private equity ('PE') fund seeking $200 million in capital commitments to build a portfolio of equity investments in middle market, growth-oriented companies in Vietnam. The Project is in IFC sector P-BA - Growth Equity Fund and in Vietnam.\\n\\n###\\n\\n\",\"completion\":\" Assessment of Contribution to Market Creation Summary: The Contribution to Market Creation rating is Moderate with a Medium likelihood of achievement. The likelihood assessment is based on; (i) the success of the fund itself in achieving a final close at the target size, sending a positive signal to the market; (ii) the inherent difficulty in bolstering the country’s PE market despite a relatively conducive environment and fund managers having demonstrated some successes in the past; and (iii) the macro-economic outlook in the country being vulnerable to trade uncertainty. The Project’s contribution to market creation includes: Competitiveness – Development of a local PE market through the support of a country-focused Fund manager with local operations and staff: The PE market in Vietnam is characterized by limited and intermittent activity volumes over time. Fund Managers in SEA typically use mandates to invest sporadically out of regional funds, owing to the higher risk perception related to country-focused funds. In Vietnam, this has not yet resulted in growing the domestic PE market, especially in the mid-market market segment. 87 percent of the investments are in the large cap segment (> US$ 50 million), which means that sporadic large deals are more common than sustained smaller deals for mid-market companies. In the past few years the mid-market segment has started to see intermittent activity from regional funds (VUS bought by Abraaj, ILA bought by EQT Capital, VAS purchased by TPG, Lombard and Navis). In addition to Mekong, there are three country-focused fund managers (VI – Vietnam Investments Group, Vina Capital, and PENM) operating in the local Vietnamese PE market. DFI participation in the Vietnamese PE market is also limited, with IFC being one of the few DFIs actively investing in Vietnam-focused funds. Despite IFC’s past interventions in VI Group’s Funds I and II and Mekong’s Fund III, the country’s PE market has remained stable and has not been deepening over the last years even despite the strong consumer-demand driven economic growth. In this context, the demonstration of success of Mekong IV in achieving a successful final close at target size (almost doubling the size of its previous fund) has the potential to send a positive signal of confidence to the market, as it represents a proof of concept of the sustainability of the PE business model in Vietnam. Given the nature of the PE industry, the signal sent by Fund IV will combine with that sent when IFC and others backed Fund III, since investors tend to require a credible and established track record of successes before changing their risk perceptions. Considering that the successes of fund managers such as Mekong and VI Group in the past have not resulted in any recent further deepening in the Vietnamese PE market, Mekong IV alone, while representing an important addition to the market, is not expected to substantially change the structure or activity level in the market in the short term. While Mekong will continue to demonstrate the long-term viability of a business model based on a country-focused fund that is locally operated, sustainability and deepening of the local market through a higher number of local fund managers or increased participation from institutional investors is not possible to anticipate at this stage with certainty. To measure progress IFC will track the number of new Vietnam-focused PE funds raised.\\n[END]\"}\n",
            "{\"prompt\":\"IFC proposes an equity investment of up to US$ 10 million into India Alternatives Private Equity Fund II (the Fund), a scheme of India Alternatives Private Equity Trust ('Trust'). A We-Fi commitment of up to US$ 0.5 million is also being considered. The Fund is targeting US$ 70 million of commitments to pursue growth capital investments in small to mid-cap companies in India. The Project is in IFC sector P-BA - Growth Equity Fund and in India.\\n\\n###\\n\\n\",\"completion\":\" Assessment of Contribution to Market Creation Summary: The Contribution to Market Creation is rated Moderate with a Medium likelihood of achievement. The likelihood assessment is based on: (i) the fundraising of this fund being on track, including with domestic LPs, despite the barriers to gender balance in the industry; (ii) the long-term outlook and structural dynamism of the Indian economy despite disruption associated with the increasingly uncertain developments with Covid-19; tempered by (iii) the small footprint of the fund, which limits the scope of the demonstration effect. The project’s contribution to market creation includes: Inclusiveness - Developing inclusive business models and practices, by supporting a woman-led Fund manager. While the India PE industry has a number of fund managers, the number of high-quality fund managers is limited, and those who have the capacity and awareness to extend their reach to underserved groups (e.g. female business leaders) is limited. Leading by example and providing gender outreach activities and training are paramount in the PE industry, where it is acknowledged that women are underrepresented among the investment decision-makers as well as in the leadership of companies that receive investment capital (Moving Toward Gender Balance). This underrepresentation is notable in the case of India, which lags other emerging economies in gender diversity in the PE market. IFC’s research outlines the benefits of gender balance in leadership; notably, India Alternatives is one of two woman-led PE firms in India, in addition to Multiples. By supporting women-led Funds, IFC hopes to help demonstrate such benefits. Furthermore, a growing body of evidence shows how investee companies can benefit from investing in women leadership. IFC/World Bank analysis makes the business case for women-led businesses; as an illustration, within IFC’s portfolio of 243 Funds, only 5% have woman CEOs whereas Funds with a woman Managing Partner generate twice as much TVPI (a measure of the fund’s investment multiple). India Alternatives is partnering with IFC to strengthen an environment conducive to developing more inclusive business models and practices, which entails having a strategy to grow (coach and train) women in senior positions, to increase the potential for women business leaders. IFC expects the success of this project will have an exemplary impact on other PE market participants and at the level of its investees, notably by promoting female entrepreneurship, inter alia, by (i) supporting investees to achieve a proportion of 30 percent women at CXO level across its investee companies, (ii) convening regular training and coaching activities to emulate female entrepreneurship, and (iii) offering IFC’s gender-lens training to the network of investees or potential investees. Given India Alternatives’ track record, both at the Fund level – where 3 out of 5 senior managing partners are women, and given it is also developing a gender framework with the We-Fi team to promote gender diversity, IFC expects the success of this project to demonstrating viability of inclusive business models and practices and encouraging replication. IFC will track the number of additional woman-led funds in the Indian growth PE market (including by India Alternatives, or by a new Fund Manager), engaging in gender outreach activities.\\n[END]\"}\n",
            "{\"prompt\":\"The proposed investment is for up to US$25 million in Navis CLMV Co-Investment Fund, L.P. ('the Fund' or 'the CLMV Fund'), a US$150 million (target) buyout fund investing into Cambodia, Laos, Myanmar and Vietnam ('CLMV'). The Fund will be managed by Navis Capital Partners Limited or an affiliate thereof ('Navis') and will co-invest alongside Navis Asia Fund VIII, L.P. and its parallel funds ('Navis VIII') in investments in the CLMV markets. The Project is in IFC sector P-BA - Growth Equity Fund and in East Asia and Pacific Region.\\n\\n###\\n\\n\",\"completion\":\" Assessment of Contribution to Market Creation Summary: The Contribution to Market Creation is rated Strong with a Medium likelihood of achievement. The likelihood assessment is based on (i) the fund achieving a final close and finding deal flow in CLM, supported by the experience and reputation of the sponsors; tempered by (ii) the inherent difficulty and time required to bolster a nascent PE market (in CLM in particular), compounded by high perception risks of CLM countries; and (iii) the long-term macro-economic outlook in the target countries. The project’s contribution to market creation includes: Competitiveness – Developing the nascent PE market in the CLM region through the expansion of a regional fund, resulting in strengthening the PE ecosystem. In Vietnam, the PE market displays limited and intermittent activity, especially in the small to mid-market segment, and sporadic large deals are more common; whereas the PE market in the CLM countries is nascent. There are a handful of small fund managers in Myanmar, and PE activity is extremely limited with currently no funds dedicated specifically to Cambodia or Laos. The CLM markets may attract sporadic investments from a limited number of regional funds, such as Lombard Investments and the Cambodia-Laos-Myanmar Development Fund, and the PE market lacks robust foundations. Progress in deepening the PE ecosystem has so far been marginal, as the existing small funds remain focused on the smaller end of the market, no established ecosystem exists, and any limited activity is almost exclusively reliant on DFI support (including IFC). Navis, by setting up a dedicated CLMV fund, shows explicit intent to reach these markets, which are considered risky and, as a result, are hardly served by PE fund managers. The Navis-CLMV vehicle combines a sizeable target of US$450 million mobilized into the CLMV markets with the solid reputation and high visibility of the sponsor. This investment will strengthen the overall PE market in at least two dimensions through a meaningful demonstration effect: i) it will provide an avenue for smaller fund managers to exit, i.e. for businesses which have grown to a certain size to change hands to more professional fund managers that are accustomed to helping them address challenges unique to them at that stage of expansion; this effect will add resilience and depth to the PE market, and ii) given the co-investment by Navis VIII alongside Navis CLMV, the LPs of Navis VIII will be exposed to and gain familiarity with the CLMV region, further integrating these countries’ capital markets, and potentially establishing ties in these markets for the medium to long term. Recognizing that there remain obstacles for the market to develop further, Navis-CLMV setting foot in the most frontier markets, in CLM, is expected to meaningfully strengthen the structure of this market (by providing an avenue for smaller funds to exit) and increase activity in this market in the short to medium term (by adding US$450 million in investments). To measure progress, IFC will track the number of PE funds raised with regional scope and an explicit CLM focus (i.e. an allocation to CLM of at least 40 percent). Due to the current and expected prolonged market uncertainties at time of writing, a conservative view is taken. However, upon monitoring, if other fund managers follow this example and set up a new fund in these geographies with a substantial allocation to CLM, the demonstration effect could be reassessed as significant, potentially resulting in very strong market creating impact.\\n[END]\"}\n",
            "{\"prompt\":\"Founded in 2017, SeeTree Systems Limited ('SeeTree', or 'Company') is an Israel based high-tech start-up that provides analytics services to growers of permanent crops. It is headquartered in Tel Aviv, Israel with customers currently across California (USA), Brazil and pilots in South Africa, Chile and Indonesia.The core product of SeeTree is developing precision agriculture solution at macro level grove and micro tree level data. Customers have the option of choosing from a basic package which gives them basic view of tree health, and layer on additional features, such as early disease detection and yield improvement recommendations. SeeTree uses all-terrain vehicles (ATVs), drone technology and on the ground teams to collect and ground-truth data.In addition to its headquarters in Israel, where are based the management and operational teams, Research and Development (R&D), and the 'Intelligence Desks' which are the teams responsible to conduct the analytical services provided by the company, SeeTree has a R&D Center in Ukraine performing engineering and software development, and two subsidiaries in the United States and Brazil running field operations including data-collection and customer management. Going forward, the company plans to open new markets and establish new subsidiaries at new locations such as Europe and Southeast Asia. IFC is considering an equity investment of up to US$8 million to be used for the Company's expansion plans The Project is in IFC sector A-AF - Fruits and Vegetables and in Israel.\\n\\n###\\n\\n\",\"completion\":\" Assessment of Contribution to Market Creation Summary: The Contribution to Market Creation rating is Moderate with Medium likelihood of achievement. The likelihood assessment considers the following aspects: (i) limited capacity of the market to absorb expansion by competitors as precision agriculture technologies based on aerial imagery catered mainly to large farms; (ii) strong first-mover advantage as the Company’s AI algorithm is powered by unique data, costly to replicate by competitors; and iii) limited availability of VC for competitors due to uncertain macro outlook as a result of COVID-19. Large-scale expansion of disruptive agriculture technologies startups like SeeTree have triggered market-wide adoption in more advanced markets. In China, for instance, the digital agriculture economy accounted for 7.3 percent of agricultural value added in 2018. Against this background, the Project’s Contribution to Market Creation includes: Competitiveness – Increased competitiveness of the permanent crops sector in Brazil by further stimulating the adoption of precision agriculture technologies via demonstration and replication channels. The Brazilian permanent crop sector is generally developed with a growing level of technological innovation throughout the value chain, and the presence of several large-scale precision agriculture companies. The country accounted for half of agriculture technologies startups in Latin America with increasing specialization across the entire agriculture value chain. In addition, the Company’s business model caters to large agribusiness companies with high level of technology adoption. IFC anticipates that the Project will contribute to maintain the competitiveness of the permanent crop sector in Brazil by enabling the adoption of precision agriculture technologies via demonstration and replication channels. A successful expansion by the Company may further demonstrate the potential of AI in enhancing agriculture productivity, stimulate additional demand for precision agriculture technologies and potentially induce the entry of new tech companies with similar or complementary technologies. The Company’s technology also has the potential to trigger market changes such as the development of the ‘spoke-and-hub’ farming model if implemented in lower-middle or low-income countries. It may also increase the traceability of fruits, particularly to deal with issues of rejections when crossing borders. For the growers the ability to measure and track pesticides application per tree will help both reduce overall usage and detect anomalies that may have translated in limits being exceeded on certain trees of rows of trees. However, such outcomes are not mesurable at the moment as the Company is still focused on upper-middle income countries. To measure progress against these Market Creation Outcomes, IFC will track i) number of new AgTech companies with similar precision agriculture technology in Brazil, and ii) 2-year average VC investment in agriculture technologies in Brazil (see AIMM reporting table below).\\n[END]\"}\n",
            "{\"prompt\":\"SeeTree Systems Limited ('SeeTree', or 'Company') is an Israel based high-tech company that provides analytics services to growers of permanent crops. The Company was founded in 2017 and is headquartered in Tel Aviv, Israel with customers currently across California (USA), Brazil and South Africa, and pilots in Argentina and Indonesia. The proposed investment will support the Company's expansion plans. The Project is in IFC sector A-AF - Fruits and Vegetables and in Israel.\\n\\n###\\n\\n\",\"completion\":\" Assessment of Contribution to Market Creation Summary: The Contribution to Market Creation rating is Moderate with Medium likelihood of achievement. The likelihood assessment considers the following aspects: (i) limited capacity of the market to absorb expansion by competitors as precision agriculture technologies based on aerial imagery catered mainly to large farms; (ii) strong first-mover advantage as the Company’s AI algorithm is powered by unique data, costly to replicate by competitors; and iii) limited availability of VC for competitors due to uncertain macro outlook as a result of COVID-19. Large-scale expansion of disruptive agriculture technologies startups like SeeTree have triggered market-wide adoption in more advanced markets. In China, for instance, the digital agriculture economy accounted for 7.3 percent of agricultural value added in 2018. Against this background, the Project’s Contribution to Market Creation includes: Competitiveness – Increased competitiveness of the permanent crops sector in Brazil by further stimulating the adoption of precision agriculture technologies via demonstration and replication channels. The Brazilian permanent crop sector is generally developed with a growing level of technological innovation throughout the value chain, and the presence of several large-scale precision agriculture companies. The country accounted for half of agriculture technologies startups in Latin America with increasing specialization across the entire agriculture value chain. In addition, the Company’s business model caters to large agribusiness companies with high level of technology adoption. IFC anticipates that the Project will contribute to maintain the competitiveness of the permanent crop sector in Brazil by enabling the adoption of precision agriculture technologies via demonstration and replication channels. A successful expansion by the Company may further demonstrate the potential of AI in enhancing agriculture productivity, stimulate additional demand for precision agriculture technologies and potentially induce the entry of new tech companies with similar or complementary technologies. The Company’s technology also has the potential to trigger market changes such as the development of the ‘spoke-and-hub’ farming model if implemented in lower-middle or low-income countries. It may also increase the traceability of fruits, particularly to deal with issues of rejections when crossing borders. For the growers the ability to measure and track pesticides application per tree will help both reduce overall usage and detect anomalies that may have translated in limits being exceeded on certain trees of rows of trees. However, such outcomes are not mesurable at the moment as the Company is still focused on upper-middle income countries. To measure progress against these Market Creation Outcomes, IFC will track i) number of new AgTech companies with similar precision agriculture technology in Brazil, and ii) 2-year average VC investment in agriculture technologies in Brazil (see AIMM reporting table below).\\n[END]\"}\n",
            "{\"prompt\":\"Bolt was launched in Estonia in 2013 and is a leading global mobility platform, operating in over 200 cities across more than 40 countries, with a focus on Africa and Central and Eastern Europe ('CEE'). The Company's three core offerings include: (i) Ridehailing: on-demand ride booking of cars, motorcycles, and tuktuks; (ii) E-mobility rentals: dockless electric scooter rentals and e-bikes; and (iii) Delivery: on-demand food, grocery, and business deliveries. The Company has more than 50 million customers and 1.5 million drivers globally. As of 2019, some of the platform's largest markets by number of rides include: South Africa, Nigeria, Poland, Kenya, and Azerbaijan.IFC is considering a EUR 20 million investment in Bolt in the form of a convertible note. The proceeds of the financing are expected to help support the Company as it: (i) expands further into Tier 2 and 3 cities in Africa and CEE; (ii) grows its food delivery product, and (iii) introduces financial service products in Africa and CEE. The Project is in IFC sector E-BD - Other Support Activities for Transportation (Grain Terminals, Cargo Terminals, Airport Operations) and in Africa Region.\\n\\n###\\n\\n\",\"completion\":\" Assessment of Contribution to Market Creation Summary: The Contribution to Market Creation rating is Moderate with Medium likelihood of achievement. The likelihood assessment considers: (i) the large capacity of the markets to absorb expansion by competitors especially in underserved cities; and is mitigated by (ii) regulatory risks limiting competitors’ response to the Company’s expansion; and (iii) limited availability of VC funding for competitors due to uncertain macro outlook as a result of COVID-19. Competitiveness – Increased competitiveness of the last-mile urban mobility sector by enabling increased access to and usage of online mobility services beyond the Company via competition channels, especially in tier 2 and 3 cities in Nigeria, South Africa and Ukraine. The urban mobility sectors across SSA and ECA are characterized by the availability of a number of transportation services providers, including online mobility platforms. Nigeria and South Africa host a number of ride-hailing platforms, operating in addition to Uber and Bolt. In Ukraine the three largest mobility service providers (Uber, Uklon and Bolt) have presence across major cities (Kiev, Odessa). Apart from mobility services, bike sharing and electric scooters are becoming increasingly common in the target markets. However, the penetration of online ride-hailing and micro-mobility services remains limited in the target markets, especially in the tier 2 and 3 cities. IFC anticipates that the Project will contribute to maintain the competitiveness of the urban mobility sector across SSA and ECA by enabling increased access to and usage of online mobility services beyond the Company via competition channels, especially in tier 2 and 3 cities in Nigeria, South Africa and Ukraine. Its successful expansion will induce competitors to up their game, thereby increasing access to and usage of online urban mobility services in the target markets beyond the Company, including in tier 2 and 3 cities.\\n[END]\"}\n",
            "{\"prompt\":\"Bolt Technology OU ('Bolt' or the 'Company') is a global ride-hailing company, offering mobility, food, and delivery services through a digital platform. The Company was established in 2013 in Estonia and has since expanded its operations to more than 35 countries and 200 cities globally. The Project is in IFC sector E-BD - Other Support Activities for Transportation (Grain Terminals, Cargo Terminals, Airport Operations) and in Africa Region.\\n\\n###\\n\\n\",\"completion\":\" Assessment of Contribution to Market Creation Summary: The Contribution to Market Creation rating is Moderate with Medium likelihood of achievement. The likelihood assessment considers: (i) the large capacity of the markets to absorb expansion by competitors especially in underserved cities; and is mitigated by (ii) regulatory risks limiting competitors’ response to the Company’s expansion; and (iii) limited availability of VC funding for competitors due to uncertain macro outlook as a result of COVID-19. Competitiveness – Increased competitiveness of the last-mile urban mobility sector by enabling increased access to and usage of online mobility services beyond the Company via competition channels, especially in tier 2 and 3 cities in Nigeria, South Africa and Ukraine. The urban mobility sectors across SSA and ECA are characterized by the availability of a number of transportation services providers, including online mobility platforms. Nigeria and South Africa host a number of ride-hailing platforms, operating in addition to Uber and Bolt. In Ukraine the three largest mobility service providers (Uber, Uklon and Bolt) have presence across major cities (Kiev, Odessa). Apart from mobility services, bike sharing and electric scooters are becoming increasingly common in the target markets. However, the penetration of online ride-hailing and micro-mobility services remains limited in the target markets, especially in the tier 2 and 3 cities. IFC anticipates that the Project will contribute to maintain the competitiveness of the urban mobility sector across SSA and ECA by enabling increased access to and usage of online mobility services beyond the Company via competition channels, especially in tier 2 and 3 cities in Nigeria, South Africa and Ukraine. Its successful expansion will induce competitors to up their game, thereby increasing access to and usage of online urban mobility services in the target markets beyond the Company, including in tier 2 and 3 cities.\\n[END]\"}\n",
            "{\"prompt\":\"IFC is considering an investment of up to US$3 million in Microtraction Fund II (the Fund') through the Startup Catalyst Program. Microtraction Fund II is a $15 million seed stage fund focused on pre-seed and seed stage investments in tech and tech-enabled businesses in Sub Saharan Africa.The Fund will be supported by the Blended Finance Facility (BFF) of the IDA18 IFC-MIGA Private Sector Window (IDA PSW), created by the Word Bank Group to catalyze private sector investment in IDA countries, with a focus on fragile and conflict-affected states. The Project is in IFC sector P-BB - Venture Capital Fund and in Nigeria.\\n\\n###\\n\\n\",\"completion\":\" Market creation potential: Strong – The Fund is expected to increase market competitiveness by developing the local start-up ecosystems and initial building blocks for venture capital markets in a region with highly under-developed to under-developed venture capital ecosystems. This investment is expected to contribute to sending a signal on the viability of digital startups and venture investing in the region and thereby reduce their perceived risk profile. Market creation likelihood: Low – The project takes the Program likelihood assessment of low. The likelihood assessment is based on the challenging environment the region, characterized by macroeconomic and policy uncertainty especially amid the current COVID-19 crisis, and the inherent risk typical of early stage venture. Ensure tracking. Project Outcome, Market Creation and Reporting indicators (as shown in table below) need to be entered into IFC monitoring system for each project (no targets to be entered) for tracking purpose.\\n[END]\"}\n"
          ]
        }
      ],
      "source": [
        "!head $dataset_path"
      ]
    },
    {
      "cell_type": "code",
      "execution_count": null,
      "metadata": {
        "colab": {
          "base_uri": "https://localhost:8080/"
        },
        "id": "NcbedLhr8LNz",
        "outputId": "d4d7adeb-fe06-452b-bd42-2bf677aa0547"
      },
      "outputs": [
        {
          "output_type": "stream",
          "name": "stdout",
          "text": [
            "Analyzing...\n",
            "\n",
            "- Your JSON file appears to be in a JSONL format. Your file will be converted to JSONL format\n",
            "- Your file contains 736 prompt-completion pairs\n",
            "- There are 57 examples that are very long. These are rows: [15, 38, 66, 155, 171, 172, 173, 201, 202, 217, 218, 235, 236, 241, 242, 260, 263, 264, 341, 348, 364, 419, 434, 451, 473, 490, 494, 511, 523, 527, 529, 530, 539, 543, 549, 555, 565, 597, 599, 600, 603, 604, 649, 651, 655, 656, 683, 684, 685, 686, 687, 688, 701, 703, 707, 719, 721]\n",
            "For conditional generation, and for classification the examples shouldn't be longer than 2048 tokens.\n",
            "- All prompts end with suffix `.\\n\\n###\\n\\n`\n",
            "- All completions end with suffix `\\n[END]`\n",
            "\n",
            "Based on the analysis we will perform the following actions:\n",
            "- [Necessary] Your format `JSON` will be converted to `JSONL`\n",
            "- [Recommended] Remove 57 long examples [Y/n]: Y\n",
            "\n",
            "\n",
            "Your data will be written to a new JSONL file. Proceed [Y/n]: Y\n",
            "\n",
            "Wrote modified file to `./ALL-BP-MAR-0001_prepared.jsonl`\n",
            "Feel free to take a look!\n",
            "\n",
            "Now use that file when fine-tuning:\n",
            "> openai api fine_tunes.create -t \"./ALL-BP-MAR-0001_prepared.jsonl\"\n",
            "\n",
            "After you’ve fine-tuned a model, remember that your prompt has to end with the indicator string `.\\n\\n###\\n\\n` for the model to start generating completions, rather than continuing with the prompt. Make sure to include `stop=[\"\\n[END]\"]` so that the generated texts ends at the expected place.\n",
            "Once your model starts training, it'll approximately take 30.53 minutes to train a `curie` model, and less for `ada` and `babbage`. Queue will approximately take half an hour per job ahead of you.\n"
          ]
        }
      ],
      "source": [
        "!openai tools fine_tunes.prepare_data -f $dataset_path"
      ]
    },
    {
      "cell_type": "code",
      "execution_count": null,
      "metadata": {
        "colab": {
          "base_uri": "https://localhost:8080/"
        },
        "id": "Ti7EhJ-r8R-D",
        "outputId": "25d70f54-39cd-424c-848e-294825973482"
      },
      "outputs": [
        {
          "output_type": "stream",
          "name": "stdout",
          "text": [
            "679 ./ALL-BP-MAR-0001_prepared.jsonl\n"
          ]
        }
      ],
      "source": [
        "dataset_path = \"./\"+model_name+\"_prepared.jsonl\"\n",
        "# check number of samples\n",
        "!wc -l $dataset_path"
      ]
    },
    {
      "cell_type": "markdown",
      "metadata": {
        "id": "lb_lbts_pIDQ"
      },
      "source": [
        "Splitting it into training and testing set randomly with 25% going to testing set. \n",
        "* Training Set = 75% \n",
        "* Validation Set = 25% \n",
        "\n",
        "Also, logging the files into W&B for recordkeeping. "
      ]
    },
    {
      "cell_type": "code",
      "execution_count": null,
      "metadata": {
        "colab": {
          "base_uri": "https://localhost:8080/"
        },
        "id": "58mTu1PG8UfL",
        "outputId": "1a4884c0-2698-46a9-fa7d-5e229f6c2685"
      },
      "outputs": [
        {
          "output_type": "execute_result",
          "data": {
            "text/plain": [
              "<wandb.sdk.wandb_artifacts.Artifact at 0x7f0a5db9a0d0>"
            ]
          },
          "metadata": {},
          "execution_count": 37
        }
      ],
      "source": [
        "df = pd.read_json(dataset_path, orient='records', lines=True)\n",
        "df_train, df_test = train_test_split(df,test_size = 0.25,random_state = 42, shuffle = False)\n",
        "df_train.to_json(\"./\"+model_name+\"_train.jsonl\", orient='records', lines=True)\n",
        "df_test.to_json(\"./\"+model_name+\"_test.jsonl\", orient='records', lines=True)\n",
        "\n",
        "#Logging the files and tables into W&B \n",
        "table_train = wandb.Table(dataframe=df_train)\n",
        "table_valid = wandb.Table(dataframe=df_test)"
      ]
    },
    {
      "cell_type": "code",
      "source": [
        "# Create artifacts\n",
        "artifact_train = wandb.Artifact(model_name+\"_train.jsonl\", type='training_files', metadata={'samples': df_train.shape[0]})\n",
        "artifact_train.add_file(model_name+\"_train.jsonl\")\n",
        "artifact_train.add(table_train, model_name+\"_train.jsonl\")\n",
        "\n",
        "artifact_valid = wandb.Artifact(model_name+\"_test.jsonl\", type='validation_files', metadata={'samples': df_test.shape[0]})\n",
        "artifact_valid.add_file(model_name+\"_test.jsonl\")\n",
        "artifact_valid.add(table_valid, model_name+\"_test.jsonl\")\n",
        "\n",
        "# Log files\n",
        "run.log_artifact(artifact_train)\n",
        "run.log_artifact(artifact_valid)"
      ],
      "metadata": {
        "colab": {
          "base_uri": "https://localhost:8080/"
        },
        "id": "4acWze6nqA6J",
        "outputId": "dd6423f5-4a55-43ae-9a65-f84e911e31b5"
      },
      "execution_count": null,
      "outputs": [
        {
          "output_type": "execute_result",
          "data": {
            "text/plain": [
              "<wandb.sdk.wandb_artifacts.Artifact at 0x7f0a4f6b8520>"
            ]
          },
          "metadata": {},
          "execution_count": 62
        }
      ]
    },
    {
      "cell_type": "markdown",
      "metadata": {
        "id": "wL8pKbh0qqXB"
      },
      "source": [
        "Closing our dataprep run"
      ]
    },
    {
      "cell_type": "code",
      "execution_count": null,
      "metadata": {
        "colab": {
          "base_uri": "https://localhost:8080/",
          "height": 201
        },
        "id": "vkXaYc40qsKf",
        "outputId": "66b061b7-c04a-41bf-93c3-9d6b83605d5b"
      },
      "outputs": [
        {
          "output_type": "error",
          "ename": "AttributeError",
          "evalue": "ignored",
          "traceback": [
            "\u001b[0;31m---------------------------------------------------------------------------\u001b[0m",
            "\u001b[0;31mAttributeError\u001b[0m                            Traceback (most recent call last)",
            "\u001b[0;32m<ipython-input-64-cf2d6532ad8b>\u001b[0m in \u001b[0;36m<module>\u001b[0;34m\u001b[0m\n\u001b[1;32m      1\u001b[0m \u001b[0;31m# keep entity for reference of artifact later\u001b[0m\u001b[0;34m\u001b[0m\u001b[0;34m\u001b[0m\u001b[0m\n\u001b[0;32m----> 2\u001b[0;31m \u001b[0mentity\u001b[0m \u001b[0;34m=\u001b[0m \u001b[0mwandb\u001b[0m\u001b[0;34m.\u001b[0m\u001b[0mrun\u001b[0m\u001b[0;34m.\u001b[0m\u001b[0mentity\u001b[0m\u001b[0;34m\u001b[0m\u001b[0;34m\u001b[0m\u001b[0m\n\u001b[0m\u001b[1;32m      3\u001b[0m \u001b[0mwandb\u001b[0m\u001b[0;34m.\u001b[0m\u001b[0mfinish\u001b[0m\u001b[0;34m(\u001b[0m\u001b[0;34m)\u001b[0m\u001b[0;34m\u001b[0m\u001b[0;34m\u001b[0m\u001b[0m\n",
            "\u001b[0;31mAttributeError\u001b[0m: 'NoneType' object has no attribute 'entity'"
          ]
        }
      ],
      "source": [
        "# keep entity for reference of artifact later \n",
        "entity = wandb.run.entity\n",
        "wandb.finish()"
      ]
    },
    {
      "cell_type": "markdown",
      "metadata": {
        "id": "20f5YU5erAgU"
      },
      "source": [
        "## Fine Tuning the model\n"
      ]
    },
    {
      "cell_type": "code",
      "execution_count": null,
      "metadata": {
        "id": "A51VozQnsD5G"
      },
      "outputs": [],
      "source": [
        "train_file = \"./\"+model_name+\"_train.jsonl\"\n",
        "valid_file = \"./\"+model_name+\"_test.jsonl\""
      ]
    },
    {
      "cell_type": "markdown",
      "metadata": {
        "id": "AytRIGhisVq8"
      },
      "source": [
        "Defining Hyper parameters: \n",
        "\n",
        "Using the default hyper parameters by OpenAI, replacing model with Divinci 003."
      ]
    },
    {
      "cell_type": "code",
      "execution_count": null,
      "metadata": {
        "id": "9zaCtwX_r2IQ"
      },
      "outputs": [],
      "source": [
        "#Defining hyper parameters (using the default ones)\n",
        "model = 'davinci'  # using the best model : davinci\n",
        "n_epochs = 4\n",
        "batch_size = 4\n",
        "learning_rate_multiplier = 0.1\n",
        "prompt_loss_weight = 0.1"
      ]
    },
    {
      "cell_type": "code",
      "execution_count": null,
      "metadata": {
        "id": "E2yw5YFUxW1x"
      },
      "outputs": [],
      "source": [
        "import os\n",
        "os.environ[\"OPENAI_API_KEY\"] = \"<API KEY>\""
      ]
    },
    {
      "cell_type": "code",
      "execution_count": null,
      "metadata": {
        "colab": {
          "base_uri": "https://localhost:8080/"
        },
        "id": "h5etp9msr8q4",
        "outputId": "00cd73dd-9b4f-42e1-8e65-23bd35bed17f"
      },
      "outputs": [
        {
          "output_type": "stream",
          "name": "stdout",
          "text": [
            "\rUpload progress:   0% 0.00/2.74M [00:00<?, ?it/s]\rUpload progress: 100% 2.74M/2.74M [00:00<00:00, 2.20Git/s]\n",
            "Uploaded file from ./ALL-BP-MAR-0001_train.jsonl: file-l8WaNrBdadm0SiyIWsBE951A\n",
            "Upload progress: 100% 1.03M/1.03M [00:00<00:00, 1.11Git/s]\n",
            "Uploaded file from ./ALL-BP-MAR-0001_test.jsonl: file-3fVKE0Kgu2XaWC6ijQsWN7jd\n",
            "Created fine-tune: ft-orTwLKMNydHLhx7jVrksWTMZ\n",
            "Streaming events until fine-tuning is complete...\n",
            "\n",
            "(Ctrl-C will interrupt the stream, but not cancel the fine-tune)\n",
            "[2023-03-09 17:44:51] Created fine-tune: ft-orTwLKMNydHLhx7jVrksWTMZ\n",
            "\n",
            "Stream interrupted (client disconnected).\n",
            "To resume the stream, run:\n",
            "\n",
            "  openai api fine_tunes.follow -i ft-orTwLKMNydHLhx7jVrksWTMZ\n",
            "\n"
          ]
        }
      ],
      "source": [
        "!openai api fine_tunes.create \\\n",
        "    -t $train_file \\\n",
        "    -v $valid_file \\\n",
        "    -m $model \\\n",
        "    --n_epochs $n_epochs \\\n",
        "    --batch_size $batch_size \\\n",
        "    --learning_rate_multiplier $learning_rate_multiplier \\\n",
        "    --prompt_loss_weight $prompt_loss_weight \\\n",
        "    --suffix $model_name"
      ]
    },
    {
      "cell_type": "code",
      "execution_count": null,
      "metadata": {
        "colab": {
          "base_uri": "https://localhost:8080/"
        },
        "id": "OMfui19k0vkt",
        "outputId": "37ee49be-d673-4a8b-aa0e-415aad46cc50"
      },
      "outputs": [
        {
          "output_type": "stream",
          "name": "stdout",
          "text": [
            "[2023-03-09 17:44:51] Created fine-tune: ft-orTwLKMNydHLhx7jVrksWTMZ\n",
            "[2023-03-09 18:03:46] Fine-tune costs $63.01\n",
            "[2023-03-09 18:03:47] Fine-tune enqueued\n",
            "[2023-03-09 18:43:11] Fine-tune is in the queue. Queue number: 31\n",
            "[2023-03-09 18:44:21] Fine-tune is in the queue. Queue number: 30\n",
            "[2023-03-09 18:44:45] Fine-tune is in the queue. Queue number: 28\n",
            "[2023-03-09 18:44:46] Fine-tune is in the queue. Queue number: 28\n",
            "[2023-03-09 18:46:03] Fine-tune is in the queue. Queue number: 27\n",
            "[2023-03-09 18:47:08] Fine-tune is in the queue. Queue number: 26\n",
            "[2023-03-09 18:48:20] Fine-tune is in the queue. Queue number: 25\n",
            "[2023-03-09 18:49:26] Fine-tune is in the queue. Queue number: 24\n",
            "[2023-03-09 18:49:35] Fine-tune is in the queue. Queue number: 23\n",
            "[2023-03-09 18:50:37] Fine-tune is in the queue. Queue number: 22\n",
            "[2023-03-09 18:51:18] Fine-tune is in the queue. Queue number: 21\n",
            "[2023-03-09 18:51:21] Fine-tune is in the queue. Queue number: 20\n",
            "[2023-03-09 18:51:22] Fine-tune is in the queue. Queue number: 19\n",
            "[2023-03-09 18:52:13] Fine-tune is in the queue. Queue number: 18\n",
            "[2023-03-09 18:53:16] Fine-tune is in the queue. Queue number: 17\n",
            "[2023-03-09 18:53:25] Fine-tune is in the queue. Queue number: 16\n",
            "[2023-03-09 18:53:44] Fine-tune is in the queue. Queue number: 15\n",
            "[2023-03-09 18:54:16] Fine-tune is in the queue. Queue number: 14\n",
            "[2023-03-09 18:54:41] Fine-tune is in the queue. Queue number: 13\n",
            "[2023-03-09 18:56:29] Fine-tune is in the queue. Queue number: 12\n",
            "[2023-03-09 18:57:23] Fine-tune is in the queue. Queue number: 11\n",
            "[2023-03-09 18:57:43] Fine-tune is in the queue. Queue number: 10\n",
            "[2023-03-09 18:57:54] Fine-tune is in the queue. Queue number: 9\n",
            "[2023-03-09 18:58:35] Fine-tune is in the queue. Queue number: 8\n",
            "[2023-03-09 19:00:11] Fine-tune is in the queue. Queue number: 7\n",
            "[2023-03-09 19:00:15] Fine-tune is in the queue. Queue number: 6\n",
            "[2023-03-09 19:01:13] Fine-tune is in the queue. Queue number: 5\n",
            "[2023-03-09 19:02:33] Fine-tune is in the queue. Queue number: 4\n",
            "[2023-03-09 19:03:12] Fine-tune is in the queue. Queue number: 3\n",
            "[2023-03-09 19:03:29] Fine-tune is in the queue. Queue number: 2\n",
            "[2023-03-09 19:04:55] Fine-tune is in the queue. Queue number: 1\n",
            "[2023-03-09 19:05:41] Fine-tune is in the queue. Queue number: 0\n",
            "[2023-03-09 19:06:19] Fine-tune started\n",
            "[2023-03-09 19:13:51] Completed epoch 1/4\n",
            "[2023-03-09 19:19:51] Completed epoch 2/4\n",
            "[2023-03-09 19:25:51] Completed epoch 3/4\n",
            "[2023-03-09 19:31:50] Completed epoch 4/4\n",
            "[2023-03-09 19:32:35] Uploaded model: davinci:ft-international-finance-corporation:all-bp-mar-0001-2023-03-09-19-32-34\n",
            "[2023-03-09 19:32:36] Uploaded result file: file-id8sDX9Z7jsatTIP5UuJrGqT\n",
            "[2023-03-09 19:32:36] Fine-tune succeeded\n",
            "\n",
            "Job complete! Status: succeeded 🎉\n",
            "Try out your fine-tuned model:\n",
            "\n",
            "openai api completions.create -m davinci:ft-international-finance-corporation:all-bp-mar-0001-2023-03-09-19-32-34 -p <YOUR_PROMPT>\n"
          ]
        }
      ],
      "source": [
        "!openai api fine_tunes.follow -i ft-orTwLKMNydHLhx7jVrksWTMZ"
      ]
    },
    {
      "cell_type": "markdown",
      "metadata": {
        "id": "ZkzTIoNgsjxv"
      },
      "source": [
        "### Syncing FineTune Jobs to W&B\n",
        " \n",
        " Logging Fine Tune with W&B to use later\n",
        " "
      ]
    },
    {
      "cell_type": "code",
      "execution_count": null,
      "metadata": {
        "colab": {
          "base_uri": "https://localhost:8080/"
        },
        "id": "KuZjW0Jqsro1",
        "outputId": "ca7dfb35-c757-46b5-fd66-2c27bc8d5128"
      },
      "outputs": [
        {
          "output_type": "stream",
          "name": "stdout",
          "text": [
            "\u001b[34m\u001b[1mwandb\u001b[0m: Currently logged in as: \u001b[33mgjain5\u001b[0m (\u001b[33mcdi\u001b[0m). Use \u001b[1m`wandb login --relogin`\u001b[0m to force relogin\n",
            "No new successful fine-tunes were found\n",
            "🎉 wandb sync completed successfully\n"
          ]
        }
      ],
      "source": [
        "!openai wandb sync\n",
        "wandb.finish()"
      ]
    }
  ],
  "metadata": {
    "colab": {
      "provenance": [],
      "include_colab_link": true
    },
    "kernelspec": {
      "display_name": "Python 3",
      "name": "python3"
    },
    "language_info": {
      "name": "python"
    }
  },
  "nbformat": 4,
  "nbformat_minor": 0
}